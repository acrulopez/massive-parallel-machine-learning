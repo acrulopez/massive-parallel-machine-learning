{
 "cells": [
  {
   "cell_type": "markdown",
   "id": "0b00ca97",
   "metadata": {},
   "source": [
    "# Parallelized version"
   ]
  },
  {
   "cell_type": "code",
   "execution_count": 1,
   "id": "ae246ccf",
   "metadata": {},
   "outputs": [],
   "source": [
    "import math\n",
    "import random\n",
    "import numpy as np\n",
    "import time\n",
    "from functools import reduce"
   ]
  },
  {
   "cell_type": "markdown",
   "id": "b5225c4c",
   "metadata": {},
   "source": [
    "## Initializing spark"
   ]
  },
  {
   "cell_type": "code",
   "execution_count": 2,
   "id": "bce51be2",
   "metadata": {},
   "outputs": [],
   "source": [
    "from pyspark import SparkConf, SparkContext"
   ]
  },
  {
   "cell_type": "code",
   "execution_count": 3,
   "id": "1b999d23",
   "metadata": {},
   "outputs": [
    {
     "name": "stdout",
     "output_type": "stream",
     "text": [
      "22/12/06 14:39:50 WARN Utils: Your hostname, Alexs-MacBook-Air.local resolves to a loopback address: 127.0.0.1; using 192.168.1.134 instead (on interface en0)\n",
      "22/12/06 14:39:50 WARN Utils: Set SPARK_LOCAL_IP if you need to bind to another address\n"
     ]
    },
    {
     "name": "stderr",
     "output_type": "stream",
     "text": [
      "Setting default log level to \"WARN\".\n",
      "To adjust logging level use sc.setLogLevel(newLevel). For SparkR, use setLogLevel(newLevel).\n"
     ]
    },
    {
     "name": "stdout",
     "output_type": "stream",
     "text": [
      "22/12/06 14:39:51 WARN NativeCodeLoader: Unable to load native-hadoop library for your platform... using builtin-java classes where applicable\n"
     ]
    }
   ],
   "source": [
    "conf = SparkConf().setAppName(\"appName\").setMaster(\"local[*]\")\n",
    "sc = SparkContext(conf=conf)"
   ]
  },
  {
   "cell_type": "markdown",
   "id": "9c2940c3",
   "metadata": {
    "tags": []
   },
   "source": [
    "## Functions"
   ]
  },
  {
   "cell_type": "markdown",
   "id": "3cf4424e",
   "metadata": {},
   "source": [
    "### Auxiliar functions"
   ]
  },
  {
   "cell_type": "code",
   "execution_count": 4,
   "id": "7115c6bc",
   "metadata": {},
   "outputs": [],
   "source": [
    "def str_to_number_list(line):\n",
    "    numbers = line.replace(\" \",\"\").split(\",\")\n",
    "    numbers = [float(number) for number in numbers]\n",
    "    \n",
    "    # Separate X and y\n",
    "    numbers = (numbers[1:], numbers[0])\n",
    "    \n",
    "    return numbers"
   ]
  },
  {
   "cell_type": "code",
   "execution_count": 5,
   "id": "337dadd2-6bc3-48de-b28d-77e0346f35c9",
   "metadata": {},
   "outputs": [],
   "source": [
    "def trainTestSplit(dataset):\n",
    "    train = dataset.filter(lambda x: x[2]==1)\n",
    "    train = train.map(lambda x: (x[0], x[1]))\n",
    "    test = dataset.filter(lambda x: x[2]==0)\n",
    "    test = test.map(lambda x: (x[0], x[1]))\n",
    "    return (train, test)"
   ]
  },
  {
   "cell_type": "code",
   "execution_count": 6,
   "id": "5745b89c-cffc-45ee-ba95-8f2f4cc2de2c",
   "metadata": {},
   "outputs": [],
   "source": [
    "def parallelAssign2cluster_slower(x):\n",
    "    global c\n",
    "    min_distance = np.Inf\n",
    "    centroid = 0\n",
    "    for it, cen in enumerate(c.value):\n",
    "        d = 0\n",
    "        for y,z in zip(x[0],cen):\n",
    "            d += abs(y-z)\n",
    "        if d <= min_distance:\n",
    "            min_distance = d\n",
    "            centroid = it\n",
    "        \n",
    "    return (centroid, x[0])"
   ]
  },
  {
   "cell_type": "code",
   "execution_count": 7,
   "id": "817b1f2f-9892-4b95-b9f6-05ad47f5a8f3",
   "metadata": {},
   "outputs": [],
   "source": [
    "def parallelKMeans_slower(data, K, n_iter):\n",
    "    \n",
    "    data_len = sc.broadcast(data.count())\n",
    "    \n",
    "    global c\n",
    "    c = data.takeSample(0, K)\n",
    "    c = [datum[0] for datum in c]\n",
    "    c = sc.broadcast(c)\n",
    "    \n",
    "    for iter in range(n_iter):\n",
    "        data_asigned = data.map(parallelAssign2cluster_slower)\n",
    "        c = sc.broadcast(data_asigned.reduceByKey(lambda x,y: [q+w for q,w in zip(x,y)]) \\\n",
    "            .map(lambda x: [a/data_len.value for a in x[1]]).collect())\n",
    "    \n",
    "    return c.value"
   ]
  },
  {
   "cell_type": "markdown",
   "id": "e1560f7d",
   "metadata": {},
   "source": [
    "### Mandatory functions"
   ]
  },
  {
   "cell_type": "code",
   "execution_count": 8,
   "id": "4be64fbc-2935-41c1-a794-398038f40833",
   "metadata": {},
   "outputs": [],
   "source": [
    "def parallelReadFile(filename):\n",
    "    dataset = sc.textFile(filename)\n",
    "    \n",
    "    # Extract the header from the data\n",
    "    header = dataset.first()\n",
    "    dataset = dataset.filter(lambda row: row != header)\n",
    "    \n",
    "    dataset = dataset.map(str_to_number_list)\n",
    "    return dataset.sample(False, 1)"
   ]
  },
  {
   "cell_type": "code",
   "execution_count": 9,
   "id": "c9e1ed76-f870-4905-b1b1-c54be4b114df",
   "metadata": {},
   "outputs": [],
   "source": [
    "def parallelAssign2cluster(x):\n",
    "    global c\n",
    "    min_distance = np.Inf\n",
    "    centroid = 0\n",
    "    for it, cen in enumerate(c.value):\n",
    "        d = reduce(lambda x,y:abs(x)+abs(y), [y-z for y,z in zip(x[0],cen)])\n",
    "        if d <= min_distance:\n",
    "            min_distance = d\n",
    "            centroid = it\n",
    "        \n",
    "    return (centroid, x[0])"
   ]
  },
  {
   "cell_type": "code",
   "execution_count": 10,
   "id": "083c6614-6749-4bf1-bdb6-cbbcd608fd6e",
   "metadata": {},
   "outputs": [],
   "source": [
    "def parallelKMeans(data, K, n_iter):\n",
    "    \n",
    "    data_len = sc.broadcast(data.count())\n",
    "    \n",
    "    global c\n",
    "    c = data.takeSample(0, K)\n",
    "    c = [datum[0] for datum in c]\n",
    "    c = sc.broadcast(c)\n",
    "    \n",
    "    for iter in range(n_iter):\n",
    "        data_asigned = data.map(parallelAssign2cluster)\n",
    "        c = sc.broadcast(data_asigned.reduceByKey(lambda x,y: [q+w for q,w in zip(x,y)]) \\\n",
    "            .map(lambda x: [a/data_len.value for a in x[1]]).collect())\n",
    "    \n",
    "    return c.value"
   ]
  },
  {
   "cell_type": "markdown",
   "id": "d23eed9a",
   "metadata": {
    "tags": []
   },
   "source": [
    "## Testing"
   ]
  },
  {
   "cell_type": "code",
   "execution_count": 12,
   "id": "81aede54",
   "metadata": {},
   "outputs": [
    {
     "name": "stderr",
     "output_type": "stream",
     "text": [
      "                                                                                \r"
     ]
    },
    {
     "data": {
      "text/plain": [
       "70000"
      ]
     },
     "execution_count": 12,
     "metadata": {},
     "output_type": "execute_result"
    }
   ],
   "source": [
    "RDD_Xy = parallelReadFile(\"../data/tot_mnist_shuf.csv\")\n",
    "RDD_Xy.count()"
   ]
  },
  {
   "cell_type": "code",
   "execution_count": 51,
   "id": "337f917c-78fc-44cb-be1c-1b32f62bf2ef",
   "metadata": {},
   "outputs": [
    {
     "name": "stderr",
     "output_type": "stream",
     "text": [
      "                                                                                \r"
     ]
    }
   ],
   "source": [
    "centroids = parallelKMeans(RDD_Xy, 3, 2)"
   ]
  },
  {
   "cell_type": "code",
   "execution_count": 12,
   "id": "b14074ee",
   "metadata": {},
   "outputs": [
    {
     "name": "stdout",
     "output_type": "stream",
     "text": [
      "---------- Starting execution with 1 cores and 3 clusters ----------\n"
     ]
    },
    {
     "name": "stderr",
     "output_type": "stream",
     "text": [
      "                                                                                \r"
     ]
    },
    {
     "name": "stdout",
     "output_type": "stream",
     "text": [
      "---------- Finished execution with 1 cores and 3 clusters ----------\n",
      "Elapsed time for cores 1 is 279.2463307380676 seconds\n",
      "---------- Starting execution with 1 cores and 3 clusters ----------\n"
     ]
    },
    {
     "name": "stderr",
     "output_type": "stream",
     "text": [
      "                                                                                \r"
     ]
    },
    {
     "name": "stdout",
     "output_type": "stream",
     "text": [
      "---------- Finished execution with 1 cores and 3 clusters ----------\n",
      "Elapsed time for cores 1 is 175.4063618183136 seconds\n",
      "---------- Starting execution with 1 cores and 5 clusters ----------\n"
     ]
    },
    {
     "name": "stderr",
     "output_type": "stream",
     "text": [
      "                                                                                \r"
     ]
    },
    {
     "name": "stdout",
     "output_type": "stream",
     "text": [
      "---------- Finished execution with 1 cores and 5 clusters ----------\n",
      "Elapsed time for cores 1 is 391.22597789764404 seconds\n",
      "---------- Starting execution with 1 cores and 5 clusters ----------\n"
     ]
    },
    {
     "name": "stderr",
     "output_type": "stream",
     "text": [
      "                                                                                \r"
     ]
    },
    {
     "name": "stdout",
     "output_type": "stream",
     "text": [
      "---------- Finished execution with 1 cores and 5 clusters ----------\n",
      "Elapsed time for cores 1 is 217.99994802474976 seconds\n",
      "---------- Starting execution with 1 cores and 7 clusters ----------\n"
     ]
    },
    {
     "name": "stderr",
     "output_type": "stream",
     "text": [
      "                                                                                \r"
     ]
    },
    {
     "name": "stdout",
     "output_type": "stream",
     "text": [
      "---------- Finished execution with 1 cores and 7 clusters ----------\n",
      "Elapsed time for cores 1 is 2198.4438829421997 seconds\n",
      "---------- Starting execution with 1 cores and 7 clusters ----------\n"
     ]
    },
    {
     "name": "stderr",
     "output_type": "stream",
     "text": [
      "                                                                                \r"
     ]
    },
    {
     "name": "stdout",
     "output_type": "stream",
     "text": [
      "---------- Finished execution with 1 cores and 7 clusters ----------\n",
      "Elapsed time for cores 1 is 302.5171310901642 seconds\n",
      "---------- Starting execution with 1 cores and 8 clusters ----------\n"
     ]
    },
    {
     "name": "stderr",
     "output_type": "stream",
     "text": [
      "                                                                                \r"
     ]
    },
    {
     "name": "stdout",
     "output_type": "stream",
     "text": [
      "---------- Finished execution with 1 cores and 8 clusters ----------\n",
      "Elapsed time for cores 1 is 502.3829231262207 seconds\n",
      "---------- Starting execution with 1 cores and 8 clusters ----------\n"
     ]
    },
    {
     "name": "stderr",
     "output_type": "stream",
     "text": [
      "                                                                                \r"
     ]
    },
    {
     "name": "stdout",
     "output_type": "stream",
     "text": [
      "---------- Finished execution with 1 cores and 8 clusters ----------\n",
      "Elapsed time for cores 1 is 305.6902687549591 seconds\n",
      "---------- Starting execution with 1 cores and 9 clusters ----------\n"
     ]
    },
    {
     "name": "stderr",
     "output_type": "stream",
     "text": [
      "                                                                                \r"
     ]
    },
    {
     "name": "stdout",
     "output_type": "stream",
     "text": [
      "---------- Finished execution with 1 cores and 9 clusters ----------\n",
      "Elapsed time for cores 1 is 598.1756410598755 seconds\n",
      "---------- Starting execution with 1 cores and 9 clusters ----------\n"
     ]
    },
    {
     "name": "stderr",
     "output_type": "stream",
     "text": [
      "                                                                                \r"
     ]
    },
    {
     "name": "stdout",
     "output_type": "stream",
     "text": [
      "---------- Finished execution with 1 cores and 9 clusters ----------\n",
      "Elapsed time for cores 1 is 316.9649019241333 seconds\n",
      "---------- Starting execution with 1 cores and 10 clusters ----------\n"
     ]
    },
    {
     "name": "stderr",
     "output_type": "stream",
     "text": [
      "                                                                                \r"
     ]
    },
    {
     "name": "stdout",
     "output_type": "stream",
     "text": [
      "---------- Finished execution with 1 cores and 10 clusters ----------\n",
      "Elapsed time for cores 1 is 659.4783072471619 seconds\n",
      "---------- Starting execution with 1 cores and 10 clusters ----------\n"
     ]
    },
    {
     "name": "stderr",
     "output_type": "stream",
     "text": [
      "                                                                                \r"
     ]
    },
    {
     "name": "stdout",
     "output_type": "stream",
     "text": [
      "---------- Finished execution with 1 cores and 10 clusters ----------\n",
      "Elapsed time for cores 1 is 340.03762102127075 seconds\n",
      "---------- Starting execution with 1 cores and 11 clusters ----------\n"
     ]
    },
    {
     "name": "stderr",
     "output_type": "stream",
     "text": [
      "                                                                                \r"
     ]
    },
    {
     "name": "stdout",
     "output_type": "stream",
     "text": [
      "---------- Finished execution with 1 cores and 11 clusters ----------\n",
      "Elapsed time for cores 1 is 713.2239789962769 seconds\n",
      "---------- Starting execution with 1 cores and 11 clusters ----------\n"
     ]
    },
    {
     "name": "stderr",
     "output_type": "stream",
     "text": [
      "                                                                                \r"
     ]
    },
    {
     "name": "stdout",
     "output_type": "stream",
     "text": [
      "---------- Finished execution with 1 cores and 11 clusters ----------\n",
      "Elapsed time for cores 1 is 377.28686594963074 seconds\n",
      "---------- Starting execution with 2 cores and 3 clusters ----------\n"
     ]
    },
    {
     "name": "stderr",
     "output_type": "stream",
     "text": [
      "                                                                                \r"
     ]
    },
    {
     "name": "stdout",
     "output_type": "stream",
     "text": [
      "---------- Finished execution with 2 cores and 3 clusters ----------\n",
      "Elapsed time for cores 2 is 136.3023910522461 seconds\n",
      "---------- Starting execution with 2 cores and 3 clusters ----------\n"
     ]
    },
    {
     "name": "stderr",
     "output_type": "stream",
     "text": [
      "                                                                                \r"
     ]
    },
    {
     "name": "stdout",
     "output_type": "stream",
     "text": [
      "---------- Finished execution with 2 cores and 3 clusters ----------\n",
      "Elapsed time for cores 2 is 98.67090463638306 seconds\n",
      "---------- Starting execution with 2 cores and 5 clusters ----------\n"
     ]
    },
    {
     "name": "stderr",
     "output_type": "stream",
     "text": [
      "                                                                                \r"
     ]
    },
    {
     "name": "stdout",
     "output_type": "stream",
     "text": [
      "---------- Finished execution with 2 cores and 5 clusters ----------\n",
      "Elapsed time for cores 2 is 199.5990138053894 seconds\n",
      "---------- Starting execution with 2 cores and 5 clusters ----------\n"
     ]
    },
    {
     "name": "stderr",
     "output_type": "stream",
     "text": [
      "                                                                                \r"
     ]
    },
    {
     "name": "stdout",
     "output_type": "stream",
     "text": [
      "---------- Finished execution with 2 cores and 5 clusters ----------\n",
      "Elapsed time for cores 2 is 134.86926889419556 seconds\n",
      "---------- Starting execution with 2 cores and 7 clusters ----------\n"
     ]
    },
    {
     "name": "stderr",
     "output_type": "stream",
     "text": [
      "                                                                                \r"
     ]
    },
    {
     "name": "stdout",
     "output_type": "stream",
     "text": [
      "---------- Finished execution with 2 cores and 7 clusters ----------\n",
      "Elapsed time for cores 2 is 257.2058906555176 seconds\n",
      "---------- Starting execution with 2 cores and 7 clusters ----------\n"
     ]
    },
    {
     "name": "stderr",
     "output_type": "stream",
     "text": [
      "                                                                                \r"
     ]
    },
    {
     "name": "stdout",
     "output_type": "stream",
     "text": [
      "---------- Finished execution with 2 cores and 7 clusters ----------\n",
      "Elapsed time for cores 2 is 163.02315306663513 seconds\n",
      "---------- Starting execution with 2 cores and 8 clusters ----------\n"
     ]
    },
    {
     "name": "stderr",
     "output_type": "stream",
     "text": [
      "                                                                                \r"
     ]
    },
    {
     "name": "stdout",
     "output_type": "stream",
     "text": [
      "---------- Finished execution with 2 cores and 8 clusters ----------\n",
      "Elapsed time for cores 2 is 312.4502041339874 seconds\n",
      "---------- Starting execution with 2 cores and 8 clusters ----------\n"
     ]
    },
    {
     "name": "stderr",
     "output_type": "stream",
     "text": [
      "                                                                                \r"
     ]
    },
    {
     "name": "stdout",
     "output_type": "stream",
     "text": [
      "---------- Finished execution with 2 cores and 8 clusters ----------\n",
      "Elapsed time for cores 2 is 176.11716222763062 seconds\n",
      "---------- Starting execution with 2 cores and 9 clusters ----------\n"
     ]
    },
    {
     "name": "stderr",
     "output_type": "stream",
     "text": [
      "                                                                                \r"
     ]
    },
    {
     "name": "stdout",
     "output_type": "stream",
     "text": [
      "---------- Finished execution with 2 cores and 9 clusters ----------\n",
      "Elapsed time for cores 2 is 317.7309911251068 seconds\n",
      "---------- Starting execution with 2 cores and 9 clusters ----------\n"
     ]
    },
    {
     "name": "stderr",
     "output_type": "stream",
     "text": [
      "                                                                                \r"
     ]
    },
    {
     "name": "stdout",
     "output_type": "stream",
     "text": [
      "---------- Finished execution with 2 cores and 9 clusters ----------\n",
      "Elapsed time for cores 2 is 199.76078629493713 seconds\n",
      "---------- Starting execution with 2 cores and 10 clusters ----------\n"
     ]
    },
    {
     "name": "stderr",
     "output_type": "stream",
     "text": [
      "                                                                                \r"
     ]
    },
    {
     "name": "stdout",
     "output_type": "stream",
     "text": [
      "---------- Finished execution with 2 cores and 10 clusters ----------\n",
      "Elapsed time for cores 2 is 387.511225938797 seconds\n",
      "---------- Starting execution with 2 cores and 10 clusters ----------\n"
     ]
    },
    {
     "name": "stderr",
     "output_type": "stream",
     "text": [
      "                                                                                \r"
     ]
    },
    {
     "name": "stdout",
     "output_type": "stream",
     "text": [
      "---------- Finished execution with 2 cores and 10 clusters ----------\n",
      "Elapsed time for cores 2 is 209.26971006393433 seconds\n",
      "---------- Starting execution with 2 cores and 11 clusters ----------\n"
     ]
    },
    {
     "name": "stderr",
     "output_type": "stream",
     "text": [
      "                                                                                \r"
     ]
    },
    {
     "name": "stdout",
     "output_type": "stream",
     "text": [
      "---------- Finished execution with 2 cores and 11 clusters ----------\n",
      "Elapsed time for cores 2 is 393.0591309070587 seconds\n",
      "---------- Starting execution with 2 cores and 11 clusters ----------\n"
     ]
    },
    {
     "name": "stderr",
     "output_type": "stream",
     "text": [
      "                                                                                \r"
     ]
    },
    {
     "name": "stdout",
     "output_type": "stream",
     "text": [
      "---------- Finished execution with 2 cores and 11 clusters ----------\n",
      "Elapsed time for cores 2 is 228.2998070716858 seconds\n",
      "---------- Starting execution with 3 cores and 3 clusters ----------\n"
     ]
    },
    {
     "name": "stderr",
     "output_type": "stream",
     "text": [
      "                                                                                \r"
     ]
    },
    {
     "name": "stdout",
     "output_type": "stream",
     "text": [
      "---------- Finished execution with 3 cores and 3 clusters ----------\n",
      "Elapsed time for cores 3 is 141.45122408866882 seconds\n",
      "---------- Starting execution with 3 cores and 3 clusters ----------\n"
     ]
    },
    {
     "name": "stderr",
     "output_type": "stream",
     "text": [
      "                                                                                \r"
     ]
    },
    {
     "name": "stdout",
     "output_type": "stream",
     "text": [
      "---------- Finished execution with 3 cores and 3 clusters ----------\n",
      "Elapsed time for cores 3 is 91.89359998703003 seconds\n",
      "---------- Starting execution with 3 cores and 5 clusters ----------\n"
     ]
    },
    {
     "name": "stderr",
     "output_type": "stream",
     "text": [
      "                                                                                \r"
     ]
    },
    {
     "name": "stdout",
     "output_type": "stream",
     "text": [
      "---------- Finished execution with 3 cores and 5 clusters ----------\n",
      "Elapsed time for cores 3 is 200.78327894210815 seconds\n",
      "---------- Starting execution with 3 cores and 5 clusters ----------\n"
     ]
    },
    {
     "name": "stderr",
     "output_type": "stream",
     "text": [
      "                                                                                \r"
     ]
    },
    {
     "name": "stdout",
     "output_type": "stream",
     "text": [
      "---------- Finished execution with 3 cores and 5 clusters ----------\n",
      "Elapsed time for cores 3 is 120.03051400184631 seconds\n",
      "---------- Starting execution with 3 cores and 7 clusters ----------\n"
     ]
    },
    {
     "name": "stderr",
     "output_type": "stream",
     "text": [
      "                                                                                \r"
     ]
    },
    {
     "name": "stdout",
     "output_type": "stream",
     "text": [
      "---------- Finished execution with 3 cores and 7 clusters ----------\n",
      "Elapsed time for cores 3 is 263.1120641231537 seconds\n",
      "---------- Starting execution with 3 cores and 7 clusters ----------\n"
     ]
    },
    {
     "name": "stderr",
     "output_type": "stream",
     "text": [
      "                                                                                \r"
     ]
    },
    {
     "name": "stdout",
     "output_type": "stream",
     "text": [
      "---------- Finished execution with 3 cores and 7 clusters ----------\n",
      "Elapsed time for cores 3 is 148.92279291152954 seconds\n",
      "---------- Starting execution with 3 cores and 8 clusters ----------\n"
     ]
    },
    {
     "name": "stderr",
     "output_type": "stream",
     "text": [
      "                                                                                \r"
     ]
    },
    {
     "name": "stdout",
     "output_type": "stream",
     "text": [
      "---------- Finished execution with 3 cores and 8 clusters ----------\n",
      "Elapsed time for cores 3 is 264.6657521724701 seconds\n",
      "---------- Starting execution with 3 cores and 8 clusters ----------\n"
     ]
    },
    {
     "name": "stderr",
     "output_type": "stream",
     "text": [
      "                                                                                \r"
     ]
    },
    {
     "name": "stdout",
     "output_type": "stream",
     "text": [
      "---------- Finished execution with 3 cores and 8 clusters ----------\n",
      "Elapsed time for cores 3 is 171.39899492263794 seconds\n",
      "---------- Starting execution with 3 cores and 9 clusters ----------\n"
     ]
    },
    {
     "name": "stderr",
     "output_type": "stream",
     "text": [
      "                                                                                \r"
     ]
    },
    {
     "name": "stdout",
     "output_type": "stream",
     "text": [
      "---------- Finished execution with 3 cores and 9 clusters ----------\n",
      "Elapsed time for cores 3 is 293.14406991004944 seconds\n",
      "---------- Starting execution with 3 cores and 9 clusters ----------\n"
     ]
    },
    {
     "name": "stderr",
     "output_type": "stream",
     "text": [
      "                                                                                \r"
     ]
    },
    {
     "name": "stdout",
     "output_type": "stream",
     "text": [
      "---------- Finished execution with 3 cores and 9 clusters ----------\n",
      "Elapsed time for cores 3 is 173.80864834785461 seconds\n",
      "---------- Starting execution with 3 cores and 10 clusters ----------\n"
     ]
    },
    {
     "name": "stderr",
     "output_type": "stream",
     "text": [
      "                                                                                \r"
     ]
    },
    {
     "name": "stdout",
     "output_type": "stream",
     "text": [
      "---------- Finished execution with 3 cores and 10 clusters ----------\n",
      "Elapsed time for cores 3 is 322.73885703086853 seconds\n",
      "---------- Starting execution with 3 cores and 10 clusters ----------\n"
     ]
    },
    {
     "name": "stderr",
     "output_type": "stream",
     "text": [
      "                                                                                \r"
     ]
    },
    {
     "name": "stdout",
     "output_type": "stream",
     "text": [
      "---------- Finished execution with 3 cores and 10 clusters ----------\n",
      "Elapsed time for cores 3 is 191.96583223342896 seconds\n",
      "---------- Starting execution with 3 cores and 11 clusters ----------\n"
     ]
    },
    {
     "name": "stderr",
     "output_type": "stream",
     "text": [
      "                                                                                \r"
     ]
    },
    {
     "name": "stdout",
     "output_type": "stream",
     "text": [
      "---------- Finished execution with 3 cores and 11 clusters ----------\n",
      "Elapsed time for cores 3 is 383.08349609375 seconds\n",
      "---------- Starting execution with 3 cores and 11 clusters ----------\n"
     ]
    },
    {
     "name": "stderr",
     "output_type": "stream",
     "text": [
      "                                                                                \r"
     ]
    },
    {
     "name": "stdout",
     "output_type": "stream",
     "text": [
      "---------- Finished execution with 3 cores and 11 clusters ----------\n",
      "Elapsed time for cores 3 is 206.5828080177307 seconds\n",
      "---------- Starting execution with 4 cores and 3 clusters ----------\n"
     ]
    },
    {
     "name": "stderr",
     "output_type": "stream",
     "text": [
      "                                                                                \r"
     ]
    },
    {
     "name": "stdout",
     "output_type": "stream",
     "text": [
      "---------- Finished execution with 4 cores and 3 clusters ----------\n",
      "Elapsed time for cores 4 is 87.27632284164429 seconds\n",
      "---------- Starting execution with 4 cores and 3 clusters ----------\n"
     ]
    },
    {
     "name": "stderr",
     "output_type": "stream",
     "text": [
      "                                                                                \r"
     ]
    },
    {
     "name": "stdout",
     "output_type": "stream",
     "text": [
      "---------- Finished execution with 4 cores and 3 clusters ----------\n",
      "Elapsed time for cores 4 is 61.84689903259277 seconds\n",
      "---------- Starting execution with 4 cores and 5 clusters ----------\n"
     ]
    },
    {
     "name": "stderr",
     "output_type": "stream",
     "text": [
      "                                                                                \r"
     ]
    },
    {
     "name": "stdout",
     "output_type": "stream",
     "text": [
      "---------- Finished execution with 4 cores and 5 clusters ----------\n",
      "Elapsed time for cores 4 is 124.99901485443115 seconds\n",
      "---------- Starting execution with 4 cores and 5 clusters ----------\n"
     ]
    },
    {
     "name": "stderr",
     "output_type": "stream",
     "text": [
      "                                                                                \r"
     ]
    },
    {
     "name": "stdout",
     "output_type": "stream",
     "text": [
      "---------- Finished execution with 4 cores and 5 clusters ----------\n",
      "Elapsed time for cores 4 is 1091.4750180244446 seconds\n",
      "---------- Starting execution with 4 cores and 7 clusters ----------\n"
     ]
    },
    {
     "name": "stderr",
     "output_type": "stream",
     "text": [
      "[Stage 8:>                                                          (0 + 4) / 4]\r"
     ]
    },
    {
     "name": "stdout",
     "output_type": "stream",
     "text": [
      "22/12/06 19:29:54 WARN HeartbeatReceiver: Removing executor driver with no recent heartbeats: 972288 ms exceeds timeout 120000 ms\n",
      "22/12/06 19:29:54 WARN SparkContext: Killing executors is not supported by current scheduler.\n"
     ]
    },
    {
     "name": "stderr",
     "output_type": "stream",
     "text": [
      "                                                                                \r"
     ]
    },
    {
     "name": "stdout",
     "output_type": "stream",
     "text": [
      "---------- Finished execution with 4 cores and 7 clusters ----------\n",
      "Elapsed time for cores 4 is 2991.328257083893 seconds\n",
      "---------- Starting execution with 4 cores and 7 clusters ----------\n"
     ]
    },
    {
     "name": "stderr",
     "output_type": "stream",
     "text": [
      "                                                                                \r"
     ]
    },
    {
     "name": "stdout",
     "output_type": "stream",
     "text": [
      "---------- Finished execution with 4 cores and 7 clusters ----------\n",
      "Elapsed time for cores 4 is 1976.7170741558075 seconds\n",
      "---------- Starting execution with 4 cores and 8 clusters ----------\n"
     ]
    },
    {
     "name": "stderr",
     "output_type": "stream",
     "text": [
      "[Stage 6:==============>                                            (1 + 3) / 4]\r"
     ]
    },
    {
     "name": "stdout",
     "output_type": "stream",
     "text": [
      "22/12/06 20:52:06 WARN HeartbeatReceiver: Removing executor driver with no recent heartbeats: 928672 ms exceeds timeout 120000 ms\n",
      "22/12/06 20:52:06 WARN SparkContext: Killing executors is not supported by current scheduler.\n"
     ]
    },
    {
     "name": "stderr",
     "output_type": "stream",
     "text": [
      "                                                                                \r"
     ]
    },
    {
     "name": "stdout",
     "output_type": "stream",
     "text": [
      "---------- Finished execution with 4 cores and 8 clusters ----------\n",
      "Elapsed time for cores 4 is 4013.581139087677 seconds\n",
      "---------- Starting execution with 4 cores and 8 clusters ----------\n"
     ]
    },
    {
     "name": "stderr",
     "output_type": "stream",
     "text": [
      "                                                                                \r"
     ]
    },
    {
     "name": "stdout",
     "output_type": "stream",
     "text": [
      "---------- Finished execution with 4 cores and 8 clusters ----------\n",
      "Elapsed time for cores 4 is 1928.5359439849854 seconds\n",
      "---------- Starting execution with 4 cores and 9 clusters ----------\n"
     ]
    },
    {
     "name": "stderr",
     "output_type": "stream",
     "text": [
      "                                                                                \r"
     ]
    },
    {
     "name": "stdout",
     "output_type": "stream",
     "text": [
      "---------- Finished execution with 4 cores and 9 clusters ----------\n",
      "Elapsed time for cores 4 is 3985.8571569919586 seconds\n",
      "---------- Starting execution with 4 cores and 9 clusters ----------\n"
     ]
    },
    {
     "name": "stderr",
     "output_type": "stream",
     "text": [
      "                                                                                \r"
     ]
    },
    {
     "name": "stdout",
     "output_type": "stream",
     "text": [
      "---------- Finished execution with 4 cores and 9 clusters ----------\n",
      "Elapsed time for cores 4 is 1958.9726028442383 seconds\n",
      "---------- Starting execution with 4 cores and 10 clusters ----------\n"
     ]
    },
    {
     "name": "stderr",
     "output_type": "stream",
     "text": [
      "                                                                                \r"
     ]
    },
    {
     "name": "stdout",
     "output_type": "stream",
     "text": [
      "---------- Finished execution with 4 cores and 10 clusters ----------\n",
      "Elapsed time for cores 4 is 4208.268903970718 seconds\n",
      "---------- Starting execution with 4 cores and 10 clusters ----------\n"
     ]
    },
    {
     "name": "stderr",
     "output_type": "stream",
     "text": [
      "                                                                                \r"
     ]
    },
    {
     "name": "stdout",
     "output_type": "stream",
     "text": [
      "---------- Finished execution with 4 cores and 10 clusters ----------\n",
      "Elapsed time for cores 4 is 2026.9486730098724 seconds\n",
      "---------- Starting execution with 4 cores and 11 clusters ----------\n"
     ]
    },
    {
     "name": "stderr",
     "output_type": "stream",
     "text": [
      "                                                                                \r"
     ]
    },
    {
     "name": "stdout",
     "output_type": "stream",
     "text": [
      "---------- Finished execution with 4 cores and 11 clusters ----------\n",
      "Elapsed time for cores 4 is 4190.544682979584 seconds\n",
      "---------- Starting execution with 4 cores and 11 clusters ----------\n"
     ]
    },
    {
     "name": "stderr",
     "output_type": "stream",
     "text": [
      "                                                                                \r"
     ]
    },
    {
     "name": "stdout",
     "output_type": "stream",
     "text": [
      "---------- Finished execution with 4 cores and 11 clusters ----------\n",
      "Elapsed time for cores 4 is 3019.6888151168823 seconds\n",
      "---------- Starting execution with 5 cores and 3 clusters ----------\n"
     ]
    },
    {
     "name": "stderr",
     "output_type": "stream",
     "text": [
      "                                                                                \r"
     ]
    },
    {
     "name": "stdout",
     "output_type": "stream",
     "text": [
      "---------- Finished execution with 5 cores and 3 clusters ----------\n",
      "Elapsed time for cores 5 is 1901.7815039157867 seconds\n",
      "---------- Starting execution with 5 cores and 3 clusters ----------\n"
     ]
    },
    {
     "name": "stderr",
     "output_type": "stream",
     "text": [
      "                                                                                \r"
     ]
    },
    {
     "name": "stdout",
     "output_type": "stream",
     "text": [
      "---------- Finished execution with 5 cores and 3 clusters ----------\n",
      "Elapsed time for cores 5 is 1027.3855600357056 seconds\n",
      "---------- Starting execution with 5 cores and 5 clusters ----------\n"
     ]
    },
    {
     "name": "stderr",
     "output_type": "stream",
     "text": [
      "                                                                                \r"
     ]
    },
    {
     "name": "stdout",
     "output_type": "stream",
     "text": [
      "---------- Finished execution with 5 cores and 5 clusters ----------\n",
      "Elapsed time for cores 5 is 1964.760411977768 seconds\n",
      "---------- Starting execution with 5 cores and 5 clusters ----------\n"
     ]
    },
    {
     "name": "stderr",
     "output_type": "stream",
     "text": [
      "                                                                                \r"
     ]
    },
    {
     "name": "stdout",
     "output_type": "stream",
     "text": [
      "---------- Finished execution with 5 cores and 5 clusters ----------\n",
      "Elapsed time for cores 5 is 1008.7162575721741 seconds\n",
      "---------- Starting execution with 5 cores and 7 clusters ----------\n"
     ]
    },
    {
     "name": "stderr",
     "output_type": "stream",
     "text": [
      "[Stage 6:==============>                                            (1 + 3) / 4]\r"
     ]
    },
    {
     "name": "stdout",
     "output_type": "stream",
     "text": [
      "22/12/07 05:31:40 WARN HeartbeatReceiver: Removing executor driver with no recent heartbeats: 913251 ms exceeds timeout 120000 ms\n",
      "22/12/07 05:31:40 WARN SparkContext: Killing executors is not supported by current scheduler.\n"
     ]
    },
    {
     "name": "stderr",
     "output_type": "stream",
     "text": [
      "                                                                                \r"
     ]
    },
    {
     "name": "stdout",
     "output_type": "stream",
     "text": [
      "---------- Finished execution with 5 cores and 7 clusters ----------\n",
      "Elapsed time for cores 5 is 2892.3357470035553 seconds\n",
      "---------- Starting execution with 5 cores and 7 clusters ----------\n"
     ]
    },
    {
     "name": "stderr",
     "output_type": "stream",
     "text": [
      "[Stage 10:>                                                         (0 + 4) / 4]\r"
     ]
    },
    {
     "name": "stdout",
     "output_type": "stream",
     "text": [
      "22/12/07 06:21:23 WARN HeartbeatReceiver: Removing executor driver with no recent heartbeats: 1014848 ms exceeds timeout 120000 ms\n",
      "22/12/07 06:21:23 WARN SparkContext: Killing executors is not supported by current scheduler.\n"
     ]
    },
    {
     "name": "stderr",
     "output_type": "stream",
     "text": [
      "                                                                                \r"
     ]
    },
    {
     "name": "stdout",
     "output_type": "stream",
     "text": [
      "---------- Finished execution with 5 cores and 7 clusters ----------\n",
      "Elapsed time for cores 5 is 1983.860100030899 seconds\n",
      "---------- Starting execution with 5 cores and 8 clusters ----------\n"
     ]
    },
    {
     "name": "stderr",
     "output_type": "stream",
     "text": [
      "                                                                                \r"
     ]
    },
    {
     "name": "stdout",
     "output_type": "stream",
     "text": [
      "---------- Finished execution with 5 cores and 8 clusters ----------\n",
      "Elapsed time for cores 5 is 3967.581067085266 seconds\n",
      "---------- Starting execution with 5 cores and 8 clusters ----------\n"
     ]
    },
    {
     "name": "stderr",
     "output_type": "stream",
     "text": [
      "                                                                                \r"
     ]
    },
    {
     "name": "stdout",
     "output_type": "stream",
     "text": [
      "---------- Finished execution with 5 cores and 8 clusters ----------\n",
      "Elapsed time for cores 5 is 1997.7879917621613 seconds\n",
      "---------- Starting execution with 5 cores and 9 clusters ----------\n"
     ]
    },
    {
     "name": "stderr",
     "output_type": "stream",
     "text": [
      "                                                                                \r"
     ]
    },
    {
     "name": "stdout",
     "output_type": "stream",
     "text": [
      "---------- Finished execution with 5 cores and 9 clusters ----------\n",
      "Elapsed time for cores 5 is 3127.5639929771423 seconds\n",
      "---------- Starting execution with 5 cores and 9 clusters ----------\n"
     ]
    },
    {
     "name": "stderr",
     "output_type": "stream",
     "text": [
      "                                                                                \r"
     ]
    },
    {
     "name": "stdout",
     "output_type": "stream",
     "text": [
      "---------- Finished execution with 5 cores and 9 clusters ----------\n",
      "Elapsed time for cores 5 is 2886.0598981380463 seconds\n",
      "---------- Starting execution with 5 cores and 10 clusters ----------\n"
     ]
    },
    {
     "name": "stderr",
     "output_type": "stream",
     "text": [
      "                                                                                \r"
     ]
    },
    {
     "name": "stdout",
     "output_type": "stream",
     "text": [
      "---------- Finished execution with 5 cores and 10 clusters ----------\n",
      "Elapsed time for cores 5 is 2162.178005218506 seconds\n",
      "---------- Starting execution with 5 cores and 10 clusters ----------\n"
     ]
    },
    {
     "name": "stderr",
     "output_type": "stream",
     "text": [
      "                                                                                \r"
     ]
    },
    {
     "name": "stdout",
     "output_type": "stream",
     "text": [
      "---------- Finished execution with 5 cores and 10 clusters ----------\n",
      "Elapsed time for cores 5 is 122.65531277656555 seconds\n",
      "---------- Starting execution with 5 cores and 11 clusters ----------\n"
     ]
    },
    {
     "name": "stderr",
     "output_type": "stream",
     "text": [
      "                                                                                \r"
     ]
    },
    {
     "name": "stdout",
     "output_type": "stream",
     "text": [
      "---------- Finished execution with 5 cores and 11 clusters ----------\n",
      "Elapsed time for cores 5 is 259.8843710422516 seconds\n",
      "---------- Starting execution with 5 cores and 11 clusters ----------\n"
     ]
    },
    {
     "name": "stderr",
     "output_type": "stream",
     "text": [
      "                                                                                \r"
     ]
    },
    {
     "name": "stdout",
     "output_type": "stream",
     "text": [
      "---------- Finished execution with 5 cores and 11 clusters ----------\n",
      "Elapsed time for cores 5 is 141.41071200370789 seconds\n",
      "---------- Starting execution with 6 cores and 3 clusters ----------\n"
     ]
    },
    {
     "name": "stderr",
     "output_type": "stream",
     "text": [
      "                                                                                \r"
     ]
    },
    {
     "name": "stdout",
     "output_type": "stream",
     "text": [
      "---------- Finished execution with 6 cores and 3 clusters ----------\n",
      "Elapsed time for cores 6 is 95.01778507232666 seconds\n",
      "---------- Starting execution with 6 cores and 3 clusters ----------\n"
     ]
    },
    {
     "name": "stderr",
     "output_type": "stream",
     "text": [
      "                                                                                \r"
     ]
    },
    {
     "name": "stdout",
     "output_type": "stream",
     "text": [
      "---------- Finished execution with 6 cores and 3 clusters ----------\n",
      "Elapsed time for cores 6 is 63.593255281448364 seconds\n",
      "---------- Starting execution with 6 cores and 5 clusters ----------\n"
     ]
    },
    {
     "name": "stderr",
     "output_type": "stream",
     "text": [
      "                                                                                \r"
     ]
    },
    {
     "name": "stdout",
     "output_type": "stream",
     "text": [
      "---------- Finished execution with 6 cores and 5 clusters ----------\n",
      "Elapsed time for cores 6 is 138.1022927761078 seconds\n",
      "---------- Starting execution with 6 cores and 5 clusters ----------\n"
     ]
    },
    {
     "name": "stderr",
     "output_type": "stream",
     "text": [
      "                                                                                \r"
     ]
    },
    {
     "name": "stdout",
     "output_type": "stream",
     "text": [
      "---------- Finished execution with 6 cores and 5 clusters ----------\n",
      "Elapsed time for cores 6 is 85.92311692237854 seconds\n",
      "---------- Starting execution with 6 cores and 7 clusters ----------\n"
     ]
    },
    {
     "name": "stderr",
     "output_type": "stream",
     "text": [
      "                                                                                \r"
     ]
    },
    {
     "name": "stdout",
     "output_type": "stream",
     "text": [
      "---------- Finished execution with 6 cores and 7 clusters ----------\n",
      "Elapsed time for cores 6 is 172.67958307266235 seconds\n",
      "---------- Starting execution with 6 cores and 7 clusters ----------\n"
     ]
    },
    {
     "name": "stderr",
     "output_type": "stream",
     "text": [
      "                                                                                \r"
     ]
    },
    {
     "name": "stdout",
     "output_type": "stream",
     "text": [
      "---------- Finished execution with 6 cores and 7 clusters ----------\n",
      "Elapsed time for cores 6 is 120.36094498634338 seconds\n",
      "---------- Starting execution with 6 cores and 8 clusters ----------\n"
     ]
    },
    {
     "name": "stderr",
     "output_type": "stream",
     "text": [
      "                                                                                \r"
     ]
    },
    {
     "name": "stdout",
     "output_type": "stream",
     "text": [
      "---------- Finished execution with 6 cores and 8 clusters ----------\n",
      "Elapsed time for cores 6 is 247.37116503715515 seconds\n",
      "---------- Starting execution with 6 cores and 8 clusters ----------\n"
     ]
    },
    {
     "name": "stderr",
     "output_type": "stream",
     "text": [
      "                                                                                \r"
     ]
    },
    {
     "name": "stdout",
     "output_type": "stream",
     "text": [
      "---------- Finished execution with 6 cores and 8 clusters ----------\n",
      "Elapsed time for cores 6 is 1955.2219710350037 seconds\n",
      "---------- Starting execution with 6 cores and 9 clusters ----------\n"
     ]
    },
    {
     "name": "stderr",
     "output_type": "stream",
     "text": [
      "                                                                                \r"
     ]
    },
    {
     "name": "stdout",
     "output_type": "stream",
     "text": [
      "---------- Finished execution with 6 cores and 9 clusters ----------\n",
      "Elapsed time for cores 6 is 1377.3748979568481 seconds\n",
      "---------- Starting execution with 6 cores and 9 clusters ----------\n"
     ]
    },
    {
     "name": "stderr",
     "output_type": "stream",
     "text": [
      "                                                                                \r"
     ]
    },
    {
     "name": "stdout",
     "output_type": "stream",
     "text": [
      "---------- Finished execution with 6 cores and 9 clusters ----------\n",
      "Elapsed time for cores 6 is 133.82584476470947 seconds\n",
      "---------- Starting execution with 6 cores and 10 clusters ----------\n"
     ]
    },
    {
     "name": "stderr",
     "output_type": "stream",
     "text": [
      "                                                                                \r"
     ]
    },
    {
     "name": "stdout",
     "output_type": "stream",
     "text": [
      "---------- Finished execution with 6 cores and 10 clusters ----------\n",
      "Elapsed time for cores 6 is 237.42362904548645 seconds\n",
      "---------- Starting execution with 6 cores and 10 clusters ----------\n"
     ]
    },
    {
     "name": "stderr",
     "output_type": "stream",
     "text": [
      "                                                                                \r"
     ]
    },
    {
     "name": "stdout",
     "output_type": "stream",
     "text": [
      "---------- Finished execution with 6 cores and 10 clusters ----------\n",
      "Elapsed time for cores 6 is 139.44775414466858 seconds\n",
      "---------- Starting execution with 6 cores and 11 clusters ----------\n"
     ]
    },
    {
     "name": "stderr",
     "output_type": "stream",
     "text": [
      "                                                                                \r"
     ]
    },
    {
     "name": "stdout",
     "output_type": "stream",
     "text": [
      "---------- Finished execution with 6 cores and 11 clusters ----------\n",
      "Elapsed time for cores 6 is 253.89519500732422 seconds\n",
      "---------- Starting execution with 6 cores and 11 clusters ----------\n"
     ]
    },
    {
     "name": "stderr",
     "output_type": "stream",
     "text": [
      "                                                                                \r"
     ]
    },
    {
     "name": "stdout",
     "output_type": "stream",
     "text": [
      "---------- Finished execution with 6 cores and 11 clusters ----------\n",
      "Elapsed time for cores 6 is 159.64692878723145 seconds\n",
      "---------- Starting execution with 7 cores and 3 clusters ----------\n"
     ]
    },
    {
     "name": "stderr",
     "output_type": "stream",
     "text": [
      "                                                                                \r"
     ]
    },
    {
     "name": "stdout",
     "output_type": "stream",
     "text": [
      "---------- Finished execution with 7 cores and 3 clusters ----------\n",
      "Elapsed time for cores 7 is 104.20483088493347 seconds\n",
      "---------- Starting execution with 7 cores and 3 clusters ----------\n"
     ]
    },
    {
     "name": "stderr",
     "output_type": "stream",
     "text": [
      "                                                                                \r"
     ]
    },
    {
     "name": "stdout",
     "output_type": "stream",
     "text": [
      "---------- Finished execution with 7 cores and 3 clusters ----------\n",
      "Elapsed time for cores 7 is 71.23921799659729 seconds\n",
      "---------- Starting execution with 7 cores and 5 clusters ----------\n"
     ]
    },
    {
     "name": "stderr",
     "output_type": "stream",
     "text": [
      "                                                                                \r"
     ]
    },
    {
     "name": "stdout",
     "output_type": "stream",
     "text": [
      "---------- Finished execution with 7 cores and 5 clusters ----------\n",
      "Elapsed time for cores 7 is 148.4513440132141 seconds\n",
      "---------- Starting execution with 7 cores and 5 clusters ----------\n"
     ]
    },
    {
     "name": "stderr",
     "output_type": "stream",
     "text": [
      "                                                                                \r"
     ]
    },
    {
     "name": "stdout",
     "output_type": "stream",
     "text": [
      "---------- Finished execution with 7 cores and 5 clusters ----------\n",
      "Elapsed time for cores 7 is 91.38991618156433 seconds\n",
      "---------- Starting execution with 7 cores and 7 clusters ----------\n"
     ]
    },
    {
     "name": "stderr",
     "output_type": "stream",
     "text": [
      "                                                                                \r"
     ]
    },
    {
     "name": "stdout",
     "output_type": "stream",
     "text": [
      "---------- Finished execution with 7 cores and 7 clusters ----------\n",
      "Elapsed time for cores 7 is 205.42239475250244 seconds\n",
      "---------- Starting execution with 7 cores and 7 clusters ----------\n"
     ]
    },
    {
     "name": "stderr",
     "output_type": "stream",
     "text": [
      "                                                                                \r"
     ]
    },
    {
     "name": "stdout",
     "output_type": "stream",
     "text": [
      "---------- Finished execution with 7 cores and 7 clusters ----------\n",
      "Elapsed time for cores 7 is 130.35883808135986 seconds\n",
      "---------- Starting execution with 7 cores and 8 clusters ----------\n"
     ]
    },
    {
     "name": "stderr",
     "output_type": "stream",
     "text": [
      "                                                                                \r"
     ]
    },
    {
     "name": "stdout",
     "output_type": "stream",
     "text": [
      "---------- Finished execution with 7 cores and 8 clusters ----------\n",
      "Elapsed time for cores 7 is 255.05740690231323 seconds\n",
      "---------- Starting execution with 7 cores and 8 clusters ----------\n"
     ]
    },
    {
     "name": "stderr",
     "output_type": "stream",
     "text": [
      "                                                                                \r"
     ]
    },
    {
     "name": "stdout",
     "output_type": "stream",
     "text": [
      "---------- Finished execution with 7 cores and 8 clusters ----------\n",
      "Elapsed time for cores 7 is 132.69366121292114 seconds\n",
      "---------- Starting execution with 7 cores and 9 clusters ----------\n"
     ]
    },
    {
     "name": "stderr",
     "output_type": "stream",
     "text": [
      "                                                                                \r"
     ]
    },
    {
     "name": "stdout",
     "output_type": "stream",
     "text": [
      "---------- Finished execution with 7 cores and 9 clusters ----------\n",
      "Elapsed time for cores 7 is 254.07306814193726 seconds\n",
      "---------- Starting execution with 7 cores and 9 clusters ----------\n"
     ]
    },
    {
     "name": "stderr",
     "output_type": "stream",
     "text": [
      "                                                                                \r"
     ]
    },
    {
     "name": "stdout",
     "output_type": "stream",
     "text": [
      "---------- Finished execution with 7 cores and 9 clusters ----------\n",
      "Elapsed time for cores 7 is 141.82619714736938 seconds\n",
      "---------- Starting execution with 7 cores and 10 clusters ----------\n"
     ]
    },
    {
     "name": "stderr",
     "output_type": "stream",
     "text": [
      "                                                                                \r"
     ]
    },
    {
     "name": "stdout",
     "output_type": "stream",
     "text": [
      "---------- Finished execution with 7 cores and 10 clusters ----------\n",
      "Elapsed time for cores 7 is 257.7725119590759 seconds\n",
      "---------- Starting execution with 7 cores and 10 clusters ----------\n"
     ]
    },
    {
     "name": "stderr",
     "output_type": "stream",
     "text": [
      "                                                                                \r"
     ]
    },
    {
     "name": "stdout",
     "output_type": "stream",
     "text": [
      "---------- Finished execution with 7 cores and 10 clusters ----------\n",
      "Elapsed time for cores 7 is 146.75371384620667 seconds\n",
      "---------- Starting execution with 7 cores and 11 clusters ----------\n"
     ]
    },
    {
     "name": "stderr",
     "output_type": "stream",
     "text": [
      "                                                                                \r"
     ]
    },
    {
     "name": "stdout",
     "output_type": "stream",
     "text": [
      "---------- Finished execution with 7 cores and 11 clusters ----------\n",
      "Elapsed time for cores 7 is 303.0771310329437 seconds\n",
      "---------- Starting execution with 7 cores and 11 clusters ----------\n"
     ]
    },
    {
     "name": "stderr",
     "output_type": "stream",
     "text": [
      "                                                                                \r"
     ]
    },
    {
     "name": "stdout",
     "output_type": "stream",
     "text": [
      "---------- Finished execution with 7 cores and 11 clusters ----------\n",
      "Elapsed time for cores 7 is 182.71821689605713 seconds\n",
      "---------- Starting execution with 8 cores and 3 clusters ----------\n"
     ]
    },
    {
     "name": "stderr",
     "output_type": "stream",
     "text": [
      "                                                                                \r"
     ]
    },
    {
     "name": "stdout",
     "output_type": "stream",
     "text": [
      "---------- Finished execution with 8 cores and 3 clusters ----------\n",
      "Elapsed time for cores 8 is 108.66874313354492 seconds\n",
      "---------- Starting execution with 8 cores and 3 clusters ----------\n"
     ]
    },
    {
     "name": "stderr",
     "output_type": "stream",
     "text": [
      "                                                                                \r"
     ]
    },
    {
     "name": "stdout",
     "output_type": "stream",
     "text": [
      "---------- Finished execution with 8 cores and 3 clusters ----------\n",
      "Elapsed time for cores 8 is 85.44320893287659 seconds\n",
      "---------- Starting execution with 8 cores and 5 clusters ----------\n"
     ]
    },
    {
     "name": "stderr",
     "output_type": "stream",
     "text": [
      "                                                                                \r"
     ]
    },
    {
     "name": "stdout",
     "output_type": "stream",
     "text": [
      "---------- Finished execution with 8 cores and 5 clusters ----------\n",
      "Elapsed time for cores 8 is 163.8931589126587 seconds\n",
      "---------- Starting execution with 8 cores and 5 clusters ----------\n"
     ]
    },
    {
     "name": "stderr",
     "output_type": "stream",
     "text": [
      "                                                                                \r"
     ]
    },
    {
     "name": "stdout",
     "output_type": "stream",
     "text": [
      "---------- Finished execution with 8 cores and 5 clusters ----------\n",
      "Elapsed time for cores 8 is 111.4689269065857 seconds\n",
      "---------- Starting execution with 8 cores and 7 clusters ----------\n"
     ]
    },
    {
     "name": "stderr",
     "output_type": "stream",
     "text": [
      "                                                                                \r"
     ]
    },
    {
     "name": "stdout",
     "output_type": "stream",
     "text": [
      "---------- Finished execution with 8 cores and 7 clusters ----------\n",
      "Elapsed time for cores 8 is 223.1232671737671 seconds\n",
      "---------- Starting execution with 8 cores and 7 clusters ----------\n"
     ]
    },
    {
     "name": "stderr",
     "output_type": "stream",
     "text": [
      "                                                                                \r"
     ]
    },
    {
     "name": "stdout",
     "output_type": "stream",
     "text": [
      "---------- Finished execution with 8 cores and 7 clusters ----------\n",
      "Elapsed time for cores 8 is 146.2767469882965 seconds\n",
      "---------- Starting execution with 8 cores and 8 clusters ----------\n"
     ]
    },
    {
     "name": "stderr",
     "output_type": "stream",
     "text": [
      "                                                                                \r"
     ]
    },
    {
     "name": "stdout",
     "output_type": "stream",
     "text": [
      "---------- Finished execution with 8 cores and 8 clusters ----------\n",
      "Elapsed time for cores 8 is 254.14297890663147 seconds\n",
      "---------- Starting execution with 8 cores and 8 clusters ----------\n"
     ]
    },
    {
     "name": "stderr",
     "output_type": "stream",
     "text": [
      "                                                                                \r"
     ]
    },
    {
     "name": "stdout",
     "output_type": "stream",
     "text": [
      "---------- Finished execution with 8 cores and 8 clusters ----------\n",
      "Elapsed time for cores 8 is 160.06078267097473 seconds\n",
      "---------- Starting execution with 8 cores and 9 clusters ----------\n"
     ]
    },
    {
     "name": "stderr",
     "output_type": "stream",
     "text": [
      "                                                                                \r"
     ]
    },
    {
     "name": "stdout",
     "output_type": "stream",
     "text": [
      "---------- Finished execution with 8 cores and 9 clusters ----------\n",
      "Elapsed time for cores 8 is 262.476979970932 seconds\n",
      "---------- Starting execution with 8 cores and 9 clusters ----------\n"
     ]
    },
    {
     "name": "stderr",
     "output_type": "stream",
     "text": [
      "                                                                                \r"
     ]
    },
    {
     "name": "stdout",
     "output_type": "stream",
     "text": [
      "---------- Finished execution with 8 cores and 9 clusters ----------\n",
      "Elapsed time for cores 8 is 136.7139129638672 seconds\n",
      "---------- Starting execution with 8 cores and 10 clusters ----------\n"
     ]
    },
    {
     "name": "stderr",
     "output_type": "stream",
     "text": [
      "                                                                                \r"
     ]
    },
    {
     "name": "stdout",
     "output_type": "stream",
     "text": [
      "---------- Finished execution with 8 cores and 10 clusters ----------\n",
      "Elapsed time for cores 8 is 272.82360887527466 seconds\n",
      "---------- Starting execution with 8 cores and 10 clusters ----------\n"
     ]
    },
    {
     "name": "stderr",
     "output_type": "stream",
     "text": [
      "                                                                                \r"
     ]
    },
    {
     "name": "stdout",
     "output_type": "stream",
     "text": [
      "---------- Finished execution with 8 cores and 10 clusters ----------\n",
      "Elapsed time for cores 8 is 168.7591049671173 seconds\n",
      "---------- Starting execution with 8 cores and 11 clusters ----------\n"
     ]
    },
    {
     "name": "stderr",
     "output_type": "stream",
     "text": [
      "                                                                                \r"
     ]
    },
    {
     "name": "stdout",
     "output_type": "stream",
     "text": [
      "---------- Finished execution with 8 cores and 11 clusters ----------\n",
      "Elapsed time for cores 8 is 326.1905369758606 seconds\n",
      "---------- Starting execution with 8 cores and 11 clusters ----------\n"
     ]
    },
    {
     "name": "stderr",
     "output_type": "stream",
     "text": [
      "[Stage 12:=============================>                            (2 + 2) / 4]\r"
     ]
    },
    {
     "name": "stdout",
     "output_type": "stream",
     "text": [
      "---------- Finished execution with 8 cores and 11 clusters ----------\n",
      "Elapsed time for cores 8 is 177.2009117603302 seconds\n"
     ]
    },
    {
     "name": "stderr",
     "output_type": "stream",
     "text": [
      "                                                                                \r"
     ]
    }
   ],
   "source": [
    "elapsed_times = []\n",
    "\n",
    "core_list = list(range(1,9,1))\n",
    "cluster_list = [3,5,7,8,9,10,11]\n",
    "functions = [parallelKMeans, parallelKMeans_slower]\n",
    "\n",
    "for cores in core_list:\n",
    "    for clusters in cluster_list:\n",
    "        for Kmeans in functions:\n",
    "            sc.stop()\n",
    "            conf = SparkConf().setAppName(\"appName\").setMaster(f\"local[{cores}]\")\n",
    "            sc = SparkContext(conf=conf)\n",
    "\n",
    "            print(f\"---------- Starting execution with {cores} cores and {clusters} clusters ----------\")\n",
    "\n",
    "            start = time.time()\n",
    "\n",
    "            # ---------- Execution ----------\n",
    "\n",
    "            RDD_Xy = parallelReadFile(\"../data/tot_mnist_shuf.csv\")\n",
    "            Kmeans(RDD_Xy, clusters, 5)\n",
    "\n",
    "            # ---------- Execution ----------\n",
    "\n",
    "            end = time.time()\n",
    "            print(f\"---------- Finished execution with {cores} cores and {clusters} clusters ----------\")\n",
    "            elapsed_time = end - start\n",
    "            elapsed_times.append(\n",
    "                {\n",
    "                    \"Number of Cores\": cores,\n",
    "                    \"Number of Clusters\": clusters,\n",
    "                    \"Function used\": Kmeans,\n",
    "                    \"elapsed_time\": elapsed_time\n",
    "                }\n",
    "            )\n",
    "            print(f\"Elapsed time for cores {cores} is {elapsed_time} seconds\")"
   ]
  },
  {
   "cell_type": "code",
   "execution_count": null,
   "id": "405848eb-4ba9-4f4b-90ce-74aa903e125f",
   "metadata": {},
   "outputs": [
    {
     "data": {
      "text/plain": [
       "[{'Number of Cores': 1,\n",
       "  'Number of Clusters': 3,\n",
       "  'Function used': <function __main__.parallelKMeans(data, K, n_iter)>,\n",
       "  'elapsed_time': 279.2463307380676},\n",
       " {'Number of Cores': 1,\n",
       "  'Number of Clusters': 3,\n",
       "  'Function used': <function __main__.parallelKMeans_slower(data, K, n_iter)>,\n",
       "  'elapsed_time': 175.4063618183136},\n",
       " {'Number of Cores': 1,\n",
       "  'Number of Clusters': 5,\n",
       "  'Function used': <function __main__.parallelKMeans(data, K, n_iter)>,\n",
       "  'elapsed_time': 391.22597789764404},\n",
       " {'Number of Cores': 1,\n",
       "  'Number of Clusters': 5,\n",
       "  'Function used': <function __main__.parallelKMeans_slower(data, K, n_iter)>,\n",
       "  'elapsed_time': 217.99994802474976},\n",
       " {'Number of Cores': 1,\n",
       "  'Number of Clusters': 7,\n",
       "  'Function used': <function __main__.parallelKMeans(data, K, n_iter)>,\n",
       "  'elapsed_time': 2198.4438829421997},\n",
       " {'Number of Cores': 1,\n",
       "  'Number of Clusters': 7,\n",
       "  'Function used': <function __main__.parallelKMeans_slower(data, K, n_iter)>,\n",
       "  'elapsed_time': 302.5171310901642},\n",
       " {'Number of Cores': 1,\n",
       "  'Number of Clusters': 8,\n",
       "  'Function used': <function __main__.parallelKMeans(data, K, n_iter)>,\n",
       "  'elapsed_time': 502.3829231262207},\n",
       " {'Number of Cores': 1,\n",
       "  'Number of Clusters': 8,\n",
       "  'Function used': <function __main__.parallelKMeans_slower(data, K, n_iter)>,\n",
       "  'elapsed_time': 305.6902687549591},\n",
       " {'Number of Cores': 1,\n",
       "  'Number of Clusters': 9,\n",
       "  'Function used': <function __main__.parallelKMeans(data, K, n_iter)>,\n",
       "  'elapsed_time': 598.1756410598755},\n",
       " {'Number of Cores': 1,\n",
       "  'Number of Clusters': 9,\n",
       "  'Function used': <function __main__.parallelKMeans_slower(data, K, n_iter)>,\n",
       "  'elapsed_time': 316.9649019241333},\n",
       " {'Number of Cores': 1,\n",
       "  'Number of Clusters': 10,\n",
       "  'Function used': <function __main__.parallelKMeans(data, K, n_iter)>,\n",
       "  'elapsed_time': 659.4783072471619},\n",
       " {'Number of Cores': 1,\n",
       "  'Number of Clusters': 10,\n",
       "  'Function used': <function __main__.parallelKMeans_slower(data, K, n_iter)>,\n",
       "  'elapsed_time': 340.03762102127075},\n",
       " {'Number of Cores': 1,\n",
       "  'Number of Clusters': 11,\n",
       "  'Function used': <function __main__.parallelKMeans(data, K, n_iter)>,\n",
       "  'elapsed_time': 713.2239789962769},\n",
       " {'Number of Cores': 1,\n",
       "  'Number of Clusters': 11,\n",
       "  'Function used': <function __main__.parallelKMeans_slower(data, K, n_iter)>,\n",
       "  'elapsed_time': 377.28686594963074},\n",
       " {'Number of Cores': 2,\n",
       "  'Number of Clusters': 3,\n",
       "  'Function used': <function __main__.parallelKMeans(data, K, n_iter)>,\n",
       "  'elapsed_time': 136.3023910522461},\n",
       " {'Number of Cores': 2,\n",
       "  'Number of Clusters': 3,\n",
       "  'Function used': <function __main__.parallelKMeans_slower(data, K, n_iter)>,\n",
       "  'elapsed_time': 98.67090463638306},\n",
       " {'Number of Cores': 2,\n",
       "  'Number of Clusters': 5,\n",
       "  'Function used': <function __main__.parallelKMeans(data, K, n_iter)>,\n",
       "  'elapsed_time': 199.5990138053894},\n",
       " {'Number of Cores': 2,\n",
       "  'Number of Clusters': 5,\n",
       "  'Function used': <function __main__.parallelKMeans_slower(data, K, n_iter)>,\n",
       "  'elapsed_time': 134.86926889419556},\n",
       " {'Number of Cores': 2,\n",
       "  'Number of Clusters': 7,\n",
       "  'Function used': <function __main__.parallelKMeans(data, K, n_iter)>,\n",
       "  'elapsed_time': 257.2058906555176},\n",
       " {'Number of Cores': 2,\n",
       "  'Number of Clusters': 7,\n",
       "  'Function used': <function __main__.parallelKMeans_slower(data, K, n_iter)>,\n",
       "  'elapsed_time': 163.02315306663513},\n",
       " {'Number of Cores': 2,\n",
       "  'Number of Clusters': 8,\n",
       "  'Function used': <function __main__.parallelKMeans(data, K, n_iter)>,\n",
       "  'elapsed_time': 312.4502041339874},\n",
       " {'Number of Cores': 2,\n",
       "  'Number of Clusters': 8,\n",
       "  'Function used': <function __main__.parallelKMeans_slower(data, K, n_iter)>,\n",
       "  'elapsed_time': 176.11716222763062},\n",
       " {'Number of Cores': 2,\n",
       "  'Number of Clusters': 9,\n",
       "  'Function used': <function __main__.parallelKMeans(data, K, n_iter)>,\n",
       "  'elapsed_time': 317.7309911251068},\n",
       " {'Number of Cores': 2,\n",
       "  'Number of Clusters': 9,\n",
       "  'Function used': <function __main__.parallelKMeans_slower(data, K, n_iter)>,\n",
       "  'elapsed_time': 199.76078629493713},\n",
       " {'Number of Cores': 2,\n",
       "  'Number of Clusters': 10,\n",
       "  'Function used': <function __main__.parallelKMeans(data, K, n_iter)>,\n",
       "  'elapsed_time': 387.511225938797},\n",
       " {'Number of Cores': 2,\n",
       "  'Number of Clusters': 10,\n",
       "  'Function used': <function __main__.parallelKMeans_slower(data, K, n_iter)>,\n",
       "  'elapsed_time': 209.26971006393433},\n",
       " {'Number of Cores': 2,\n",
       "  'Number of Clusters': 11,\n",
       "  'Function used': <function __main__.parallelKMeans(data, K, n_iter)>,\n",
       "  'elapsed_time': 393.0591309070587},\n",
       " {'Number of Cores': 2,\n",
       "  'Number of Clusters': 11,\n",
       "  'Function used': <function __main__.parallelKMeans_slower(data, K, n_iter)>,\n",
       "  'elapsed_time': 228.2998070716858},\n",
       " {'Number of Cores': 3,\n",
       "  'Number of Clusters': 3,\n",
       "  'Function used': <function __main__.parallelKMeans(data, K, n_iter)>,\n",
       "  'elapsed_time': 141.45122408866882},\n",
       " {'Number of Cores': 3,\n",
       "  'Number of Clusters': 3,\n",
       "  'Function used': <function __main__.parallelKMeans_slower(data, K, n_iter)>,\n",
       "  'elapsed_time': 91.89359998703003},\n",
       " {'Number of Cores': 3,\n",
       "  'Number of Clusters': 5,\n",
       "  'Function used': <function __main__.parallelKMeans(data, K, n_iter)>,\n",
       "  'elapsed_time': 200.78327894210815},\n",
       " {'Number of Cores': 3,\n",
       "  'Number of Clusters': 5,\n",
       "  'Function used': <function __main__.parallelKMeans_slower(data, K, n_iter)>,\n",
       "  'elapsed_time': 120.03051400184631},\n",
       " {'Number of Cores': 3,\n",
       "  'Number of Clusters': 7,\n",
       "  'Function used': <function __main__.parallelKMeans(data, K, n_iter)>,\n",
       "  'elapsed_time': 263.1120641231537},\n",
       " {'Number of Cores': 3,\n",
       "  'Number of Clusters': 7,\n",
       "  'Function used': <function __main__.parallelKMeans_slower(data, K, n_iter)>,\n",
       "  'elapsed_time': 148.92279291152954},\n",
       " {'Number of Cores': 3,\n",
       "  'Number of Clusters': 8,\n",
       "  'Function used': <function __main__.parallelKMeans(data, K, n_iter)>,\n",
       "  'elapsed_time': 264.6657521724701},\n",
       " {'Number of Cores': 3,\n",
       "  'Number of Clusters': 8,\n",
       "  'Function used': <function __main__.parallelKMeans_slower(data, K, n_iter)>,\n",
       "  'elapsed_time': 171.39899492263794},\n",
       " {'Number of Cores': 3,\n",
       "  'Number of Clusters': 9,\n",
       "  'Function used': <function __main__.parallelKMeans(data, K, n_iter)>,\n",
       "  'elapsed_time': 293.14406991004944},\n",
       " {'Number of Cores': 3,\n",
       "  'Number of Clusters': 9,\n",
       "  'Function used': <function __main__.parallelKMeans_slower(data, K, n_iter)>,\n",
       "  'elapsed_time': 173.80864834785461},\n",
       " {'Number of Cores': 3,\n",
       "  'Number of Clusters': 10,\n",
       "  'Function used': <function __main__.parallelKMeans(data, K, n_iter)>,\n",
       "  'elapsed_time': 322.73885703086853},\n",
       " {'Number of Cores': 3,\n",
       "  'Number of Clusters': 10,\n",
       "  'Function used': <function __main__.parallelKMeans_slower(data, K, n_iter)>,\n",
       "  'elapsed_time': 191.96583223342896},\n",
       " {'Number of Cores': 3,\n",
       "  'Number of Clusters': 11,\n",
       "  'Function used': <function __main__.parallelKMeans(data, K, n_iter)>,\n",
       "  'elapsed_time': 383.08349609375},\n",
       " {'Number of Cores': 3,\n",
       "  'Number of Clusters': 11,\n",
       "  'Function used': <function __main__.parallelKMeans_slower(data, K, n_iter)>,\n",
       "  'elapsed_time': 206.5828080177307},\n",
       " {'Number of Cores': 4,\n",
       "  'Number of Clusters': 3,\n",
       "  'Function used': <function __main__.parallelKMeans(data, K, n_iter)>,\n",
       "  'elapsed_time': 87.27632284164429},\n",
       " {'Number of Cores': 4,\n",
       "  'Number of Clusters': 3,\n",
       "  'Function used': <function __main__.parallelKMeans_slower(data, K, n_iter)>,\n",
       "  'elapsed_time': 61.84689903259277},\n",
       " {'Number of Cores': 4,\n",
       "  'Number of Clusters': 5,\n",
       "  'Function used': <function __main__.parallelKMeans(data, K, n_iter)>,\n",
       "  'elapsed_time': 124.99901485443115},\n",
       " {'Number of Cores': 4,\n",
       "  'Number of Clusters': 5,\n",
       "  'Function used': <function __main__.parallelKMeans_slower(data, K, n_iter)>,\n",
       "  'elapsed_time': 1091.4750180244446},\n",
       " {'Number of Cores': 4,\n",
       "  'Number of Clusters': 7,\n",
       "  'Function used': <function __main__.parallelKMeans(data, K, n_iter)>,\n",
       "  'elapsed_time': 2991.328257083893},\n",
       " {'Number of Cores': 4,\n",
       "  'Number of Clusters': 7,\n",
       "  'Function used': <function __main__.parallelKMeans_slower(data, K, n_iter)>,\n",
       "  'elapsed_time': 1976.7170741558075},\n",
       " {'Number of Cores': 4,\n",
       "  'Number of Clusters': 8,\n",
       "  'Function used': <function __main__.parallelKMeans(data, K, n_iter)>,\n",
       "  'elapsed_time': 4013.581139087677},\n",
       " {'Number of Cores': 4,\n",
       "  'Number of Clusters': 8,\n",
       "  'Function used': <function __main__.parallelKMeans_slower(data, K, n_iter)>,\n",
       "  'elapsed_time': 1928.5359439849854},\n",
       " {'Number of Cores': 4,\n",
       "  'Number of Clusters': 9,\n",
       "  'Function used': <function __main__.parallelKMeans(data, K, n_iter)>,\n",
       "  'elapsed_time': 3985.8571569919586},\n",
       " {'Number of Cores': 4,\n",
       "  'Number of Clusters': 9,\n",
       "  'Function used': <function __main__.parallelKMeans_slower(data, K, n_iter)>,\n",
       "  'elapsed_time': 1958.9726028442383},\n",
       " {'Number of Cores': 4,\n",
       "  'Number of Clusters': 10,\n",
       "  'Function used': <function __main__.parallelKMeans(data, K, n_iter)>,\n",
       "  'elapsed_time': 4208.268903970718},\n",
       " {'Number of Cores': 4,\n",
       "  'Number of Clusters': 10,\n",
       "  'Function used': <function __main__.parallelKMeans_slower(data, K, n_iter)>,\n",
       "  'elapsed_time': 2026.9486730098724},\n",
       " {'Number of Cores': 4,\n",
       "  'Number of Clusters': 11,\n",
       "  'Function used': <function __main__.parallelKMeans(data, K, n_iter)>,\n",
       "  'elapsed_time': 4190.544682979584},\n",
       " {'Number of Cores': 4,\n",
       "  'Number of Clusters': 11,\n",
       "  'Function used': <function __main__.parallelKMeans_slower(data, K, n_iter)>,\n",
       "  'elapsed_time': 3019.6888151168823},\n",
       " {'Number of Cores': 5,\n",
       "  'Number of Clusters': 3,\n",
       "  'Function used': <function __main__.parallelKMeans(data, K, n_iter)>,\n",
       "  'elapsed_time': 1901.7815039157867},\n",
       " {'Number of Cores': 5,\n",
       "  'Number of Clusters': 3,\n",
       "  'Function used': <function __main__.parallelKMeans_slower(data, K, n_iter)>,\n",
       "  'elapsed_time': 1027.3855600357056},\n",
       " {'Number of Cores': 5,\n",
       "  'Number of Clusters': 5,\n",
       "  'Function used': <function __main__.parallelKMeans(data, K, n_iter)>,\n",
       "  'elapsed_time': 1964.760411977768},\n",
       " {'Number of Cores': 5,\n",
       "  'Number of Clusters': 5,\n",
       "  'Function used': <function __main__.parallelKMeans_slower(data, K, n_iter)>,\n",
       "  'elapsed_time': 1008.7162575721741},\n",
       " {'Number of Cores': 5,\n",
       "  'Number of Clusters': 7,\n",
       "  'Function used': <function __main__.parallelKMeans(data, K, n_iter)>,\n",
       "  'elapsed_time': 2892.3357470035553},\n",
       " {'Number of Cores': 5,\n",
       "  'Number of Clusters': 7,\n",
       "  'Function used': <function __main__.parallelKMeans_slower(data, K, n_iter)>,\n",
       "  'elapsed_time': 1983.860100030899},\n",
       " {'Number of Cores': 5,\n",
       "  'Number of Clusters': 8,\n",
       "  'Function used': <function __main__.parallelKMeans(data, K, n_iter)>,\n",
       "  'elapsed_time': 3967.581067085266},\n",
       " {'Number of Cores': 5,\n",
       "  'Number of Clusters': 8,\n",
       "  'Function used': <function __main__.parallelKMeans_slower(data, K, n_iter)>,\n",
       "  'elapsed_time': 1997.7879917621613},\n",
       " {'Number of Cores': 5,\n",
       "  'Number of Clusters': 9,\n",
       "  'Function used': <function __main__.parallelKMeans(data, K, n_iter)>,\n",
       "  'elapsed_time': 3127.5639929771423},\n",
       " {'Number of Cores': 5,\n",
       "  'Number of Clusters': 9,\n",
       "  'Function used': <function __main__.parallelKMeans_slower(data, K, n_iter)>,\n",
       "  'elapsed_time': 2886.0598981380463},\n",
       " {'Number of Cores': 5,\n",
       "  'Number of Clusters': 10,\n",
       "  'Function used': <function __main__.parallelKMeans(data, K, n_iter)>,\n",
       "  'elapsed_time': 2162.178005218506},\n",
       " {'Number of Cores': 5,\n",
       "  'Number of Clusters': 10,\n",
       "  'Function used': <function __main__.parallelKMeans_slower(data, K, n_iter)>,\n",
       "  'elapsed_time': 122.65531277656555},\n",
       " {'Number of Cores': 5,\n",
       "  'Number of Clusters': 11,\n",
       "  'Function used': <function __main__.parallelKMeans(data, K, n_iter)>,\n",
       "  'elapsed_time': 259.8843710422516},\n",
       " {'Number of Cores': 5,\n",
       "  'Number of Clusters': 11,\n",
       "  'Function used': <function __main__.parallelKMeans_slower(data, K, n_iter)>,\n",
       "  'elapsed_time': 141.41071200370789},\n",
       " {'Number of Cores': 6,\n",
       "  'Number of Clusters': 3,\n",
       "  'Function used': <function __main__.parallelKMeans(data, K, n_iter)>,\n",
       "  'elapsed_time': 95.01778507232666},\n",
       " {'Number of Cores': 6,\n",
       "  'Number of Clusters': 3,\n",
       "  'Function used': <function __main__.parallelKMeans_slower(data, K, n_iter)>,\n",
       "  'elapsed_time': 63.593255281448364},\n",
       " {'Number of Cores': 6,\n",
       "  'Number of Clusters': 5,\n",
       "  'Function used': <function __main__.parallelKMeans(data, K, n_iter)>,\n",
       "  'elapsed_time': 138.1022927761078},\n",
       " {'Number of Cores': 6,\n",
       "  'Number of Clusters': 5,\n",
       "  'Function used': <function __main__.parallelKMeans_slower(data, K, n_iter)>,\n",
       "  'elapsed_time': 85.92311692237854},\n",
       " {'Number of Cores': 6,\n",
       "  'Number of Clusters': 7,\n",
       "  'Function used': <function __main__.parallelKMeans(data, K, n_iter)>,\n",
       "  'elapsed_time': 172.67958307266235},\n",
       " {'Number of Cores': 6,\n",
       "  'Number of Clusters': 7,\n",
       "  'Function used': <function __main__.parallelKMeans_slower(data, K, n_iter)>,\n",
       "  'elapsed_time': 120.36094498634338},\n",
       " {'Number of Cores': 6,\n",
       "  'Number of Clusters': 8,\n",
       "  'Function used': <function __main__.parallelKMeans(data, K, n_iter)>,\n",
       "  'elapsed_time': 247.37116503715515},\n",
       " {'Number of Cores': 6,\n",
       "  'Number of Clusters': 8,\n",
       "  'Function used': <function __main__.parallelKMeans_slower(data, K, n_iter)>,\n",
       "  'elapsed_time': 1955.2219710350037},\n",
       " {'Number of Cores': 6,\n",
       "  'Number of Clusters': 9,\n",
       "  'Function used': <function __main__.parallelKMeans(data, K, n_iter)>,\n",
       "  'elapsed_time': 1377.3748979568481},\n",
       " {'Number of Cores': 6,\n",
       "  'Number of Clusters': 9,\n",
       "  'Function used': <function __main__.parallelKMeans_slower(data, K, n_iter)>,\n",
       "  'elapsed_time': 133.82584476470947},\n",
       " {'Number of Cores': 6,\n",
       "  'Number of Clusters': 10,\n",
       "  'Function used': <function __main__.parallelKMeans(data, K, n_iter)>,\n",
       "  'elapsed_time': 237.42362904548645},\n",
       " {'Number of Cores': 6,\n",
       "  'Number of Clusters': 10,\n",
       "  'Function used': <function __main__.parallelKMeans_slower(data, K, n_iter)>,\n",
       "  'elapsed_time': 139.44775414466858},\n",
       " {'Number of Cores': 6,\n",
       "  'Number of Clusters': 11,\n",
       "  'Function used': <function __main__.parallelKMeans(data, K, n_iter)>,\n",
       "  'elapsed_time': 253.89519500732422},\n",
       " {'Number of Cores': 6,\n",
       "  'Number of Clusters': 11,\n",
       "  'Function used': <function __main__.parallelKMeans_slower(data, K, n_iter)>,\n",
       "  'elapsed_time': 159.64692878723145},\n",
       " {'Number of Cores': 7,\n",
       "  'Number of Clusters': 3,\n",
       "  'Function used': <function __main__.parallelKMeans(data, K, n_iter)>,\n",
       "  'elapsed_time': 104.20483088493347},\n",
       " {'Number of Cores': 7,\n",
       "  'Number of Clusters': 3,\n",
       "  'Function used': <function __main__.parallelKMeans_slower(data, K, n_iter)>,\n",
       "  'elapsed_time': 71.23921799659729},\n",
       " {'Number of Cores': 7,\n",
       "  'Number of Clusters': 5,\n",
       "  'Function used': <function __main__.parallelKMeans(data, K, n_iter)>,\n",
       "  'elapsed_time': 148.4513440132141},\n",
       " {'Number of Cores': 7,\n",
       "  'Number of Clusters': 5,\n",
       "  'Function used': <function __main__.parallelKMeans_slower(data, K, n_iter)>,\n",
       "  'elapsed_time': 91.38991618156433},\n",
       " {'Number of Cores': 7,\n",
       "  'Number of Clusters': 7,\n",
       "  'Function used': <function __main__.parallelKMeans(data, K, n_iter)>,\n",
       "  'elapsed_time': 205.42239475250244},\n",
       " {'Number of Cores': 7,\n",
       "  'Number of Clusters': 7,\n",
       "  'Function used': <function __main__.parallelKMeans_slower(data, K, n_iter)>,\n",
       "  'elapsed_time': 130.35883808135986},\n",
       " {'Number of Cores': 7,\n",
       "  'Number of Clusters': 8,\n",
       "  'Function used': <function __main__.parallelKMeans(data, K, n_iter)>,\n",
       "  'elapsed_time': 255.05740690231323},\n",
       " {'Number of Cores': 7,\n",
       "  'Number of Clusters': 8,\n",
       "  'Function used': <function __main__.parallelKMeans_slower(data, K, n_iter)>,\n",
       "  'elapsed_time': 132.69366121292114},\n",
       " {'Number of Cores': 7,\n",
       "  'Number of Clusters': 9,\n",
       "  'Function used': <function __main__.parallelKMeans(data, K, n_iter)>,\n",
       "  'elapsed_time': 254.07306814193726},\n",
       " {'Number of Cores': 7,\n",
       "  'Number of Clusters': 9,\n",
       "  'Function used': <function __main__.parallelKMeans_slower(data, K, n_iter)>,\n",
       "  'elapsed_time': 141.82619714736938},\n",
       " {'Number of Cores': 7,\n",
       "  'Number of Clusters': 10,\n",
       "  'Function used': <function __main__.parallelKMeans(data, K, n_iter)>,\n",
       "  'elapsed_time': 257.7725119590759},\n",
       " {'Number of Cores': 7,\n",
       "  'Number of Clusters': 10,\n",
       "  'Function used': <function __main__.parallelKMeans_slower(data, K, n_iter)>,\n",
       "  'elapsed_time': 146.75371384620667},\n",
       " {'Number of Cores': 7,\n",
       "  'Number of Clusters': 11,\n",
       "  'Function used': <function __main__.parallelKMeans(data, K, n_iter)>,\n",
       "  'elapsed_time': 303.0771310329437},\n",
       " {'Number of Cores': 7,\n",
       "  'Number of Clusters': 11,\n",
       "  'Function used': <function __main__.parallelKMeans_slower(data, K, n_iter)>,\n",
       "  'elapsed_time': 182.71821689605713},\n",
       " {'Number of Cores': 8,\n",
       "  'Number of Clusters': 3,\n",
       "  'Function used': <function __main__.parallelKMeans(data, K, n_iter)>,\n",
       "  'elapsed_time': 108.66874313354492},\n",
       " {'Number of Cores': 8,\n",
       "  'Number of Clusters': 3,\n",
       "  'Function used': <function __main__.parallelKMeans_slower(data, K, n_iter)>,\n",
       "  'elapsed_time': 85.44320893287659},\n",
       " {'Number of Cores': 8,\n",
       "  'Number of Clusters': 5,\n",
       "  'Function used': <function __main__.parallelKMeans(data, K, n_iter)>,\n",
       "  'elapsed_time': 163.8931589126587},\n",
       " {'Number of Cores': 8,\n",
       "  'Number of Clusters': 5,\n",
       "  'Function used': <function __main__.parallelKMeans_slower(data, K, n_iter)>,\n",
       "  'elapsed_time': 111.4689269065857},\n",
       " {'Number of Cores': 8,\n",
       "  'Number of Clusters': 7,\n",
       "  'Function used': <function __main__.parallelKMeans(data, K, n_iter)>,\n",
       "  'elapsed_time': 223.1232671737671},\n",
       " {'Number of Cores': 8,\n",
       "  'Number of Clusters': 7,\n",
       "  'Function used': <function __main__.parallelKMeans_slower(data, K, n_iter)>,\n",
       "  'elapsed_time': 146.2767469882965},\n",
       " {'Number of Cores': 8,\n",
       "  'Number of Clusters': 8,\n",
       "  'Function used': <function __main__.parallelKMeans(data, K, n_iter)>,\n",
       "  'elapsed_time': 254.14297890663147},\n",
       " {'Number of Cores': 8,\n",
       "  'Number of Clusters': 8,\n",
       "  'Function used': <function __main__.parallelKMeans_slower(data, K, n_iter)>,\n",
       "  'elapsed_time': 160.06078267097473},\n",
       " {'Number of Cores': 8,\n",
       "  'Number of Clusters': 9,\n",
       "  'Function used': <function __main__.parallelKMeans(data, K, n_iter)>,\n",
       "  'elapsed_time': 262.476979970932},\n",
       " {'Number of Cores': 8,\n",
       "  'Number of Clusters': 9,\n",
       "  'Function used': <function __main__.parallelKMeans_slower(data, K, n_iter)>,\n",
       "  'elapsed_time': 136.7139129638672},\n",
       " {'Number of Cores': 8,\n",
       "  'Number of Clusters': 10,\n",
       "  'Function used': <function __main__.parallelKMeans(data, K, n_iter)>,\n",
       "  'elapsed_time': 272.82360887527466},\n",
       " {'Number of Cores': 8,\n",
       "  'Number of Clusters': 10,\n",
       "  'Function used': <function __main__.parallelKMeans_slower(data, K, n_iter)>,\n",
       "  'elapsed_time': 168.7591049671173},\n",
       " {'Number of Cores': 8,\n",
       "  'Number of Clusters': 11,\n",
       "  'Function used': <function __main__.parallelKMeans(data, K, n_iter)>,\n",
       "  'elapsed_time': 326.1905369758606},\n",
       " {'Number of Cores': 8,\n",
       "  'Number of Clusters': 11,\n",
       "  'Function used': <function __main__.parallelKMeans_slower(data, K, n_iter)>,\n",
       "  'elapsed_time': 177.2009117603302}]"
      ]
     },
     "execution_count": 13,
     "metadata": {},
     "output_type": "execute_result"
    }
   ],
   "source": [
    "elapsed_times"
   ]
  },
  {
   "cell_type": "code",
   "execution_count": null,
   "id": "c7a8ada4-4212-4170-9943-720f35dbe9f6",
   "metadata": {},
   "outputs": [],
   "source": []
  }
 ],
 "metadata": {
  "kernelspec": {
   "display_name": "Python 3 (ipykernel)",
   "language": "python",
   "name": "python3"
  },
  "language_info": {
   "codemirror_mode": {
    "name": "ipython",
    "version": 3
   },
   "file_extension": ".py",
   "mimetype": "text/x-python",
   "name": "python",
   "nbconvert_exporter": "python",
   "pygments_lexer": "ipython3",
   "version": "3.7.10"
  }
 },
 "nbformat": 4,
 "nbformat_minor": 5
}
