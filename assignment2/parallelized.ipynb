{
 "cells": [
  {
   "cell_type": "markdown",
   "id": "0b00ca97",
   "metadata": {},
   "source": [
    "# Parallelized version"
   ]
  },
  {
   "cell_type": "code",
   "execution_count": 1,
   "id": "ae246ccf",
   "metadata": {},
   "outputs": [],
   "source": [
    "import math\n",
    "import random\n",
    "import numpy as np\n",
    "import time\n",
    "from functools import reduce"
   ]
  },
  {
   "cell_type": "markdown",
   "id": "b5225c4c",
   "metadata": {},
   "source": [
    "## Initializing spark"
   ]
  },
  {
   "cell_type": "code",
   "execution_count": 2,
   "id": "bce51be2",
   "metadata": {},
   "outputs": [],
   "source": [
    "from pyspark import SparkConf, SparkContext"
   ]
  },
  {
   "cell_type": "code",
   "execution_count": 3,
   "id": "1b999d23",
   "metadata": {},
   "outputs": [
    {
     "name": "stdout",
     "output_type": "stream",
     "text": [
      "22/12/16 15:11:03 WARN Utils: Your hostname, Alexs-MacBook-Air.local resolves to a loopback address: 127.0.0.1; using 192.168.1.132 instead (on interface en0)\n",
      "22/12/16 15:11:03 WARN Utils: Set SPARK_LOCAL_IP if you need to bind to another address\n"
     ]
    },
    {
     "name": "stderr",
     "output_type": "stream",
     "text": [
      "Setting default log level to \"WARN\".\n",
      "To adjust logging level use sc.setLogLevel(newLevel). For SparkR, use setLogLevel(newLevel).\n"
     ]
    },
    {
     "name": "stdout",
     "output_type": "stream",
     "text": [
      "22/12/16 15:11:04 WARN NativeCodeLoader: Unable to load native-hadoop library for your platform... using builtin-java classes where applicable\n"
     ]
    }
   ],
   "source": [
    "conf = SparkConf().setAppName(\"appName\").setMaster(\"local[*]\")\n",
    "sc = SparkContext(conf=conf)"
   ]
  },
  {
   "cell_type": "markdown",
   "id": "9c2940c3",
   "metadata": {
    "tags": []
   },
   "source": [
    "## Functions"
   ]
  },
  {
   "cell_type": "markdown",
   "id": "3cf4424e",
   "metadata": {},
   "source": [
    "### Auxiliar functions"
   ]
  },
  {
   "cell_type": "code",
   "execution_count": 4,
   "id": "7115c6bc",
   "metadata": {},
   "outputs": [],
   "source": [
    "def str_to_number_list(line):\n",
    "    numbers = line.replace(\" \",\"\").split(\",\")\n",
    "    numbers = [float(number) for number in numbers]\n",
    "    \n",
    "    # Separate X and y\n",
    "    numbers = (numbers[1:], numbers[0])\n",
    "    \n",
    "    return numbers"
   ]
  },
  {
   "cell_type": "code",
   "execution_count": 5,
   "id": "337dadd2-6bc3-48de-b28d-77e0346f35c9",
   "metadata": {},
   "outputs": [],
   "source": [
    "def trainTestSplit(dataset):\n",
    "    train = dataset.filter(lambda x: x[2]==1)\n",
    "    train = train.map(lambda x: (x[0], x[1]))\n",
    "    test = dataset.filter(lambda x: x[2]==0)\n",
    "    test = test.map(lambda x: (x[0], x[1]))\n",
    "    return (train, test)"
   ]
  },
  {
   "cell_type": "code",
   "execution_count": 6,
   "id": "5745b89c-cffc-45ee-ba95-8f2f4cc2de2c",
   "metadata": {},
   "outputs": [],
   "source": [
    "def parallelAssign2cluster_slower(x):\n",
    "    global c\n",
    "    min_distance = np.Inf\n",
    "    centroid = 0\n",
    "    for it, cen in enumerate(c.value):\n",
    "        d = 0\n",
    "        for y,z in zip(x[0],cen):\n",
    "            d += abs(y-z)\n",
    "        if d <= min_distance:\n",
    "            min_distance = d\n",
    "            centroid = it\n",
    "        \n",
    "    return (centroid, x[0])"
   ]
  },
  {
   "cell_type": "code",
   "execution_count": 7,
   "id": "817b1f2f-9892-4b95-b9f6-05ad47f5a8f3",
   "metadata": {},
   "outputs": [],
   "source": [
    "def parallelKMeans_slower(data, K, n_iter):\n",
    "    \n",
    "    data_len = sc.broadcast(data.count())\n",
    "    \n",
    "    global c\n",
    "    c = data.takeSample(0, K)\n",
    "    c = [datum[0] for datum in c]\n",
    "    c = sc.broadcast(c)\n",
    "    \n",
    "    for iter in range(n_iter):\n",
    "        data_asigned = data.map(parallelAssign2cluster_slower)\n",
    "        c = sc.broadcast(data_asigned.reduceByKey(lambda x,y: [q+w for q,w in zip(x,y)]) \\\n",
    "            .map(lambda x: [a/data_len.value for a in x[1]]).collect())\n",
    "    \n",
    "    return c.value"
   ]
  },
  {
   "cell_type": "markdown",
   "id": "e1560f7d",
   "metadata": {},
   "source": [
    "### Mandatory functions"
   ]
  },
  {
   "cell_type": "code",
   "execution_count": 8,
   "id": "4be64fbc-2935-41c1-a794-398038f40833",
   "metadata": {},
   "outputs": [],
   "source": [
    "def parallelReadFile(filename):\n",
    "    dataset = sc.textFile(filename)\n",
    "    \n",
    "    # Extract the header from the data\n",
    "    header = dataset.first()\n",
    "    dataset = dataset.filter(lambda row: row != header)\n",
    "    \n",
    "    dataset = dataset.map(str_to_number_list)\n",
    "    return dataset.sample(False, 1)"
   ]
  },
  {
   "cell_type": "code",
   "execution_count": 9,
   "id": "c9e1ed76-f870-4905-b1b1-c54be4b114df",
   "metadata": {},
   "outputs": [],
   "source": [
    "def parallelAssign2cluster(x):\n",
    "    global c\n",
    "    min_distance = np.Inf\n",
    "    centroid = 0\n",
    "    for it, cen in enumerate(c.value):\n",
    "        d = reduce(lambda x,y:abs(x)+abs(y), [y-z for y,z in zip(x[0],cen)])\n",
    "        if d <= min_distance:\n",
    "            min_distance = d\n",
    "            centroid = it\n",
    "        \n",
    "    return (centroid, x[0])"
   ]
  },
  {
   "cell_type": "code",
   "execution_count": 10,
   "id": "083c6614-6749-4bf1-bdb6-cbbcd608fd6e",
   "metadata": {},
   "outputs": [],
   "source": [
    "def parallelKMeans(data, K, n_iter):\n",
    "    \n",
    "    data_len = sc.broadcast(data.count())\n",
    "    \n",
    "    global c\n",
    "    c = data.takeSample(0, K)\n",
    "    c = [datum[0] for datum in c]\n",
    "    c = sc.broadcast(c)\n",
    "    \n",
    "    for iter in range(n_iter):\n",
    "        data_asigned = data.map(parallelAssign2cluster)\n",
    "        len_per_cluster = sc.broadcast(data_asigned.countByKey())\n",
    "        c = sc.broadcast(data_asigned.reduceByKey(lambda x,y: [q+w for q,w in zip(x,y)]) \\\n",
    "            .map(lambda x: [a/len_per_cluster.value[x[0]] for a in x[1]]).collect())\n",
    "    \n",
    "    return c.value"
   ]
  },
  {
   "cell_type": "markdown",
   "id": "d23eed9a",
   "metadata": {
    "tags": []
   },
   "source": [
    "## Testing"
   ]
  },
  {
   "cell_type": "code",
   "execution_count": 11,
   "id": "81aede54",
   "metadata": {},
   "outputs": [
    {
     "name": "stderr",
     "output_type": "stream",
     "text": [
      "                                                                                \r"
     ]
    },
    {
     "data": {
      "text/plain": [
       "70000"
      ]
     },
     "execution_count": 11,
     "metadata": {},
     "output_type": "execute_result"
    }
   ],
   "source": [
    "RDD_Xy = parallelReadFile(\"../data/tot_mnist_shuf.csv\")\n",
    "RDD_Xy.count()"
   ]
  },
  {
   "cell_type": "code",
   "execution_count": 12,
   "id": "337f917c-78fc-44cb-be1c-1b32f62bf2ef",
   "metadata": {},
   "outputs": [
    {
     "name": "stderr",
     "output_type": "stream",
     "text": [
      "                                                                                \r"
     ]
    }
   ],
   "source": [
    "centroids = parallelKMeans(RDD_Xy, 3, 2)"
   ]
  },
  {
   "cell_type": "code",
   "execution_count": 13,
   "id": "b14074ee",
   "metadata": {},
   "outputs": [
    {
     "name": "stdout",
     "output_type": "stream",
     "text": [
      "---------- Starting execution with 1 cores and 3 clusters ----------\n"
     ]
    },
    {
     "name": "stderr",
     "output_type": "stream",
     "text": [
      "                                                                                \r"
     ]
    },
    {
     "name": "stdout",
     "output_type": "stream",
     "text": [
      "---------- Finished execution with 1 cores and 3 clusters ----------\n",
      "Elapsed time for cores 1 is 279.1488049030304 seconds\n",
      "---------- Starting execution with 1 cores and 3 clusters ----------\n"
     ]
    },
    {
     "name": "stderr",
     "output_type": "stream",
     "text": [
      "                                                                                \r"
     ]
    },
    {
     "name": "stdout",
     "output_type": "stream",
     "text": [
      "---------- Finished execution with 1 cores and 3 clusters ----------\n",
      "Elapsed time for cores 1 is 112.05107283592224 seconds\n",
      "---------- Starting execution with 1 cores and 5 clusters ----------\n"
     ]
    },
    {
     "name": "stderr",
     "output_type": "stream",
     "text": [
      "                                                                                \r"
     ]
    },
    {
     "name": "stdout",
     "output_type": "stream",
     "text": [
      "---------- Finished execution with 1 cores and 5 clusters ----------\n",
      "Elapsed time for cores 1 is 429.0091631412506 seconds\n",
      "---------- Starting execution with 1 cores and 5 clusters ----------\n"
     ]
    },
    {
     "name": "stderr",
     "output_type": "stream",
     "text": [
      "                                                                                \r"
     ]
    },
    {
     "name": "stdout",
     "output_type": "stream",
     "text": [
      "---------- Finished execution with 1 cores and 5 clusters ----------\n",
      "Elapsed time for cores 1 is 148.6441731452942 seconds\n",
      "---------- Starting execution with 1 cores and 7 clusters ----------\n"
     ]
    },
    {
     "name": "stderr",
     "output_type": "stream",
     "text": [
      "                                                                                \r"
     ]
    },
    {
     "name": "stdout",
     "output_type": "stream",
     "text": [
      "---------- Finished execution with 1 cores and 7 clusters ----------\n",
      "Elapsed time for cores 1 is 569.6051461696625 seconds\n",
      "---------- Starting execution with 1 cores and 7 clusters ----------\n"
     ]
    },
    {
     "name": "stderr",
     "output_type": "stream",
     "text": [
      "                                                                                \r"
     ]
    },
    {
     "name": "stdout",
     "output_type": "stream",
     "text": [
      "---------- Finished execution with 1 cores and 7 clusters ----------\n",
      "Elapsed time for cores 1 is 170.84679698944092 seconds\n",
      "---------- Starting execution with 1 cores and 8 clusters ----------\n"
     ]
    },
    {
     "name": "stderr",
     "output_type": "stream",
     "text": [
      "                                                                                \r"
     ]
    },
    {
     "name": "stdout",
     "output_type": "stream",
     "text": [
      "---------- Finished execution with 1 cores and 8 clusters ----------\n",
      "Elapsed time for cores 1 is 615.4648699760437 seconds\n",
      "---------- Starting execution with 1 cores and 8 clusters ----------\n"
     ]
    },
    {
     "name": "stderr",
     "output_type": "stream",
     "text": [
      "                                                                                \r"
     ]
    },
    {
     "name": "stdout",
     "output_type": "stream",
     "text": [
      "---------- Finished execution with 1 cores and 8 clusters ----------\n",
      "Elapsed time for cores 1 is 194.22378706932068 seconds\n",
      "---------- Starting execution with 1 cores and 9 clusters ----------\n"
     ]
    },
    {
     "name": "stderr",
     "output_type": "stream",
     "text": [
      "[Stage 8:==============>                                            (1 + 1) / 4]\r"
     ]
    },
    {
     "name": "stdout",
     "output_type": "stream",
     "text": [
      "22/12/16 16:12:50 WARN HeartbeatReceiver: Removing executor driver with no recent heartbeats: 750341 ms exceeds timeout 120000 ms\n",
      "22/12/16 16:12:51 WARN SparkContext: Killing executors is not supported by current scheduler.\n"
     ]
    },
    {
     "name": "stderr",
     "output_type": "stream",
     "text": [
      "                                                                                \r"
     ]
    },
    {
     "name": "stdout",
     "output_type": "stream",
     "text": [
      "---------- Finished execution with 1 cores and 9 clusters ----------\n",
      "Elapsed time for cores 1 is 1392.9751591682434 seconds\n",
      "---------- Starting execution with 1 cores and 9 clusters ----------\n"
     ]
    },
    {
     "name": "stderr",
     "output_type": "stream",
     "text": [
      "                                                                                \r"
     ]
    },
    {
     "name": "stdout",
     "output_type": "stream",
     "text": [
      "---------- Finished execution with 1 cores and 9 clusters ----------\n",
      "Elapsed time for cores 1 is 207.80528092384338 seconds\n",
      "---------- Starting execution with 1 cores and 10 clusters ----------\n"
     ]
    },
    {
     "name": "stderr",
     "output_type": "stream",
     "text": [
      "                                                                                \r"
     ]
    },
    {
     "name": "stdout",
     "output_type": "stream",
     "text": [
      "---------- Finished execution with 1 cores and 10 clusters ----------\n",
      "Elapsed time for cores 1 is 771.407557964325 seconds\n",
      "---------- Starting execution with 1 cores and 10 clusters ----------\n"
     ]
    },
    {
     "name": "stderr",
     "output_type": "stream",
     "text": [
      "                                                                                \r"
     ]
    },
    {
     "name": "stdout",
     "output_type": "stream",
     "text": [
      "---------- Finished execution with 1 cores and 10 clusters ----------\n",
      "Elapsed time for cores 1 is 229.60308599472046 seconds\n",
      "---------- Starting execution with 1 cores and 11 clusters ----------\n"
     ]
    },
    {
     "name": "stderr",
     "output_type": "stream",
     "text": [
      "                                                                                \r"
     ]
    },
    {
     "name": "stdout",
     "output_type": "stream",
     "text": [
      "---------- Finished execution with 1 cores and 11 clusters ----------\n",
      "Elapsed time for cores 1 is 845.0362830162048 seconds\n",
      "---------- Starting execution with 1 cores and 11 clusters ----------\n"
     ]
    },
    {
     "name": "stderr",
     "output_type": "stream",
     "text": [
      "                                                                                \r"
     ]
    },
    {
     "name": "stdout",
     "output_type": "stream",
     "text": [
      "---------- Finished execution with 1 cores and 11 clusters ----------\n",
      "Elapsed time for cores 1 is 236.55388808250427 seconds\n",
      "---------- Starting execution with 2 cores and 3 clusters ----------\n"
     ]
    },
    {
     "name": "stderr",
     "output_type": "stream",
     "text": [
      "                                                                                \r"
     ]
    },
    {
     "name": "stdout",
     "output_type": "stream",
     "text": [
      "---------- Finished execution with 2 cores and 3 clusters ----------\n",
      "Elapsed time for cores 2 is 173.09139013290405 seconds\n",
      "---------- Starting execution with 2 cores and 3 clusters ----------\n"
     ]
    },
    {
     "name": "stderr",
     "output_type": "stream",
     "text": [
      "                                                                                \r"
     ]
    },
    {
     "name": "stdout",
     "output_type": "stream",
     "text": [
      "---------- Finished execution with 2 cores and 3 clusters ----------\n",
      "Elapsed time for cores 2 is 69.3160457611084 seconds\n",
      "---------- Starting execution with 2 cores and 5 clusters ----------\n"
     ]
    },
    {
     "name": "stderr",
     "output_type": "stream",
     "text": [
      "                                                                                \r"
     ]
    },
    {
     "name": "stdout",
     "output_type": "stream",
     "text": [
      "---------- Finished execution with 2 cores and 5 clusters ----------\n",
      "Elapsed time for cores 2 is 256.0083341598511 seconds\n",
      "---------- Starting execution with 2 cores and 5 clusters ----------\n"
     ]
    },
    {
     "name": "stderr",
     "output_type": "stream",
     "text": [
      "                                                                                \r"
     ]
    },
    {
     "name": "stdout",
     "output_type": "stream",
     "text": [
      "---------- Finished execution with 2 cores and 5 clusters ----------\n",
      "Elapsed time for cores 2 is 85.20837712287903 seconds\n",
      "---------- Starting execution with 2 cores and 7 clusters ----------\n"
     ]
    },
    {
     "name": "stderr",
     "output_type": "stream",
     "text": [
      "                                                                                \r"
     ]
    },
    {
     "name": "stdout",
     "output_type": "stream",
     "text": [
      "---------- Finished execution with 2 cores and 7 clusters ----------\n",
      "Elapsed time for cores 2 is 309.87539291381836 seconds\n",
      "---------- Starting execution with 2 cores and 7 clusters ----------\n"
     ]
    },
    {
     "name": "stderr",
     "output_type": "stream",
     "text": [
      "                                                                                \r"
     ]
    },
    {
     "name": "stdout",
     "output_type": "stream",
     "text": [
      "---------- Finished execution with 2 cores and 7 clusters ----------\n",
      "Elapsed time for cores 2 is 107.90942692756653 seconds\n",
      "---------- Starting execution with 2 cores and 8 clusters ----------\n"
     ]
    },
    {
     "name": "stderr",
     "output_type": "stream",
     "text": [
      "                                                                                \r"
     ]
    },
    {
     "name": "stdout",
     "output_type": "stream",
     "text": [
      "---------- Finished execution with 2 cores and 8 clusters ----------\n",
      "Elapsed time for cores 2 is 355.1063039302826 seconds\n",
      "---------- Starting execution with 2 cores and 8 clusters ----------\n"
     ]
    },
    {
     "name": "stderr",
     "output_type": "stream",
     "text": [
      "                                                                                \r"
     ]
    },
    {
     "name": "stdout",
     "output_type": "stream",
     "text": [
      "---------- Finished execution with 2 cores and 8 clusters ----------\n",
      "Elapsed time for cores 2 is 122.28446292877197 seconds\n",
      "---------- Starting execution with 2 cores and 9 clusters ----------\n"
     ]
    },
    {
     "name": "stderr",
     "output_type": "stream",
     "text": [
      "                                                                                \r"
     ]
    },
    {
     "name": "stdout",
     "output_type": "stream",
     "text": [
      "---------- Finished execution with 2 cores and 9 clusters ----------\n",
      "Elapsed time for cores 2 is 3691.2535531520844 seconds\n",
      "---------- Starting execution with 2 cores and 9 clusters ----------\n"
     ]
    },
    {
     "name": "stderr",
     "output_type": "stream",
     "text": [
      "                                                                                \r"
     ]
    },
    {
     "name": "stdout",
     "output_type": "stream",
     "text": [
      "---------- Finished execution with 2 cores and 9 clusters ----------\n",
      "Elapsed time for cores 2 is 118.28654384613037 seconds\n",
      "---------- Starting execution with 2 cores and 10 clusters ----------\n"
     ]
    },
    {
     "name": "stderr",
     "output_type": "stream",
     "text": [
      "                                                                                \r"
     ]
    },
    {
     "name": "stdout",
     "output_type": "stream",
     "text": [
      "---------- Finished execution with 2 cores and 10 clusters ----------\n",
      "Elapsed time for cores 2 is 437.4584047794342 seconds\n",
      "---------- Starting execution with 2 cores and 10 clusters ----------\n"
     ]
    },
    {
     "name": "stderr",
     "output_type": "stream",
     "text": [
      "                                                                                \r"
     ]
    },
    {
     "name": "stdout",
     "output_type": "stream",
     "text": [
      "---------- Finished execution with 2 cores and 10 clusters ----------\n",
      "Elapsed time for cores 2 is 136.08910012245178 seconds\n",
      "---------- Starting execution with 2 cores and 11 clusters ----------\n"
     ]
    },
    {
     "name": "stderr",
     "output_type": "stream",
     "text": [
      "                                                                                \r"
     ]
    },
    {
     "name": "stdout",
     "output_type": "stream",
     "text": [
      "---------- Finished execution with 2 cores and 11 clusters ----------\n",
      "Elapsed time for cores 2 is 444.30815267562866 seconds\n",
      "---------- Starting execution with 2 cores and 11 clusters ----------\n"
     ]
    },
    {
     "name": "stderr",
     "output_type": "stream",
     "text": [
      "                                                                                \r"
     ]
    },
    {
     "name": "stdout",
     "output_type": "stream",
     "text": [
      "---------- Finished execution with 2 cores and 11 clusters ----------\n",
      "Elapsed time for cores 2 is 147.78764605522156 seconds\n",
      "---------- Starting execution with 3 cores and 3 clusters ----------\n"
     ]
    },
    {
     "name": "stderr",
     "output_type": "stream",
     "text": [
      "                                                                                \r"
     ]
    },
    {
     "name": "stdout",
     "output_type": "stream",
     "text": [
      "---------- Finished execution with 3 cores and 3 clusters ----------\n",
      "Elapsed time for cores 3 is 152.3842990398407 seconds\n",
      "---------- Starting execution with 3 cores and 3 clusters ----------\n"
     ]
    },
    {
     "name": "stderr",
     "output_type": "stream",
     "text": [
      "                                                                                \r"
     ]
    },
    {
     "name": "stdout",
     "output_type": "stream",
     "text": [
      "---------- Finished execution with 3 cores and 3 clusters ----------\n",
      "Elapsed time for cores 3 is 63.698806047439575 seconds\n",
      "---------- Starting execution with 3 cores and 5 clusters ----------\n"
     ]
    },
    {
     "name": "stderr",
     "output_type": "stream",
     "text": [
      "                                                                                \r"
     ]
    },
    {
     "name": "stdout",
     "output_type": "stream",
     "text": [
      "---------- Finished execution with 3 cores and 5 clusters ----------\n",
      "Elapsed time for cores 3 is 236.87196683883667 seconds\n",
      "---------- Starting execution with 3 cores and 5 clusters ----------\n"
     ]
    },
    {
     "name": "stderr",
     "output_type": "stream",
     "text": [
      "                                                                                \r"
     ]
    },
    {
     "name": "stdout",
     "output_type": "stream",
     "text": [
      "---------- Finished execution with 3 cores and 5 clusters ----------\n",
      "Elapsed time for cores 3 is 84.26367378234863 seconds\n",
      "---------- Starting execution with 3 cores and 7 clusters ----------\n"
     ]
    },
    {
     "name": "stderr",
     "output_type": "stream",
     "text": [
      "                                                                                \r"
     ]
    },
    {
     "name": "stdout",
     "output_type": "stream",
     "text": [
      "---------- Finished execution with 3 cores and 7 clusters ----------\n",
      "Elapsed time for cores 3 is 290.1574468612671 seconds\n",
      "---------- Starting execution with 3 cores and 7 clusters ----------\n"
     ]
    },
    {
     "name": "stderr",
     "output_type": "stream",
     "text": [
      "                                                                                \r"
     ]
    },
    {
     "name": "stdout",
     "output_type": "stream",
     "text": [
      "---------- Finished execution with 3 cores and 7 clusters ----------\n",
      "Elapsed time for cores 3 is 98.41826105117798 seconds\n",
      "---------- Starting execution with 3 cores and 8 clusters ----------\n"
     ]
    },
    {
     "name": "stderr",
     "output_type": "stream",
     "text": [
      "                                                                                \r"
     ]
    },
    {
     "name": "stdout",
     "output_type": "stream",
     "text": [
      "---------- Finished execution with 3 cores and 8 clusters ----------\n",
      "Elapsed time for cores 3 is 353.71015191078186 seconds\n",
      "---------- Starting execution with 3 cores and 8 clusters ----------\n"
     ]
    },
    {
     "name": "stderr",
     "output_type": "stream",
     "text": [
      "                                                                                \r"
     ]
    },
    {
     "name": "stdout",
     "output_type": "stream",
     "text": [
      "---------- Finished execution with 3 cores and 8 clusters ----------\n",
      "Elapsed time for cores 3 is 105.4617669582367 seconds\n",
      "---------- Starting execution with 3 cores and 9 clusters ----------\n"
     ]
    },
    {
     "name": "stderr",
     "output_type": "stream",
     "text": [
      "                                                                                \r"
     ]
    },
    {
     "name": "stdout",
     "output_type": "stream",
     "text": [
      "---------- Finished execution with 3 cores and 9 clusters ----------\n",
      "Elapsed time for cores 3 is 382.1815969944 seconds\n",
      "---------- Starting execution with 3 cores and 9 clusters ----------\n"
     ]
    },
    {
     "name": "stderr",
     "output_type": "stream",
     "text": [
      "                                                                                \r"
     ]
    },
    {
     "name": "stdout",
     "output_type": "stream",
     "text": [
      "---------- Finished execution with 3 cores and 9 clusters ----------\n",
      "Elapsed time for cores 3 is 114.29436707496643 seconds\n",
      "---------- Starting execution with 3 cores and 10 clusters ----------\n"
     ]
    },
    {
     "name": "stderr",
     "output_type": "stream",
     "text": [
      "                                                                                \r"
     ]
    },
    {
     "name": "stdout",
     "output_type": "stream",
     "text": [
      "---------- Finished execution with 3 cores and 10 clusters ----------\n",
      "Elapsed time for cores 3 is 390.7089629173279 seconds\n",
      "---------- Starting execution with 3 cores and 10 clusters ----------\n"
     ]
    },
    {
     "name": "stderr",
     "output_type": "stream",
     "text": [
      "                                                                                \r"
     ]
    },
    {
     "name": "stdout",
     "output_type": "stream",
     "text": [
      "---------- Finished execution with 3 cores and 10 clusters ----------\n",
      "Elapsed time for cores 3 is 122.08105707168579 seconds\n",
      "---------- Starting execution with 3 cores and 11 clusters ----------\n"
     ]
    },
    {
     "name": "stderr",
     "output_type": "stream",
     "text": [
      "                                                                                \r"
     ]
    },
    {
     "name": "stdout",
     "output_type": "stream",
     "text": [
      "---------- Finished execution with 3 cores and 11 clusters ----------\n",
      "Elapsed time for cores 3 is 455.59767174720764 seconds\n",
      "---------- Starting execution with 3 cores and 11 clusters ----------\n"
     ]
    },
    {
     "name": "stderr",
     "output_type": "stream",
     "text": [
      "                                                                                \r"
     ]
    },
    {
     "name": "stdout",
     "output_type": "stream",
     "text": [
      "---------- Finished execution with 3 cores and 11 clusters ----------\n",
      "Elapsed time for cores 3 is 131.15866017341614 seconds\n",
      "---------- Starting execution with 4 cores and 3 clusters ----------\n"
     ]
    },
    {
     "name": "stderr",
     "output_type": "stream",
     "text": [
      "                                                                                \r"
     ]
    },
    {
     "name": "stdout",
     "output_type": "stream",
     "text": [
      "---------- Finished execution with 4 cores and 3 clusters ----------\n",
      "Elapsed time for cores 4 is 101.42005825042725 seconds\n",
      "---------- Starting execution with 4 cores and 3 clusters ----------\n"
     ]
    },
    {
     "name": "stderr",
     "output_type": "stream",
     "text": [
      "                                                                                \r"
     ]
    },
    {
     "name": "stdout",
     "output_type": "stream",
     "text": [
      "---------- Finished execution with 4 cores and 3 clusters ----------\n",
      "Elapsed time for cores 4 is 44.050820112228394 seconds\n",
      "---------- Starting execution with 4 cores and 5 clusters ----------\n"
     ]
    },
    {
     "name": "stderr",
     "output_type": "stream",
     "text": [
      "                                                                                \r"
     ]
    },
    {
     "name": "stdout",
     "output_type": "stream",
     "text": [
      "---------- Finished execution with 4 cores and 5 clusters ----------\n",
      "Elapsed time for cores 4 is 159.6912260055542 seconds\n",
      "---------- Starting execution with 4 cores and 5 clusters ----------\n"
     ]
    },
    {
     "name": "stderr",
     "output_type": "stream",
     "text": [
      "                                                                                \r"
     ]
    },
    {
     "name": "stdout",
     "output_type": "stream",
     "text": [
      "---------- Finished execution with 4 cores and 5 clusters ----------\n",
      "Elapsed time for cores 4 is 56.523762941360474 seconds\n",
      "---------- Starting execution with 4 cores and 7 clusters ----------\n"
     ]
    },
    {
     "name": "stderr",
     "output_type": "stream",
     "text": [
      "                                                                                \r"
     ]
    },
    {
     "name": "stdout",
     "output_type": "stream",
     "text": [
      "---------- Finished execution with 4 cores and 7 clusters ----------\n",
      "Elapsed time for cores 4 is 225.11983633041382 seconds\n",
      "---------- Starting execution with 4 cores and 7 clusters ----------\n"
     ]
    },
    {
     "name": "stderr",
     "output_type": "stream",
     "text": [
      "                                                                                \r"
     ]
    },
    {
     "name": "stdout",
     "output_type": "stream",
     "text": [
      "---------- Finished execution with 4 cores and 7 clusters ----------\n",
      "Elapsed time for cores 4 is 74.71573114395142 seconds\n",
      "---------- Starting execution with 4 cores and 8 clusters ----------\n"
     ]
    },
    {
     "name": "stderr",
     "output_type": "stream",
     "text": [
      "                                                                                \r"
     ]
    },
    {
     "name": "stdout",
     "output_type": "stream",
     "text": [
      "---------- Finished execution with 4 cores and 8 clusters ----------\n",
      "Elapsed time for cores 4 is 271.8269989490509 seconds\n",
      "---------- Starting execution with 4 cores and 8 clusters ----------\n"
     ]
    },
    {
     "name": "stderr",
     "output_type": "stream",
     "text": [
      "                                                                                \r"
     ]
    },
    {
     "name": "stdout",
     "output_type": "stream",
     "text": [
      "---------- Finished execution with 4 cores and 8 clusters ----------\n",
      "Elapsed time for cores 4 is 85.71294689178467 seconds\n",
      "---------- Starting execution with 4 cores and 9 clusters ----------\n"
     ]
    },
    {
     "name": "stderr",
     "output_type": "stream",
     "text": [
      "                                                                                \r"
     ]
    },
    {
     "name": "stdout",
     "output_type": "stream",
     "text": [
      "---------- Finished execution with 4 cores and 9 clusters ----------\n",
      "Elapsed time for cores 4 is 296.2749547958374 seconds\n",
      "---------- Starting execution with 4 cores and 9 clusters ----------\n"
     ]
    },
    {
     "name": "stderr",
     "output_type": "stream",
     "text": [
      "                                                                                \r"
     ]
    },
    {
     "name": "stdout",
     "output_type": "stream",
     "text": [
      "---------- Finished execution with 4 cores and 9 clusters ----------\n",
      "Elapsed time for cores 4 is 94.88893103599548 seconds\n",
      "---------- Starting execution with 4 cores and 10 clusters ----------\n"
     ]
    },
    {
     "name": "stderr",
     "output_type": "stream",
     "text": [
      "                                                                                \r"
     ]
    },
    {
     "name": "stdout",
     "output_type": "stream",
     "text": [
      "---------- Finished execution with 4 cores and 10 clusters ----------\n",
      "Elapsed time for cores 4 is 325.954204082489 seconds\n",
      "---------- Starting execution with 4 cores and 10 clusters ----------\n"
     ]
    },
    {
     "name": "stderr",
     "output_type": "stream",
     "text": [
      "                                                                                \r"
     ]
    },
    {
     "name": "stdout",
     "output_type": "stream",
     "text": [
      "---------- Finished execution with 4 cores and 10 clusters ----------\n",
      "Elapsed time for cores 4 is 95.01070094108582 seconds\n",
      "---------- Starting execution with 4 cores and 11 clusters ----------\n"
     ]
    },
    {
     "name": "stderr",
     "output_type": "stream",
     "text": [
      "                                                                                \r"
     ]
    },
    {
     "name": "stdout",
     "output_type": "stream",
     "text": [
      "---------- Finished execution with 4 cores and 11 clusters ----------\n",
      "Elapsed time for cores 4 is 384.4370319843292 seconds\n",
      "---------- Starting execution with 4 cores and 11 clusters ----------\n"
     ]
    },
    {
     "name": "stderr",
     "output_type": "stream",
     "text": [
      "                                                                                \r"
     ]
    },
    {
     "name": "stdout",
     "output_type": "stream",
     "text": [
      "---------- Finished execution with 4 cores and 11 clusters ----------\n",
      "Elapsed time for cores 4 is 128.55190801620483 seconds\n",
      "---------- Starting execution with 5 cores and 3 clusters ----------\n"
     ]
    },
    {
     "name": "stderr",
     "output_type": "stream",
     "text": [
      "                                                                                \r"
     ]
    },
    {
     "name": "stdout",
     "output_type": "stream",
     "text": [
      "---------- Finished execution with 5 cores and 3 clusters ----------\n",
      "Elapsed time for cores 5 is 128.96499180793762 seconds\n",
      "---------- Starting execution with 5 cores and 3 clusters ----------\n"
     ]
    },
    {
     "name": "stderr",
     "output_type": "stream",
     "text": [
      "                                                                                \r"
     ]
    },
    {
     "name": "stdout",
     "output_type": "stream",
     "text": [
      "---------- Finished execution with 5 cores and 3 clusters ----------\n",
      "Elapsed time for cores 5 is 52.5340211391449 seconds\n",
      "---------- Starting execution with 5 cores and 5 clusters ----------\n"
     ]
    },
    {
     "name": "stderr",
     "output_type": "stream",
     "text": [
      "                                                                                \r"
     ]
    },
    {
     "name": "stdout",
     "output_type": "stream",
     "text": [
      "---------- Finished execution with 5 cores and 5 clusters ----------\n",
      "Elapsed time for cores 5 is 183.7079770565033 seconds\n",
      "---------- Starting execution with 5 cores and 5 clusters ----------\n"
     ]
    },
    {
     "name": "stderr",
     "output_type": "stream",
     "text": [
      "                                                                                \r"
     ]
    },
    {
     "name": "stdout",
     "output_type": "stream",
     "text": [
      "---------- Finished execution with 5 cores and 5 clusters ----------\n",
      "Elapsed time for cores 5 is 65.25269293785095 seconds\n",
      "---------- Starting execution with 5 cores and 7 clusters ----------\n"
     ]
    },
    {
     "name": "stderr",
     "output_type": "stream",
     "text": [
      "                                                                                \r"
     ]
    },
    {
     "name": "stdout",
     "output_type": "stream",
     "text": [
      "---------- Finished execution with 5 cores and 7 clusters ----------\n",
      "Elapsed time for cores 5 is 241.96842694282532 seconds\n",
      "---------- Starting execution with 5 cores and 7 clusters ----------\n"
     ]
    },
    {
     "name": "stderr",
     "output_type": "stream",
     "text": [
      "                                                                                \r"
     ]
    },
    {
     "name": "stdout",
     "output_type": "stream",
     "text": [
      "---------- Finished execution with 5 cores and 7 clusters ----------\n",
      "Elapsed time for cores 5 is 81.39327716827393 seconds\n",
      "---------- Starting execution with 5 cores and 8 clusters ----------\n"
     ]
    },
    {
     "name": "stderr",
     "output_type": "stream",
     "text": [
      "                                                                                \r"
     ]
    },
    {
     "name": "stdout",
     "output_type": "stream",
     "text": [
      "---------- Finished execution with 5 cores and 8 clusters ----------\n",
      "Elapsed time for cores 5 is 277.8914442062378 seconds\n",
      "---------- Starting execution with 5 cores and 8 clusters ----------\n"
     ]
    },
    {
     "name": "stderr",
     "output_type": "stream",
     "text": [
      "                                                                                \r"
     ]
    },
    {
     "name": "stdout",
     "output_type": "stream",
     "text": [
      "---------- Finished execution with 5 cores and 8 clusters ----------\n",
      "Elapsed time for cores 5 is 90.06709456443787 seconds\n",
      "---------- Starting execution with 5 cores and 9 clusters ----------\n"
     ]
    },
    {
     "name": "stderr",
     "output_type": "stream",
     "text": [
      "                                                                                \r"
     ]
    },
    {
     "name": "stdout",
     "output_type": "stream",
     "text": [
      "---------- Finished execution with 5 cores and 9 clusters ----------\n",
      "Elapsed time for cores 5 is 286.05998396873474 seconds\n",
      "---------- Starting execution with 5 cores and 9 clusters ----------\n"
     ]
    },
    {
     "name": "stderr",
     "output_type": "stream",
     "text": [
      "                                                                                \r"
     ]
    },
    {
     "name": "stdout",
     "output_type": "stream",
     "text": [
      "---------- Finished execution with 5 cores and 9 clusters ----------\n",
      "Elapsed time for cores 5 is 97.21924185752869 seconds\n",
      "---------- Starting execution with 5 cores and 10 clusters ----------\n"
     ]
    },
    {
     "name": "stderr",
     "output_type": "stream",
     "text": [
      "                                                                                \r"
     ]
    },
    {
     "name": "stdout",
     "output_type": "stream",
     "text": [
      "---------- Finished execution with 5 cores and 10 clusters ----------\n",
      "Elapsed time for cores 5 is 315.15162992477417 seconds\n",
      "---------- Starting execution with 5 cores and 10 clusters ----------\n"
     ]
    },
    {
     "name": "stderr",
     "output_type": "stream",
     "text": [
      "                                                                                \r"
     ]
    },
    {
     "name": "stdout",
     "output_type": "stream",
     "text": [
      "---------- Finished execution with 5 cores and 10 clusters ----------\n",
      "Elapsed time for cores 5 is 93.41108393669128 seconds\n",
      "---------- Starting execution with 5 cores and 11 clusters ----------\n"
     ]
    },
    {
     "name": "stderr",
     "output_type": "stream",
     "text": [
      "                                                                                \r"
     ]
    },
    {
     "name": "stdout",
     "output_type": "stream",
     "text": [
      "---------- Finished execution with 5 cores and 11 clusters ----------\n",
      "Elapsed time for cores 5 is 360.19727897644043 seconds\n",
      "---------- Starting execution with 5 cores and 11 clusters ----------\n"
     ]
    },
    {
     "name": "stderr",
     "output_type": "stream",
     "text": [
      "                                                                                \r"
     ]
    },
    {
     "name": "stdout",
     "output_type": "stream",
     "text": [
      "---------- Finished execution with 5 cores and 11 clusters ----------\n",
      "Elapsed time for cores 5 is 99.38373398780823 seconds\n",
      "---------- Starting execution with 6 cores and 3 clusters ----------\n"
     ]
    },
    {
     "name": "stderr",
     "output_type": "stream",
     "text": [
      "                                                                                \r"
     ]
    },
    {
     "name": "stdout",
     "output_type": "stream",
     "text": [
      "---------- Finished execution with 6 cores and 3 clusters ----------\n",
      "Elapsed time for cores 6 is 118.82088685035706 seconds\n",
      "---------- Starting execution with 6 cores and 3 clusters ----------\n"
     ]
    },
    {
     "name": "stderr",
     "output_type": "stream",
     "text": [
      "                                                                                \r"
     ]
    },
    {
     "name": "stdout",
     "output_type": "stream",
     "text": [
      "---------- Finished execution with 6 cores and 3 clusters ----------\n",
      "Elapsed time for cores 6 is 52.29796290397644 seconds\n",
      "---------- Starting execution with 6 cores and 5 clusters ----------\n"
     ]
    },
    {
     "name": "stderr",
     "output_type": "stream",
     "text": [
      "                                                                                \r"
     ]
    },
    {
     "name": "stdout",
     "output_type": "stream",
     "text": [
      "---------- Finished execution with 6 cores and 5 clusters ----------\n",
      "Elapsed time for cores 6 is 168.37629008293152 seconds\n",
      "---------- Starting execution with 6 cores and 5 clusters ----------\n"
     ]
    },
    {
     "name": "stderr",
     "output_type": "stream",
     "text": [
      "                                                                                \r"
     ]
    },
    {
     "name": "stdout",
     "output_type": "stream",
     "text": [
      "---------- Finished execution with 6 cores and 5 clusters ----------\n",
      "Elapsed time for cores 6 is 59.401636838912964 seconds\n",
      "---------- Starting execution with 6 cores and 7 clusters ----------\n"
     ]
    },
    {
     "name": "stderr",
     "output_type": "stream",
     "text": [
      "                                                                                \r"
     ]
    },
    {
     "name": "stdout",
     "output_type": "stream",
     "text": [
      "---------- Finished execution with 6 cores and 7 clusters ----------\n",
      "Elapsed time for cores 6 is 199.05544209480286 seconds\n",
      "---------- Starting execution with 6 cores and 7 clusters ----------\n"
     ]
    },
    {
     "name": "stderr",
     "output_type": "stream",
     "text": [
      "                                                                                \r"
     ]
    },
    {
     "name": "stdout",
     "output_type": "stream",
     "text": [
      "---------- Finished execution with 6 cores and 7 clusters ----------\n",
      "Elapsed time for cores 6 is 76.7110869884491 seconds\n",
      "---------- Starting execution with 6 cores and 8 clusters ----------\n"
     ]
    },
    {
     "name": "stderr",
     "output_type": "stream",
     "text": [
      "                                                                                \r"
     ]
    },
    {
     "name": "stdout",
     "output_type": "stream",
     "text": [
      "---------- Finished execution with 6 cores and 8 clusters ----------\n",
      "Elapsed time for cores 6 is 231.69025874137878 seconds\n",
      "---------- Starting execution with 6 cores and 8 clusters ----------\n"
     ]
    },
    {
     "name": "stderr",
     "output_type": "stream",
     "text": [
      "                                                                                \r"
     ]
    },
    {
     "name": "stdout",
     "output_type": "stream",
     "text": [
      "---------- Finished execution with 6 cores and 8 clusters ----------\n",
      "Elapsed time for cores 6 is 77.91008305549622 seconds\n",
      "---------- Starting execution with 6 cores and 9 clusters ----------\n"
     ]
    },
    {
     "name": "stderr",
     "output_type": "stream",
     "text": [
      "                                                                                \r"
     ]
    },
    {
     "name": "stdout",
     "output_type": "stream",
     "text": [
      "---------- Finished execution with 6 cores and 9 clusters ----------\n",
      "Elapsed time for cores 6 is 278.30171489715576 seconds\n",
      "---------- Starting execution with 6 cores and 9 clusters ----------\n"
     ]
    },
    {
     "name": "stderr",
     "output_type": "stream",
     "text": [
      "                                                                                \r"
     ]
    },
    {
     "name": "stdout",
     "output_type": "stream",
     "text": [
      "---------- Finished execution with 6 cores and 9 clusters ----------\n",
      "Elapsed time for cores 6 is 82.29273772239685 seconds\n",
      "---------- Starting execution with 6 cores and 10 clusters ----------\n"
     ]
    },
    {
     "name": "stderr",
     "output_type": "stream",
     "text": [
      "                                                                                \r"
     ]
    },
    {
     "name": "stdout",
     "output_type": "stream",
     "text": [
      "---------- Finished execution with 6 cores and 10 clusters ----------\n",
      "Elapsed time for cores 6 is 308.61515188217163 seconds\n",
      "---------- Starting execution with 6 cores and 10 clusters ----------\n"
     ]
    },
    {
     "name": "stderr",
     "output_type": "stream",
     "text": [
      "                                                                                \r"
     ]
    },
    {
     "name": "stdout",
     "output_type": "stream",
     "text": [
      "---------- Finished execution with 6 cores and 10 clusters ----------\n",
      "Elapsed time for cores 6 is 96.78138303756714 seconds\n",
      "---------- Starting execution with 6 cores and 11 clusters ----------\n"
     ]
    },
    {
     "name": "stderr",
     "output_type": "stream",
     "text": [
      "                                                                                \r"
     ]
    },
    {
     "name": "stdout",
     "output_type": "stream",
     "text": [
      "---------- Finished execution with 6 cores and 11 clusters ----------\n",
      "Elapsed time for cores 6 is 312.47967314720154 seconds\n",
      "---------- Starting execution with 6 cores and 11 clusters ----------\n"
     ]
    },
    {
     "name": "stderr",
     "output_type": "stream",
     "text": [
      "                                                                                \r"
     ]
    },
    {
     "name": "stdout",
     "output_type": "stream",
     "text": [
      "---------- Finished execution with 6 cores and 11 clusters ----------\n",
      "Elapsed time for cores 6 is 104.27900314331055 seconds\n",
      "---------- Starting execution with 7 cores and 3 clusters ----------\n"
     ]
    },
    {
     "name": "stderr",
     "output_type": "stream",
     "text": [
      "                                                                                \r"
     ]
    },
    {
     "name": "stdout",
     "output_type": "stream",
     "text": [
      "---------- Finished execution with 7 cores and 3 clusters ----------\n",
      "Elapsed time for cores 7 is 107.90338611602783 seconds\n",
      "---------- Starting execution with 7 cores and 3 clusters ----------\n"
     ]
    },
    {
     "name": "stderr",
     "output_type": "stream",
     "text": [
      "                                                                                \r"
     ]
    },
    {
     "name": "stdout",
     "output_type": "stream",
     "text": [
      "---------- Finished execution with 7 cores and 3 clusters ----------\n",
      "Elapsed time for cores 7 is 43.31272602081299 seconds\n",
      "---------- Starting execution with 7 cores and 5 clusters ----------\n"
     ]
    },
    {
     "name": "stderr",
     "output_type": "stream",
     "text": [
      "                                                                                \r"
     ]
    },
    {
     "name": "stdout",
     "output_type": "stream",
     "text": [
      "---------- Finished execution with 7 cores and 5 clusters ----------\n",
      "Elapsed time for cores 7 is 167.49843788146973 seconds\n",
      "---------- Starting execution with 7 cores and 5 clusters ----------\n"
     ]
    },
    {
     "name": "stderr",
     "output_type": "stream",
     "text": [
      "                                                                                \r"
     ]
    },
    {
     "name": "stdout",
     "output_type": "stream",
     "text": [
      "---------- Finished execution with 7 cores and 5 clusters ----------\n",
      "Elapsed time for cores 7 is 75.41898012161255 seconds\n",
      "---------- Starting execution with 7 cores and 7 clusters ----------\n"
     ]
    },
    {
     "name": "stderr",
     "output_type": "stream",
     "text": [
      "                                                                                \r"
     ]
    },
    {
     "name": "stdout",
     "output_type": "stream",
     "text": [
      "---------- Finished execution with 7 cores and 7 clusters ----------\n",
      "Elapsed time for cores 7 is 220.31863498687744 seconds\n",
      "---------- Starting execution with 7 cores and 7 clusters ----------\n"
     ]
    },
    {
     "name": "stderr",
     "output_type": "stream",
     "text": [
      "                                                                                \r"
     ]
    },
    {
     "name": "stdout",
     "output_type": "stream",
     "text": [
      "---------- Finished execution with 7 cores and 7 clusters ----------\n",
      "Elapsed time for cores 7 is 75.25219106674194 seconds\n",
      "---------- Starting execution with 7 cores and 8 clusters ----------\n"
     ]
    },
    {
     "name": "stderr",
     "output_type": "stream",
     "text": [
      "                                                                                \r"
     ]
    },
    {
     "name": "stdout",
     "output_type": "stream",
     "text": [
      "---------- Finished execution with 7 cores and 8 clusters ----------\n",
      "Elapsed time for cores 7 is 266.49133491516113 seconds\n",
      "---------- Starting execution with 7 cores and 8 clusters ----------\n"
     ]
    },
    {
     "name": "stderr",
     "output_type": "stream",
     "text": [
      "                                                                                \r"
     ]
    },
    {
     "name": "stdout",
     "output_type": "stream",
     "text": [
      "---------- Finished execution with 7 cores and 8 clusters ----------\n",
      "Elapsed time for cores 7 is 84.30078673362732 seconds\n",
      "---------- Starting execution with 7 cores and 9 clusters ----------\n"
     ]
    },
    {
     "name": "stderr",
     "output_type": "stream",
     "text": [
      "                                                                                \r"
     ]
    },
    {
     "name": "stdout",
     "output_type": "stream",
     "text": [
      "---------- Finished execution with 7 cores and 9 clusters ----------\n",
      "Elapsed time for cores 7 is 285.64027309417725 seconds\n",
      "---------- Starting execution with 7 cores and 9 clusters ----------\n"
     ]
    },
    {
     "name": "stderr",
     "output_type": "stream",
     "text": [
      "                                                                                \r"
     ]
    },
    {
     "name": "stdout",
     "output_type": "stream",
     "text": [
      "---------- Finished execution with 7 cores and 9 clusters ----------\n",
      "Elapsed time for cores 7 is 93.1087818145752 seconds\n",
      "---------- Starting execution with 7 cores and 10 clusters ----------\n"
     ]
    },
    {
     "name": "stderr",
     "output_type": "stream",
     "text": [
      "                                                                                \r"
     ]
    },
    {
     "name": "stdout",
     "output_type": "stream",
     "text": [
      "---------- Finished execution with 7 cores and 10 clusters ----------\n",
      "Elapsed time for cores 7 is 333.00839591026306 seconds\n",
      "---------- Starting execution with 7 cores and 10 clusters ----------\n"
     ]
    },
    {
     "name": "stderr",
     "output_type": "stream",
     "text": [
      "                                                                                \r"
     ]
    },
    {
     "name": "stdout",
     "output_type": "stream",
     "text": [
      "---------- Finished execution with 7 cores and 10 clusters ----------\n",
      "Elapsed time for cores 7 is 105.56222891807556 seconds\n",
      "---------- Starting execution with 7 cores and 11 clusters ----------\n"
     ]
    },
    {
     "name": "stderr",
     "output_type": "stream",
     "text": [
      "                                                                                \r"
     ]
    },
    {
     "name": "stdout",
     "output_type": "stream",
     "text": [
      "---------- Finished execution with 7 cores and 11 clusters ----------\n",
      "Elapsed time for cores 7 is 2362.358920097351 seconds\n",
      "---------- Starting execution with 7 cores and 11 clusters ----------\n"
     ]
    },
    {
     "name": "stderr",
     "output_type": "stream",
     "text": [
      "                                                                                \r"
     ]
    },
    {
     "name": "stdout",
     "output_type": "stream",
     "text": [
      "---------- Finished execution with 7 cores and 11 clusters ----------\n",
      "Elapsed time for cores 7 is 92.79925417900085 seconds\n",
      "---------- Starting execution with 8 cores and 3 clusters ----------\n"
     ]
    },
    {
     "name": "stderr",
     "output_type": "stream",
     "text": [
      "                                                                                \r"
     ]
    },
    {
     "name": "stdout",
     "output_type": "stream",
     "text": [
      "---------- Finished execution with 8 cores and 3 clusters ----------\n",
      "Elapsed time for cores 8 is 102.98227405548096 seconds\n",
      "---------- Starting execution with 8 cores and 3 clusters ----------\n"
     ]
    },
    {
     "name": "stderr",
     "output_type": "stream",
     "text": [
      "                                                                                \r"
     ]
    },
    {
     "name": "stdout",
     "output_type": "stream",
     "text": [
      "---------- Finished execution with 8 cores and 3 clusters ----------\n",
      "Elapsed time for cores 8 is 43.920774936676025 seconds\n",
      "---------- Starting execution with 8 cores and 5 clusters ----------\n"
     ]
    },
    {
     "name": "stderr",
     "output_type": "stream",
     "text": [
      "                                                                                \r"
     ]
    },
    {
     "name": "stdout",
     "output_type": "stream",
     "text": [
      "---------- Finished execution with 8 cores and 5 clusters ----------\n",
      "Elapsed time for cores 8 is 168.0766899585724 seconds\n",
      "---------- Starting execution with 8 cores and 5 clusters ----------\n"
     ]
    },
    {
     "name": "stderr",
     "output_type": "stream",
     "text": [
      "                                                                                \r"
     ]
    },
    {
     "name": "stdout",
     "output_type": "stream",
     "text": [
      "---------- Finished execution with 8 cores and 5 clusters ----------\n",
      "Elapsed time for cores 8 is 58.64411807060242 seconds\n",
      "---------- Starting execution with 8 cores and 7 clusters ----------\n"
     ]
    },
    {
     "name": "stderr",
     "output_type": "stream",
     "text": [
      "                                                                                \r"
     ]
    },
    {
     "name": "stdout",
     "output_type": "stream",
     "text": [
      "---------- Finished execution with 8 cores and 7 clusters ----------\n",
      "Elapsed time for cores 8 is 220.87429308891296 seconds\n",
      "---------- Starting execution with 8 cores and 7 clusters ----------\n"
     ]
    },
    {
     "name": "stderr",
     "output_type": "stream",
     "text": [
      "                                                                                \r"
     ]
    },
    {
     "name": "stdout",
     "output_type": "stream",
     "text": [
      "---------- Finished execution with 8 cores and 7 clusters ----------\n",
      "Elapsed time for cores 8 is 79.86669516563416 seconds\n",
      "---------- Starting execution with 8 cores and 8 clusters ----------\n"
     ]
    },
    {
     "name": "stderr",
     "output_type": "stream",
     "text": [
      "                                                                                \r"
     ]
    },
    {
     "name": "stdout",
     "output_type": "stream",
     "text": [
      "---------- Finished execution with 8 cores and 8 clusters ----------\n",
      "Elapsed time for cores 8 is 4038.9029018878937 seconds\n",
      "---------- Starting execution with 8 cores and 8 clusters ----------\n"
     ]
    },
    {
     "name": "stderr",
     "output_type": "stream",
     "text": [
      "                                                                                \r"
     ]
    },
    {
     "name": "stdout",
     "output_type": "stream",
     "text": [
      "---------- Finished execution with 8 cores and 8 clusters ----------\n",
      "Elapsed time for cores 8 is 1914.1870930194855 seconds\n",
      "---------- Starting execution with 8 cores and 9 clusters ----------\n"
     ]
    },
    {
     "name": "stderr",
     "output_type": "stream",
     "text": [
      "[Stage 11:>                                                         (0 + 4) / 4]\r"
     ]
    },
    {
     "name": "stdout",
     "output_type": "stream",
     "text": [
      "22/12/17 01:39:18 WARN HeartbeatReceiver: Removing executor driver with no recent heartbeats: 905820 ms exceeds timeout 120000 ms\n",
      "22/12/17 01:39:18 WARN SparkContext: Killing executors is not supported by current scheduler.\n"
     ]
    },
    {
     "name": "stderr",
     "output_type": "stream",
     "text": [
      "                                                                                \r"
     ]
    },
    {
     "name": "stdout",
     "output_type": "stream",
     "text": [
      "---------- Finished execution with 8 cores and 9 clusters ----------\n",
      "Elapsed time for cores 8 is 4048.4058270454407 seconds\n",
      "---------- Starting execution with 8 cores and 9 clusters ----------\n"
     ]
    },
    {
     "name": "stderr",
     "output_type": "stream",
     "text": [
      "                                                                                \r"
     ]
    },
    {
     "name": "stdout",
     "output_type": "stream",
     "text": [
      "---------- Finished execution with 8 cores and 9 clusters ----------\n",
      "Elapsed time for cores 8 is 986.861396074295 seconds\n",
      "---------- Starting execution with 8 cores and 10 clusters ----------\n"
     ]
    },
    {
     "name": "stderr",
     "output_type": "stream",
     "text": [
      "[Stage 5:>                                                          (0 + 4) / 4]\r"
     ]
    },
    {
     "name": "stdout",
     "output_type": "stream",
     "text": [
      "22/12/17 02:27:25 WARN HeartbeatReceiver: Removing executor driver with no recent heartbeats: 906913 ms exceeds timeout 120000 ms\n",
      "22/12/17 02:27:25 WARN SparkContext: Killing executors is not supported by current scheduler.\n"
     ]
    },
    {
     "name": "stderr",
     "output_type": "stream",
     "text": [
      "                                                                                \r"
     ]
    },
    {
     "name": "stdout",
     "output_type": "stream",
     "text": [
      "---------- Finished execution with 8 cores and 10 clusters ----------\n",
      "Elapsed time for cores 8 is 4965.233966827393 seconds\n",
      "---------- Starting execution with 8 cores and 10 clusters ----------\n"
     ]
    },
    {
     "name": "stderr",
     "output_type": "stream",
     "text": [
      "                                                                                \r"
     ]
    },
    {
     "name": "stdout",
     "output_type": "stream",
     "text": [
      "---------- Finished execution with 8 cores and 10 clusters ----------\n",
      "Elapsed time for cores 8 is 1040.8048272132874 seconds\n",
      "---------- Starting execution with 8 cores and 11 clusters ----------\n"
     ]
    },
    {
     "name": "stderr",
     "output_type": "stream",
     "text": [
      "                                                                                \r"
     ]
    },
    {
     "name": "stdout",
     "output_type": "stream",
     "text": [
      "---------- Finished execution with 8 cores and 11 clusters ----------\n",
      "Elapsed time for cores 8 is 4871.529038906097 seconds\n",
      "---------- Starting execution with 8 cores and 11 clusters ----------\n"
     ]
    },
    {
     "name": "stderr",
     "output_type": "stream",
     "text": [
      "[Stage 8:==============>                                            (1 + 3) / 4]\r"
     ]
    },
    {
     "name": "stdout",
     "output_type": "stream",
     "text": [
      "---------- Finished execution with 8 cores and 11 clusters ----------\n",
      "Elapsed time for cores 8 is 1996.0898070335388 seconds\n"
     ]
    },
    {
     "name": "stderr",
     "output_type": "stream",
     "text": [
      "                                                                                \r"
     ]
    }
   ],
   "source": [
    "elapsed_times = []\n",
    "\n",
    "core_list = list(range(1,9,1))\n",
    "cluster_list = [3,5,7,8,9,10,11]\n",
    "functions = [parallelKMeans, parallelKMeans_slower]\n",
    "\n",
    "for cores in core_list:\n",
    "    for clusters in cluster_list:\n",
    "        for Kmeans in functions:\n",
    "            global sc\n",
    "            sc.stop()\n",
    "            conf = SparkConf().setAppName(\"appName\").setMaster(f\"local[{cores}]\")\n",
    "            sc = SparkContext(conf=conf)\n",
    "\n",
    "            print(f\"---------- Starting execution with {cores} cores and {clusters} clusters ----------\")\n",
    "\n",
    "            start = time.time()\n",
    "\n",
    "            # ---------- Execution ----------\n",
    "\n",
    "            RDD_Xy = parallelReadFile(\"../data/tot_mnist_shuf.csv\")\n",
    "            Kmeans(RDD_Xy, clusters, 3)\n",
    "\n",
    "            # ---------- Execution ----------\n",
    "\n",
    "            end = time.time()\n",
    "            print(f\"---------- Finished execution with {cores} cores and {clusters} clusters ----------\")\n",
    "            elapsed_time = end - start\n",
    "            elapsed_times.append(\n",
    "                {\n",
    "                    \"Number of Cores\": cores,\n",
    "                    \"Number of Clusters\": clusters,\n",
    "                    \"Function used\": Kmeans,\n",
    "                    \"elapsed_time\": elapsed_time\n",
    "                }\n",
    "            )\n",
    "            print(f\"Elapsed time for cores {cores} is {elapsed_time} seconds\")"
   ]
  },
  {
   "cell_type": "code",
   "execution_count": 14,
   "id": "405848eb-4ba9-4f4b-90ce-74aa903e125f",
   "metadata": {},
   "outputs": [
    {
     "data": {
      "text/plain": [
       "[{'Number of Cores': 1,\n",
       "  'Number of Clusters': 3,\n",
       "  'Function used': <function __main__.parallelKMeans(data, K, n_iter)>,\n",
       "  'elapsed_time': 279.1488049030304},\n",
       " {'Number of Cores': 1,\n",
       "  'Number of Clusters': 3,\n",
       "  'Function used': <function __main__.parallelKMeans_slower(data, K, n_iter)>,\n",
       "  'elapsed_time': 112.05107283592224},\n",
       " {'Number of Cores': 1,\n",
       "  'Number of Clusters': 5,\n",
       "  'Function used': <function __main__.parallelKMeans(data, K, n_iter)>,\n",
       "  'elapsed_time': 429.0091631412506},\n",
       " {'Number of Cores': 1,\n",
       "  'Number of Clusters': 5,\n",
       "  'Function used': <function __main__.parallelKMeans_slower(data, K, n_iter)>,\n",
       "  'elapsed_time': 148.6441731452942},\n",
       " {'Number of Cores': 1,\n",
       "  'Number of Clusters': 7,\n",
       "  'Function used': <function __main__.parallelKMeans(data, K, n_iter)>,\n",
       "  'elapsed_time': 569.6051461696625},\n",
       " {'Number of Cores': 1,\n",
       "  'Number of Clusters': 7,\n",
       "  'Function used': <function __main__.parallelKMeans_slower(data, K, n_iter)>,\n",
       "  'elapsed_time': 170.84679698944092},\n",
       " {'Number of Cores': 1,\n",
       "  'Number of Clusters': 8,\n",
       "  'Function used': <function __main__.parallelKMeans(data, K, n_iter)>,\n",
       "  'elapsed_time': 615.4648699760437},\n",
       " {'Number of Cores': 1,\n",
       "  'Number of Clusters': 8,\n",
       "  'Function used': <function __main__.parallelKMeans_slower(data, K, n_iter)>,\n",
       "  'elapsed_time': 194.22378706932068},\n",
       " {'Number of Cores': 1,\n",
       "  'Number of Clusters': 9,\n",
       "  'Function used': <function __main__.parallelKMeans(data, K, n_iter)>,\n",
       "  'elapsed_time': 1392.9751591682434},\n",
       " {'Number of Cores': 1,\n",
       "  'Number of Clusters': 9,\n",
       "  'Function used': <function __main__.parallelKMeans_slower(data, K, n_iter)>,\n",
       "  'elapsed_time': 207.80528092384338},\n",
       " {'Number of Cores': 1,\n",
       "  'Number of Clusters': 10,\n",
       "  'Function used': <function __main__.parallelKMeans(data, K, n_iter)>,\n",
       "  'elapsed_time': 771.407557964325},\n",
       " {'Number of Cores': 1,\n",
       "  'Number of Clusters': 10,\n",
       "  'Function used': <function __main__.parallelKMeans_slower(data, K, n_iter)>,\n",
       "  'elapsed_time': 229.60308599472046},\n",
       " {'Number of Cores': 1,\n",
       "  'Number of Clusters': 11,\n",
       "  'Function used': <function __main__.parallelKMeans(data, K, n_iter)>,\n",
       "  'elapsed_time': 845.0362830162048},\n",
       " {'Number of Cores': 1,\n",
       "  'Number of Clusters': 11,\n",
       "  'Function used': <function __main__.parallelKMeans_slower(data, K, n_iter)>,\n",
       "  'elapsed_time': 236.55388808250427},\n",
       " {'Number of Cores': 2,\n",
       "  'Number of Clusters': 3,\n",
       "  'Function used': <function __main__.parallelKMeans(data, K, n_iter)>,\n",
       "  'elapsed_time': 173.09139013290405},\n",
       " {'Number of Cores': 2,\n",
       "  'Number of Clusters': 3,\n",
       "  'Function used': <function __main__.parallelKMeans_slower(data, K, n_iter)>,\n",
       "  'elapsed_time': 69.3160457611084},\n",
       " {'Number of Cores': 2,\n",
       "  'Number of Clusters': 5,\n",
       "  'Function used': <function __main__.parallelKMeans(data, K, n_iter)>,\n",
       "  'elapsed_time': 256.0083341598511},\n",
       " {'Number of Cores': 2,\n",
       "  'Number of Clusters': 5,\n",
       "  'Function used': <function __main__.parallelKMeans_slower(data, K, n_iter)>,\n",
       "  'elapsed_time': 85.20837712287903},\n",
       " {'Number of Cores': 2,\n",
       "  'Number of Clusters': 7,\n",
       "  'Function used': <function __main__.parallelKMeans(data, K, n_iter)>,\n",
       "  'elapsed_time': 309.87539291381836},\n",
       " {'Number of Cores': 2,\n",
       "  'Number of Clusters': 7,\n",
       "  'Function used': <function __main__.parallelKMeans_slower(data, K, n_iter)>,\n",
       "  'elapsed_time': 107.90942692756653},\n",
       " {'Number of Cores': 2,\n",
       "  'Number of Clusters': 8,\n",
       "  'Function used': <function __main__.parallelKMeans(data, K, n_iter)>,\n",
       "  'elapsed_time': 355.1063039302826},\n",
       " {'Number of Cores': 2,\n",
       "  'Number of Clusters': 8,\n",
       "  'Function used': <function __main__.parallelKMeans_slower(data, K, n_iter)>,\n",
       "  'elapsed_time': 122.28446292877197},\n",
       " {'Number of Cores': 2,\n",
       "  'Number of Clusters': 9,\n",
       "  'Function used': <function __main__.parallelKMeans(data, K, n_iter)>,\n",
       "  'elapsed_time': 3691.2535531520844},\n",
       " {'Number of Cores': 2,\n",
       "  'Number of Clusters': 9,\n",
       "  'Function used': <function __main__.parallelKMeans_slower(data, K, n_iter)>,\n",
       "  'elapsed_time': 118.28654384613037},\n",
       " {'Number of Cores': 2,\n",
       "  'Number of Clusters': 10,\n",
       "  'Function used': <function __main__.parallelKMeans(data, K, n_iter)>,\n",
       "  'elapsed_time': 437.4584047794342},\n",
       " {'Number of Cores': 2,\n",
       "  'Number of Clusters': 10,\n",
       "  'Function used': <function __main__.parallelKMeans_slower(data, K, n_iter)>,\n",
       "  'elapsed_time': 136.08910012245178},\n",
       " {'Number of Cores': 2,\n",
       "  'Number of Clusters': 11,\n",
       "  'Function used': <function __main__.parallelKMeans(data, K, n_iter)>,\n",
       "  'elapsed_time': 444.30815267562866},\n",
       " {'Number of Cores': 2,\n",
       "  'Number of Clusters': 11,\n",
       "  'Function used': <function __main__.parallelKMeans_slower(data, K, n_iter)>,\n",
       "  'elapsed_time': 147.78764605522156},\n",
       " {'Number of Cores': 3,\n",
       "  'Number of Clusters': 3,\n",
       "  'Function used': <function __main__.parallelKMeans(data, K, n_iter)>,\n",
       "  'elapsed_time': 152.3842990398407},\n",
       " {'Number of Cores': 3,\n",
       "  'Number of Clusters': 3,\n",
       "  'Function used': <function __main__.parallelKMeans_slower(data, K, n_iter)>,\n",
       "  'elapsed_time': 63.698806047439575},\n",
       " {'Number of Cores': 3,\n",
       "  'Number of Clusters': 5,\n",
       "  'Function used': <function __main__.parallelKMeans(data, K, n_iter)>,\n",
       "  'elapsed_time': 236.87196683883667},\n",
       " {'Number of Cores': 3,\n",
       "  'Number of Clusters': 5,\n",
       "  'Function used': <function __main__.parallelKMeans_slower(data, K, n_iter)>,\n",
       "  'elapsed_time': 84.26367378234863},\n",
       " {'Number of Cores': 3,\n",
       "  'Number of Clusters': 7,\n",
       "  'Function used': <function __main__.parallelKMeans(data, K, n_iter)>,\n",
       "  'elapsed_time': 290.1574468612671},\n",
       " {'Number of Cores': 3,\n",
       "  'Number of Clusters': 7,\n",
       "  'Function used': <function __main__.parallelKMeans_slower(data, K, n_iter)>,\n",
       "  'elapsed_time': 98.41826105117798},\n",
       " {'Number of Cores': 3,\n",
       "  'Number of Clusters': 8,\n",
       "  'Function used': <function __main__.parallelKMeans(data, K, n_iter)>,\n",
       "  'elapsed_time': 353.71015191078186},\n",
       " {'Number of Cores': 3,\n",
       "  'Number of Clusters': 8,\n",
       "  'Function used': <function __main__.parallelKMeans_slower(data, K, n_iter)>,\n",
       "  'elapsed_time': 105.4617669582367},\n",
       " {'Number of Cores': 3,\n",
       "  'Number of Clusters': 9,\n",
       "  'Function used': <function __main__.parallelKMeans(data, K, n_iter)>,\n",
       "  'elapsed_time': 382.1815969944},\n",
       " {'Number of Cores': 3,\n",
       "  'Number of Clusters': 9,\n",
       "  'Function used': <function __main__.parallelKMeans_slower(data, K, n_iter)>,\n",
       "  'elapsed_time': 114.29436707496643},\n",
       " {'Number of Cores': 3,\n",
       "  'Number of Clusters': 10,\n",
       "  'Function used': <function __main__.parallelKMeans(data, K, n_iter)>,\n",
       "  'elapsed_time': 390.7089629173279},\n",
       " {'Number of Cores': 3,\n",
       "  'Number of Clusters': 10,\n",
       "  'Function used': <function __main__.parallelKMeans_slower(data, K, n_iter)>,\n",
       "  'elapsed_time': 122.08105707168579},\n",
       " {'Number of Cores': 3,\n",
       "  'Number of Clusters': 11,\n",
       "  'Function used': <function __main__.parallelKMeans(data, K, n_iter)>,\n",
       "  'elapsed_time': 455.59767174720764},\n",
       " {'Number of Cores': 3,\n",
       "  'Number of Clusters': 11,\n",
       "  'Function used': <function __main__.parallelKMeans_slower(data, K, n_iter)>,\n",
       "  'elapsed_time': 131.15866017341614},\n",
       " {'Number of Cores': 4,\n",
       "  'Number of Clusters': 3,\n",
       "  'Function used': <function __main__.parallelKMeans(data, K, n_iter)>,\n",
       "  'elapsed_time': 101.42005825042725},\n",
       " {'Number of Cores': 4,\n",
       "  'Number of Clusters': 3,\n",
       "  'Function used': <function __main__.parallelKMeans_slower(data, K, n_iter)>,\n",
       "  'elapsed_time': 44.050820112228394},\n",
       " {'Number of Cores': 4,\n",
       "  'Number of Clusters': 5,\n",
       "  'Function used': <function __main__.parallelKMeans(data, K, n_iter)>,\n",
       "  'elapsed_time': 159.6912260055542},\n",
       " {'Number of Cores': 4,\n",
       "  'Number of Clusters': 5,\n",
       "  'Function used': <function __main__.parallelKMeans_slower(data, K, n_iter)>,\n",
       "  'elapsed_time': 56.523762941360474},\n",
       " {'Number of Cores': 4,\n",
       "  'Number of Clusters': 7,\n",
       "  'Function used': <function __main__.parallelKMeans(data, K, n_iter)>,\n",
       "  'elapsed_time': 225.11983633041382},\n",
       " {'Number of Cores': 4,\n",
       "  'Number of Clusters': 7,\n",
       "  'Function used': <function __main__.parallelKMeans_slower(data, K, n_iter)>,\n",
       "  'elapsed_time': 74.71573114395142},\n",
       " {'Number of Cores': 4,\n",
       "  'Number of Clusters': 8,\n",
       "  'Function used': <function __main__.parallelKMeans(data, K, n_iter)>,\n",
       "  'elapsed_time': 271.8269989490509},\n",
       " {'Number of Cores': 4,\n",
       "  'Number of Clusters': 8,\n",
       "  'Function used': <function __main__.parallelKMeans_slower(data, K, n_iter)>,\n",
       "  'elapsed_time': 85.71294689178467},\n",
       " {'Number of Cores': 4,\n",
       "  'Number of Clusters': 9,\n",
       "  'Function used': <function __main__.parallelKMeans(data, K, n_iter)>,\n",
       "  'elapsed_time': 296.2749547958374},\n",
       " {'Number of Cores': 4,\n",
       "  'Number of Clusters': 9,\n",
       "  'Function used': <function __main__.parallelKMeans_slower(data, K, n_iter)>,\n",
       "  'elapsed_time': 94.88893103599548},\n",
       " {'Number of Cores': 4,\n",
       "  'Number of Clusters': 10,\n",
       "  'Function used': <function __main__.parallelKMeans(data, K, n_iter)>,\n",
       "  'elapsed_time': 325.954204082489},\n",
       " {'Number of Cores': 4,\n",
       "  'Number of Clusters': 10,\n",
       "  'Function used': <function __main__.parallelKMeans_slower(data, K, n_iter)>,\n",
       "  'elapsed_time': 95.01070094108582},\n",
       " {'Number of Cores': 4,\n",
       "  'Number of Clusters': 11,\n",
       "  'Function used': <function __main__.parallelKMeans(data, K, n_iter)>,\n",
       "  'elapsed_time': 384.4370319843292},\n",
       " {'Number of Cores': 4,\n",
       "  'Number of Clusters': 11,\n",
       "  'Function used': <function __main__.parallelKMeans_slower(data, K, n_iter)>,\n",
       "  'elapsed_time': 128.55190801620483},\n",
       " {'Number of Cores': 5,\n",
       "  'Number of Clusters': 3,\n",
       "  'Function used': <function __main__.parallelKMeans(data, K, n_iter)>,\n",
       "  'elapsed_time': 128.96499180793762},\n",
       " {'Number of Cores': 5,\n",
       "  'Number of Clusters': 3,\n",
       "  'Function used': <function __main__.parallelKMeans_slower(data, K, n_iter)>,\n",
       "  'elapsed_time': 52.5340211391449},\n",
       " {'Number of Cores': 5,\n",
       "  'Number of Clusters': 5,\n",
       "  'Function used': <function __main__.parallelKMeans(data, K, n_iter)>,\n",
       "  'elapsed_time': 183.7079770565033},\n",
       " {'Number of Cores': 5,\n",
       "  'Number of Clusters': 5,\n",
       "  'Function used': <function __main__.parallelKMeans_slower(data, K, n_iter)>,\n",
       "  'elapsed_time': 65.25269293785095},\n",
       " {'Number of Cores': 5,\n",
       "  'Number of Clusters': 7,\n",
       "  'Function used': <function __main__.parallelKMeans(data, K, n_iter)>,\n",
       "  'elapsed_time': 241.96842694282532},\n",
       " {'Number of Cores': 5,\n",
       "  'Number of Clusters': 7,\n",
       "  'Function used': <function __main__.parallelKMeans_slower(data, K, n_iter)>,\n",
       "  'elapsed_time': 81.39327716827393},\n",
       " {'Number of Cores': 5,\n",
       "  'Number of Clusters': 8,\n",
       "  'Function used': <function __main__.parallelKMeans(data, K, n_iter)>,\n",
       "  'elapsed_time': 277.8914442062378},\n",
       " {'Number of Cores': 5,\n",
       "  'Number of Clusters': 8,\n",
       "  'Function used': <function __main__.parallelKMeans_slower(data, K, n_iter)>,\n",
       "  'elapsed_time': 90.06709456443787},\n",
       " {'Number of Cores': 5,\n",
       "  'Number of Clusters': 9,\n",
       "  'Function used': <function __main__.parallelKMeans(data, K, n_iter)>,\n",
       "  'elapsed_time': 286.05998396873474},\n",
       " {'Number of Cores': 5,\n",
       "  'Number of Clusters': 9,\n",
       "  'Function used': <function __main__.parallelKMeans_slower(data, K, n_iter)>,\n",
       "  'elapsed_time': 97.21924185752869},\n",
       " {'Number of Cores': 5,\n",
       "  'Number of Clusters': 10,\n",
       "  'Function used': <function __main__.parallelKMeans(data, K, n_iter)>,\n",
       "  'elapsed_time': 315.15162992477417},\n",
       " {'Number of Cores': 5,\n",
       "  'Number of Clusters': 10,\n",
       "  'Function used': <function __main__.parallelKMeans_slower(data, K, n_iter)>,\n",
       "  'elapsed_time': 93.41108393669128},\n",
       " {'Number of Cores': 5,\n",
       "  'Number of Clusters': 11,\n",
       "  'Function used': <function __main__.parallelKMeans(data, K, n_iter)>,\n",
       "  'elapsed_time': 360.19727897644043},\n",
       " {'Number of Cores': 5,\n",
       "  'Number of Clusters': 11,\n",
       "  'Function used': <function __main__.parallelKMeans_slower(data, K, n_iter)>,\n",
       "  'elapsed_time': 99.38373398780823},\n",
       " {'Number of Cores': 6,\n",
       "  'Number of Clusters': 3,\n",
       "  'Function used': <function __main__.parallelKMeans(data, K, n_iter)>,\n",
       "  'elapsed_time': 118.82088685035706},\n",
       " {'Number of Cores': 6,\n",
       "  'Number of Clusters': 3,\n",
       "  'Function used': <function __main__.parallelKMeans_slower(data, K, n_iter)>,\n",
       "  'elapsed_time': 52.29796290397644},\n",
       " {'Number of Cores': 6,\n",
       "  'Number of Clusters': 5,\n",
       "  'Function used': <function __main__.parallelKMeans(data, K, n_iter)>,\n",
       "  'elapsed_time': 168.37629008293152},\n",
       " {'Number of Cores': 6,\n",
       "  'Number of Clusters': 5,\n",
       "  'Function used': <function __main__.parallelKMeans_slower(data, K, n_iter)>,\n",
       "  'elapsed_time': 59.401636838912964},\n",
       " {'Number of Cores': 6,\n",
       "  'Number of Clusters': 7,\n",
       "  'Function used': <function __main__.parallelKMeans(data, K, n_iter)>,\n",
       "  'elapsed_time': 199.05544209480286},\n",
       " {'Number of Cores': 6,\n",
       "  'Number of Clusters': 7,\n",
       "  'Function used': <function __main__.parallelKMeans_slower(data, K, n_iter)>,\n",
       "  'elapsed_time': 76.7110869884491},\n",
       " {'Number of Cores': 6,\n",
       "  'Number of Clusters': 8,\n",
       "  'Function used': <function __main__.parallelKMeans(data, K, n_iter)>,\n",
       "  'elapsed_time': 231.69025874137878},\n",
       " {'Number of Cores': 6,\n",
       "  'Number of Clusters': 8,\n",
       "  'Function used': <function __main__.parallelKMeans_slower(data, K, n_iter)>,\n",
       "  'elapsed_time': 77.91008305549622},\n",
       " {'Number of Cores': 6,\n",
       "  'Number of Clusters': 9,\n",
       "  'Function used': <function __main__.parallelKMeans(data, K, n_iter)>,\n",
       "  'elapsed_time': 278.30171489715576},\n",
       " {'Number of Cores': 6,\n",
       "  'Number of Clusters': 9,\n",
       "  'Function used': <function __main__.parallelKMeans_slower(data, K, n_iter)>,\n",
       "  'elapsed_time': 82.29273772239685},\n",
       " {'Number of Cores': 6,\n",
       "  'Number of Clusters': 10,\n",
       "  'Function used': <function __main__.parallelKMeans(data, K, n_iter)>,\n",
       "  'elapsed_time': 308.61515188217163},\n",
       " {'Number of Cores': 6,\n",
       "  'Number of Clusters': 10,\n",
       "  'Function used': <function __main__.parallelKMeans_slower(data, K, n_iter)>,\n",
       "  'elapsed_time': 96.78138303756714},\n",
       " {'Number of Cores': 6,\n",
       "  'Number of Clusters': 11,\n",
       "  'Function used': <function __main__.parallelKMeans(data, K, n_iter)>,\n",
       "  'elapsed_time': 312.47967314720154},\n",
       " {'Number of Cores': 6,\n",
       "  'Number of Clusters': 11,\n",
       "  'Function used': <function __main__.parallelKMeans_slower(data, K, n_iter)>,\n",
       "  'elapsed_time': 104.27900314331055},\n",
       " {'Number of Cores': 7,\n",
       "  'Number of Clusters': 3,\n",
       "  'Function used': <function __main__.parallelKMeans(data, K, n_iter)>,\n",
       "  'elapsed_time': 107.90338611602783},\n",
       " {'Number of Cores': 7,\n",
       "  'Number of Clusters': 3,\n",
       "  'Function used': <function __main__.parallelKMeans_slower(data, K, n_iter)>,\n",
       "  'elapsed_time': 43.31272602081299},\n",
       " {'Number of Cores': 7,\n",
       "  'Number of Clusters': 5,\n",
       "  'Function used': <function __main__.parallelKMeans(data, K, n_iter)>,\n",
       "  'elapsed_time': 167.49843788146973},\n",
       " {'Number of Cores': 7,\n",
       "  'Number of Clusters': 5,\n",
       "  'Function used': <function __main__.parallelKMeans_slower(data, K, n_iter)>,\n",
       "  'elapsed_time': 75.41898012161255},\n",
       " {'Number of Cores': 7,\n",
       "  'Number of Clusters': 7,\n",
       "  'Function used': <function __main__.parallelKMeans(data, K, n_iter)>,\n",
       "  'elapsed_time': 220.31863498687744},\n",
       " {'Number of Cores': 7,\n",
       "  'Number of Clusters': 7,\n",
       "  'Function used': <function __main__.parallelKMeans_slower(data, K, n_iter)>,\n",
       "  'elapsed_time': 75.25219106674194},\n",
       " {'Number of Cores': 7,\n",
       "  'Number of Clusters': 8,\n",
       "  'Function used': <function __main__.parallelKMeans(data, K, n_iter)>,\n",
       "  'elapsed_time': 266.49133491516113},\n",
       " {'Number of Cores': 7,\n",
       "  'Number of Clusters': 8,\n",
       "  'Function used': <function __main__.parallelKMeans_slower(data, K, n_iter)>,\n",
       "  'elapsed_time': 84.30078673362732},\n",
       " {'Number of Cores': 7,\n",
       "  'Number of Clusters': 9,\n",
       "  'Function used': <function __main__.parallelKMeans(data, K, n_iter)>,\n",
       "  'elapsed_time': 285.64027309417725},\n",
       " {'Number of Cores': 7,\n",
       "  'Number of Clusters': 9,\n",
       "  'Function used': <function __main__.parallelKMeans_slower(data, K, n_iter)>,\n",
       "  'elapsed_time': 93.1087818145752},\n",
       " {'Number of Cores': 7,\n",
       "  'Number of Clusters': 10,\n",
       "  'Function used': <function __main__.parallelKMeans(data, K, n_iter)>,\n",
       "  'elapsed_time': 333.00839591026306},\n",
       " {'Number of Cores': 7,\n",
       "  'Number of Clusters': 10,\n",
       "  'Function used': <function __main__.parallelKMeans_slower(data, K, n_iter)>,\n",
       "  'elapsed_time': 105.56222891807556},\n",
       " {'Number of Cores': 7,\n",
       "  'Number of Clusters': 11,\n",
       "  'Function used': <function __main__.parallelKMeans(data, K, n_iter)>,\n",
       "  'elapsed_time': 2362.358920097351},\n",
       " {'Number of Cores': 7,\n",
       "  'Number of Clusters': 11,\n",
       "  'Function used': <function __main__.parallelKMeans_slower(data, K, n_iter)>,\n",
       "  'elapsed_time': 92.79925417900085},\n",
       " {'Number of Cores': 8,\n",
       "  'Number of Clusters': 3,\n",
       "  'Function used': <function __main__.parallelKMeans(data, K, n_iter)>,\n",
       "  'elapsed_time': 102.98227405548096},\n",
       " {'Number of Cores': 8,\n",
       "  'Number of Clusters': 3,\n",
       "  'Function used': <function __main__.parallelKMeans_slower(data, K, n_iter)>,\n",
       "  'elapsed_time': 43.920774936676025},\n",
       " {'Number of Cores': 8,\n",
       "  'Number of Clusters': 5,\n",
       "  'Function used': <function __main__.parallelKMeans(data, K, n_iter)>,\n",
       "  'elapsed_time': 168.0766899585724},\n",
       " {'Number of Cores': 8,\n",
       "  'Number of Clusters': 5,\n",
       "  'Function used': <function __main__.parallelKMeans_slower(data, K, n_iter)>,\n",
       "  'elapsed_time': 58.64411807060242},\n",
       " {'Number of Cores': 8,\n",
       "  'Number of Clusters': 7,\n",
       "  'Function used': <function __main__.parallelKMeans(data, K, n_iter)>,\n",
       "  'elapsed_time': 220.87429308891296},\n",
       " {'Number of Cores': 8,\n",
       "  'Number of Clusters': 7,\n",
       "  'Function used': <function __main__.parallelKMeans_slower(data, K, n_iter)>,\n",
       "  'elapsed_time': 79.86669516563416},\n",
       " {'Number of Cores': 8,\n",
       "  'Number of Clusters': 8,\n",
       "  'Function used': <function __main__.parallelKMeans(data, K, n_iter)>,\n",
       "  'elapsed_time': 4038.9029018878937},\n",
       " {'Number of Cores': 8,\n",
       "  'Number of Clusters': 8,\n",
       "  'Function used': <function __main__.parallelKMeans_slower(data, K, n_iter)>,\n",
       "  'elapsed_time': 1914.1870930194855},\n",
       " {'Number of Cores': 8,\n",
       "  'Number of Clusters': 9,\n",
       "  'Function used': <function __main__.parallelKMeans(data, K, n_iter)>,\n",
       "  'elapsed_time': 4048.4058270454407},\n",
       " {'Number of Cores': 8,\n",
       "  'Number of Clusters': 9,\n",
       "  'Function used': <function __main__.parallelKMeans_slower(data, K, n_iter)>,\n",
       "  'elapsed_time': 986.861396074295},\n",
       " {'Number of Cores': 8,\n",
       "  'Number of Clusters': 10,\n",
       "  'Function used': <function __main__.parallelKMeans(data, K, n_iter)>,\n",
       "  'elapsed_time': 4965.233966827393},\n",
       " {'Number of Cores': 8,\n",
       "  'Number of Clusters': 10,\n",
       "  'Function used': <function __main__.parallelKMeans_slower(data, K, n_iter)>,\n",
       "  'elapsed_time': 1040.8048272132874},\n",
       " {'Number of Cores': 8,\n",
       "  'Number of Clusters': 11,\n",
       "  'Function used': <function __main__.parallelKMeans(data, K, n_iter)>,\n",
       "  'elapsed_time': 4871.529038906097},\n",
       " {'Number of Cores': 8,\n",
       "  'Number of Clusters': 11,\n",
       "  'Function used': <function __main__.parallelKMeans_slower(data, K, n_iter)>,\n",
       "  'elapsed_time': 1996.0898070335388}]"
      ]
     },
     "execution_count": 14,
     "metadata": {},
     "output_type": "execute_result"
    }
   ],
   "source": [
    "elapsed_times"
   ]
  },
  {
   "cell_type": "code",
   "execution_count": null,
   "id": "c7a8ada4-4212-4170-9943-720f35dbe9f6",
   "metadata": {},
   "outputs": [],
   "source": []
  }
 ],
 "metadata": {
  "kernelspec": {
   "display_name": "Python 3 (ipykernel)",
   "language": "python",
   "name": "python3"
  },
  "language_info": {
   "codemirror_mode": {
    "name": "ipython",
    "version": 3
   },
   "file_extension": ".py",
   "mimetype": "text/x-python",
   "name": "python",
   "nbconvert_exporter": "python",
   "pygments_lexer": "ipython3",
   "version": "3.7.10"
  },
  "vscode": {
   "interpreter": {
    "hash": "b29c8f7af202326f63c5f4fe2584055150a7ad45590b59c15135905590e1196c"
   }
  }
 },
 "nbformat": 4,
 "nbformat_minor": 5
}
