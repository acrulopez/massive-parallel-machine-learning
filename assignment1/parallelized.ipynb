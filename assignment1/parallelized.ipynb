{
 "cells": [
  {
   "cell_type": "markdown",
   "id": "61ef56c4-20ca-459d-9eef-a483a5465ce0",
   "metadata": {},
   "source": [
    "# Parallelized version"
   ]
  },
  {
   "cell_type": "code",
   "execution_count": 1,
   "id": "8c080482-56c0-41f4-b02c-25ba0de75343",
   "metadata": {},
   "outputs": [],
   "source": [
    "import math"
   ]
  },
  {
   "cell_type": "markdown",
   "id": "341c50ee-66a8-4aae-9a04-c224b162a9bc",
   "metadata": {},
   "source": [
    "## Initializing spark"
   ]
  },
  {
   "cell_type": "code",
   "execution_count": 2,
   "id": "f993a20d-3421-436b-80aa-8ffd96e4fb52",
   "metadata": {},
   "outputs": [],
   "source": [
    "from pyspark import SparkConf, SparkContext"
   ]
  },
  {
   "cell_type": "code",
   "execution_count": 3,
   "id": "a03e538b-7634-4386-8a33-ee4c0a83a5a9",
   "metadata": {},
   "outputs": [
    {
     "name": "stdout",
     "output_type": "stream",
     "text": [
      "22/11/11 12:13:10 WARN Utils: Your hostname, Alexs-MacBook-Air.local resolves to a loopback address: 127.0.0.1; using 192.168.1.131 instead (on interface en0)\n",
      "22/11/11 12:13:10 WARN Utils: Set SPARK_LOCAL_IP if you need to bind to another address\n"
     ]
    },
    {
     "name": "stderr",
     "output_type": "stream",
     "text": [
      "Setting default log level to \"WARN\".\n",
      "To adjust logging level use sc.setLogLevel(newLevel). For SparkR, use setLogLevel(newLevel).\n"
     ]
    },
    {
     "name": "stdout",
     "output_type": "stream",
     "text": [
      "22/11/11 12:13:10 WARN NativeCodeLoader: Unable to load native-hadoop library for your platform... using builtin-java classes where applicable\n"
     ]
    }
   ],
   "source": [
    "conf = SparkConf().setAppName(\"appName\").setMaster(\"local\")\n",
    "sc = SparkContext()"
   ]
  },
  {
   "cell_type": "markdown",
   "id": "c792607f-0c3e-4792-98e4-e92606ec52ab",
   "metadata": {
    "tags": []
   },
   "source": [
    "## Functions"
   ]
  },
  {
   "cell_type": "markdown",
   "id": "cf5b4597-2427-46cb-81fc-c7061dbf3ed6",
   "metadata": {},
   "source": [
    "### Auxiliar functions"
   ]
  },
  {
   "cell_type": "code",
   "execution_count": 4,
   "id": "5fd22ee1-c62e-4c9e-8049-54a1686ae936",
   "metadata": {},
   "outputs": [],
   "source": [
    "def sigmoid(x):\n",
    "    return 1 / (1 + math.exp(-x))"
   ]
  },
  {
   "cell_type": "code",
   "execution_count": 5,
   "id": "69b24fe5-61e7-468c-a652-96716b4f4ad4",
   "metadata": {},
   "outputs": [],
   "source": [
    "def cost_function(w, y, y_hat):\n",
    "    # Computes the cost function for all the training samples\n",
    "    m = x.shape[0]\n",
    "    return -(1 / m) * np.sum(\n",
    "        y * np.log(y_hat) + (1 - y)\n",
    "        * np.log(1 - y_hat)\n",
    "    )"
   ]
  },
  {
   "cell_type": "code",
   "execution_count": 6,
   "id": "b7d51754-45aa-4a9c-a8c7-8fa75fc99670",
   "metadata": {},
   "outputs": [],
   "source": [
    "def str_to_number_list(line):\n",
    "    numbers = line.replace(\" \",\"\").split(\",\")\n",
    "    numbers = [float(number) for number in numbers]\n",
    "    \n",
    "    # Separate X and y\n",
    "    numbers = (numbers[:-1], numbers[-1])\n",
    "    \n",
    "    return numbers"
   ]
  },
  {
   "cell_type": "code",
   "execution_count": 7,
   "id": "48bab622-c456-4215-aec0-38666d909c31",
   "metadata": {},
   "outputs": [],
   "source": [
    "def sum_list_values(list1, list2):\n",
    "    return [n1 + n2 for n1, n2 in zip(list1, list2)]"
   ]
  },
  {
   "cell_type": "code",
   "execution_count": 8,
   "id": "abb28702-2648-4a3e-a810-da4871e10ef2",
   "metadata": {},
   "outputs": [],
   "source": [
    "def sum_minus_mean_squared(numbers):\n",
    "    return [(number-means.value[x])**2 for x,number in enumerate(numbers)]"
   ]
  },
  {
   "cell_type": "code",
   "execution_count": 9,
   "id": "0f6d4d91-f937-4734-acf0-99bd66127b1e",
   "metadata": {},
   "outputs": [],
   "source": [
    "def rdd_mean_by_column(RDD_Xy, m):\n",
    "    means = RDD_Xy.map(lambda x: x[0]).reduce(sum_list_values)\n",
    "    means = [x/m for x in means]\n",
    "    return means"
   ]
  },
  {
   "cell_type": "code",
   "execution_count": 10,
   "id": "e1393456-e42c-4f6a-aed5-9ce17dfccc79",
   "metadata": {},
   "outputs": [],
   "source": [
    "def rdd_std_by_column(RDD_Xy, m):\n",
    "    stds = RDD_Xy.map(lambda x: x[0]).map(sum_minus_mean_squared).reduce(sum_list_values)\n",
    "    stds = [math.sqrt(x/m) for x in stds]\n",
    "    return stds"
   ]
  },
  {
   "cell_type": "markdown",
   "id": "38daca3b-6372-48e4-9283-cdfa2ec92f60",
   "metadata": {},
   "source": [
    "### Mandatory functions"
   ]
  },
  {
   "cell_type": "code",
   "execution_count": 11,
   "id": "65dece0d-7ae0-4b2c-98dc-2508d35102e4",
   "metadata": {},
   "outputs": [],
   "source": [
    "def readFile(filename):\n",
    "    dataset = sc.textFile(filename)\n",
    "    dataset = dataset.map(str_to_number_list)\n",
    "    return dataset.sample(False, 0.00001)"
   ]
  },
  {
   "cell_type": "code",
   "execution_count": 12,
   "id": "0f52d20b-4931-40d9-8cdb-6cdbb31a18e8",
   "metadata": {},
   "outputs": [],
   "source": [
    "def normalize(RDD_Xy):\n",
    "    m = RDD_Xy.count()\n",
    "    global means\n",
    "    means = sc.broadcast(rdd_mean_by_column(RDD_Xy, m))\n",
    "    stds = sc.broadcast(rdd_std_by_column(RDD_Xy, m))\n",
    "    norm_rdd = RDD_Xy.map(lambda values: ([(x - mean) / std for x, mean, std in zip(values[0], means.value, stds.value)], values[1]))\n",
    "    return norm_rdd"
   ]
  },
  {
   "cell_type": "code",
   "execution_count": 13,
   "id": "01ea79a1-ff8f-4a01-960b-856587a33c59",
   "metadata": {},
   "outputs": [],
   "source": [
    "def train(RDD_Xy, iterations, learning_rate, lambda_reg):\n",
    "    \n",
    "    m = RDD_Xy.shape[0]\n",
    "    n = RDD_Xy.shape[1]\n",
    "    \n",
    "    X = np.c_[np.ones(m), RDD_Xy[:,0:-1]]\n",
    "    y = RDD_Xy[:,-1]\n",
    "    \n",
    "    w = np.random.rand(n)\n",
    "    \n",
    "    for it in range(iterations):\n",
    "        y_hat = np.array([sigmoid(x) for x in np.matmul(X, w)])\n",
    "        \n",
    "        print(f\"Cost for it {it}:\", cost_function(w, y, y_hat))\n",
    "        \n",
    "        dw = ((X.transpose() * (y_hat - y)).sum(axis=1) + lambda_reg * w)/m\n",
    "        w -= learning_rate * dw\n",
    "              \n",
    "    return w"
   ]
  },
  {
   "cell_type": "code",
   "execution_count": 14,
   "id": "b9f850ad-0bf9-4f3d-bc9c-4f2defae9e3e",
   "metadata": {},
   "outputs": [],
   "source": [
    "def accuracy(w, RDD_Xy):\n",
    "    m = RDD_Xy.shape[0]\n",
    "    \n",
    "    X = np.c_[np.ones(m), RDD_Xy[:,0:-1]]\n",
    "    y = RDD_Xy[:,-1]\n",
    "    \n",
    "    y_hat = predict(w, X)\n",
    "    \n",
    "    return np.sum(y_hat == y)/len(y)"
   ]
  },
  {
   "cell_type": "code",
   "execution_count": 15,
   "id": "bd0f39a5-8340-4166-a5d0-b75ca895dbe5",
   "metadata": {},
   "outputs": [],
   "source": [
    "def predict(w, X):\n",
    "    y_hat = np.array([np.around(sigmoid(x),0) for x in np.matmul(X, w)])\n",
    "    \n",
    "    return y_hat"
   ]
  },
  {
   "cell_type": "markdown",
   "id": "f898b584-6f73-4d99-a527-7d962057bb13",
   "metadata": {},
   "source": [
    "## Testing"
   ]
  },
  {
   "cell_type": "code",
   "execution_count": 16,
   "id": "8bac4d3f-1fe4-49af-8e10-d4397e3fcea6",
   "metadata": {},
   "outputs": [],
   "source": [
    "RDD_Xy = readFile(\"../data/botnet_tot_syn_l.csv\")"
   ]
  },
  {
   "cell_type": "code",
   "execution_count": 17,
   "id": "802fa507-ce0e-4ded-9841-883ddfd67705",
   "metadata": {
    "tags": []
   },
   "outputs": [
    {
     "name": "stderr",
     "output_type": "stream",
     "text": [
      "                                                                                \r"
     ]
    }
   ],
   "source": [
    "RDD_Xy = normalize(RDD_Xy)"
   ]
  },
  {
   "cell_type": "code",
   "execution_count": null,
   "id": "829fc5b6-19ce-4db2-bbb0-e5370ccb4cfa",
   "metadata": {},
   "outputs": [],
   "source": []
  },
  {
   "cell_type": "code",
   "execution_count": null,
   "id": "9b3dba98-293e-443c-b444-14a10e3eaf7d",
   "metadata": {},
   "outputs": [],
   "source": []
  },
  {
   "cell_type": "code",
   "execution_count": null,
   "id": "3169b019-e342-4696-a414-b4c146607fe4",
   "metadata": {},
   "outputs": [],
   "source": []
  },
  {
   "cell_type": "code",
   "execution_count": 20,
   "id": "f649c0b3-d9b8-439b-88f1-84d5b8d60be9",
   "metadata": {},
   "outputs": [
    {
     "ename": "AttributeError",
     "evalue": "'PipelinedRDD' object has no attribute 'shape'",
     "output_type": "error",
     "traceback": [
      "\u001b[0;31m---------------------------------------------------------------------------\u001b[0m",
      "\u001b[0;31mAttributeError\u001b[0m                            Traceback (most recent call last)",
      "\u001b[0;32m/var/folders/6t/skryhq210q1bxw5p2g6w_gjm0000gn/T/ipykernel_95424/194929749.py\u001b[0m in \u001b[0;36m<module>\u001b[0;34m\u001b[0m\n\u001b[0;32m----> 1\u001b[0;31m \u001b[0mw\u001b[0m \u001b[0;34m=\u001b[0m \u001b[0mtrain\u001b[0m\u001b[0;34m(\u001b[0m\u001b[0mdata\u001b[0m\u001b[0;34m,\u001b[0m \u001b[0;36m15\u001b[0m\u001b[0;34m,\u001b[0m \u001b[0;36m0.1\u001b[0m\u001b[0;34m,\u001b[0m \u001b[0;36m0.1\u001b[0m\u001b[0;34m)\u001b[0m\u001b[0;34m\u001b[0m\u001b[0;34m\u001b[0m\u001b[0m\n\u001b[0m",
      "\u001b[0;32m/var/folders/6t/skryhq210q1bxw5p2g6w_gjm0000gn/T/ipykernel_95424/3522847359.py\u001b[0m in \u001b[0;36mtrain\u001b[0;34m(RDD_Xy, iterations, learning_rate, lambda_reg)\u001b[0m\n\u001b[1;32m      1\u001b[0m \u001b[0;32mdef\u001b[0m \u001b[0mtrain\u001b[0m\u001b[0;34m(\u001b[0m\u001b[0mRDD_Xy\u001b[0m\u001b[0;34m,\u001b[0m \u001b[0miterations\u001b[0m\u001b[0;34m,\u001b[0m \u001b[0mlearning_rate\u001b[0m\u001b[0;34m,\u001b[0m \u001b[0mlambda_reg\u001b[0m\u001b[0;34m)\u001b[0m\u001b[0;34m:\u001b[0m\u001b[0;34m\u001b[0m\u001b[0;34m\u001b[0m\u001b[0m\n\u001b[1;32m      2\u001b[0m \u001b[0;34m\u001b[0m\u001b[0m\n\u001b[0;32m----> 3\u001b[0;31m     \u001b[0mm\u001b[0m \u001b[0;34m=\u001b[0m \u001b[0mRDD_Xy\u001b[0m\u001b[0;34m.\u001b[0m\u001b[0mshape\u001b[0m\u001b[0;34m[\u001b[0m\u001b[0;36m0\u001b[0m\u001b[0;34m]\u001b[0m\u001b[0;34m\u001b[0m\u001b[0;34m\u001b[0m\u001b[0m\n\u001b[0m\u001b[1;32m      4\u001b[0m     \u001b[0mn\u001b[0m \u001b[0;34m=\u001b[0m \u001b[0mRDD_Xy\u001b[0m\u001b[0;34m.\u001b[0m\u001b[0mshape\u001b[0m\u001b[0;34m[\u001b[0m\u001b[0;36m1\u001b[0m\u001b[0;34m]\u001b[0m\u001b[0;34m\u001b[0m\u001b[0;34m\u001b[0m\u001b[0m\n\u001b[1;32m      5\u001b[0m \u001b[0;34m\u001b[0m\u001b[0m\n",
      "\u001b[0;31mAttributeError\u001b[0m: 'PipelinedRDD' object has no attribute 'shape'"
     ]
    }
   ],
   "source": [
    "w = train(data, 15, 0.1, 0.1)"
   ]
  },
  {
   "cell_type": "code",
   "execution_count": null,
   "id": "c91f0ac1-1ac3-4274-8c69-5faf3e996249",
   "metadata": {},
   "outputs": [],
   "source": [
    "acc = accuracy(w, data)\n",
    "acc"
   ]
  }
 ],
 "metadata": {
  "kernelspec": {
   "display_name": "Python 3 (ipykernel)",
   "language": "python",
   "name": "python3"
  },
  "language_info": {
   "codemirror_mode": {
    "name": "ipython",
    "version": 3
   },
   "file_extension": ".py",
   "mimetype": "text/x-python",
   "name": "python",
   "nbconvert_exporter": "python",
   "pygments_lexer": "ipython3",
   "version": "3.7.10"
  }
 },
 "nbformat": 4,
 "nbformat_minor": 5
}
