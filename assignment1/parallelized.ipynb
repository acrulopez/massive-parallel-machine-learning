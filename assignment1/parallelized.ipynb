{
 "cells": [
  {
   "cell_type": "markdown",
   "metadata": {},
   "source": [
    "# Parallelized version"
   ]
  },
  {
   "cell_type": "code",
   "execution_count": 1,
   "metadata": {},
   "outputs": [],
   "source": [
    "import math\n",
    "import random\n",
    "import numpy as np\n",
    "import time"
   ]
  },
  {
   "cell_type": "markdown",
   "metadata": {},
   "source": [
    "## Initializing spark"
   ]
  },
  {
   "cell_type": "code",
   "execution_count": 2,
   "metadata": {},
   "outputs": [],
   "source": [
    "from pyspark import SparkConf, SparkContext"
   ]
  },
  {
   "cell_type": "code",
   "execution_count": 3,
   "metadata": {},
   "outputs": [],
   "source": [
    "conf = SparkConf().setAppName(\"appName\").setMaster(\"local[*]\")\n",
    "sc = SparkContext(conf=conf)"
   ]
  },
  {
   "cell_type": "code",
   "execution_count": 4,
   "metadata": {},
   "outputs": [
    {
     "data": {
      "text/plain": [
       "[('spark.app.id', 'local-1669673861382'),\n",
       " ('spark.driver.port', '39653'),\n",
       " ('spark.rdd.compress', 'True'),\n",
       " ('spark.app.name', 'appName'),\n",
       " ('spark.serializer.objectStreamReset', '100'),\n",
       " ('spark.master', 'local[*]'),\n",
       " ('spark.executor.id', 'driver'),\n",
       " ('spark.submit.deployMode', 'client'),\n",
       " ('spark.driver.host', '10.0.2.15'),\n",
       " ('spark.ui.showConsoleProgress', 'true')]"
      ]
     },
     "execution_count": 4,
     "metadata": {},
     "output_type": "execute_result"
    }
   ],
   "source": [
    "sc.getConf().getAll()"
   ]
  },
  {
   "cell_type": "markdown",
   "metadata": {
    "tags": []
   },
   "source": [
    "## Functions"
   ]
  },
  {
   "cell_type": "markdown",
   "metadata": {},
   "source": [
    "### Auxiliar functions"
   ]
  },
  {
   "cell_type": "code",
   "execution_count": 5,
   "metadata": {},
   "outputs": [],
   "source": [
    "def trainTestSplit(dataset):\n",
    "    train = dataset.filter(lambda x: x[2]==1)\n",
    "    train = train.map(lambda x: (x[0], x[1]))\n",
    "    test = dataset.filter(lambda x: x[2]==0)\n",
    "    test = test.map(lambda x: (x[0], x[1]))\n",
    "    return (train, test)"
   ]
  },
  {
   "cell_type": "code",
   "execution_count": 6,
   "metadata": {},
   "outputs": [],
   "source": [
    "def sigmoid(x):\n",
    "    return 1 / (1 + math.exp(-x))"
   ]
  },
  {
   "cell_type": "code",
   "execution_count": 7,
   "metadata": {},
   "outputs": [],
   "source": [
    "def rdd_cost_function(RDD_Xyyhat, lambda_ref, m, w):\n",
    "    y = RDD_Xyyhat[1]\n",
    "    y_hat = RDD_Xyyhat[2]\n",
    "    temp = (-1/m) * (\n",
    "        y * np.log(y_hat) + (1 - y)\n",
    "        * np.log(1 - y_hat)\n",
    "    )\n",
    "    cost = temp + (lambda_ref/(2*m))*sum([i*i for i in w.value])\n",
    "    return cost"
   ]
  },
  {
   "cell_type": "code",
   "execution_count": 8,
   "metadata": {},
   "outputs": [],
   "source": [
    "def str_to_number_list(line):\n",
    "    numbers = line.replace(\" \",\"\").split(\",\")\n",
    "    numbers = [float(number) for number in numbers]\n",
    "    \n",
    "    # Separate X and y\n",
    "    numbers = (numbers[:-1], numbers[-1])\n",
    "    \n",
    "    return numbers"
   ]
  },
  {
   "cell_type": "code",
   "execution_count": 9,
   "metadata": {},
   "outputs": [],
   "source": [
    "def sum_list_values(list1, list2):\n",
    "    return [n1 + n2 for n1, n2 in zip(list1, list2)]"
   ]
  },
  {
   "cell_type": "code",
   "execution_count": 10,
   "metadata": {},
   "outputs": [],
   "source": [
    "def sum_minus_mean_squared(numbers):\n",
    "    return [(number-means.value[x])**2 for x,number in enumerate(numbers)]"
   ]
  },
  {
   "cell_type": "code",
   "execution_count": 11,
   "metadata": {},
   "outputs": [],
   "source": [
    "def rdd_mean_by_column(RDD_Xy, m):\n",
    "    means = RDD_Xy.map(lambda x: x[0]).reduce(sum_list_values)\n",
    "    means = [x/m for x in means]\n",
    "    return means"
   ]
  },
  {
   "cell_type": "code",
   "execution_count": 12,
   "metadata": {},
   "outputs": [],
   "source": [
    "def rdd_mean_by_column(RDD_Xy, m):\n",
    "    means = RDD_Xy.map(lambda x: x[0]).reduce(sum_list_values)\n",
    "    means = [x/m for x in means]\n",
    "    return means"
   ]
  },
  {
   "cell_type": "code",
   "execution_count": 13,
   "metadata": {},
   "outputs": [],
   "source": [
    "def rdd_std_by_column(RDD_Xy, m):\n",
    "    stds = RDD_Xy.map(lambda x: x[0]).map(sum_minus_mean_squared).reduce(sum_list_values)\n",
    "    stds = [math.sqrt(x/m) for x in stds]\n",
    "    return stds"
   ]
  },
  {
   "cell_type": "code",
   "execution_count": 14,
   "metadata": {},
   "outputs": [],
   "source": [
    "def multiply_RDDXy_by_w(Xy):\n",
    "    global b\n",
    "    tot = 0\n",
    "    for xi, wi in zip(Xy[0], w.value):\n",
    "        tot += xi * wi\n",
    "    tot += b\n",
    "    return (Xy[0], Xy[1], sigmoid(tot))"
   ]
  },
  {
   "cell_type": "code",
   "execution_count": 15,
   "metadata": {},
   "outputs": [],
   "source": [
    "def calculate_dw(RDD_Xyyhat):\n",
    "    dw = []\n",
    "    for x in RDD_Xyyhat[0]:\n",
    "        dw.append((RDD_Xyyhat[2]-RDD_Xyyhat[1])*x)\n",
    "    return dw"
   ]
  },
  {
   "cell_type": "markdown",
   "metadata": {},
   "source": [
    "### Mandatory functions"
   ]
  },
  {
   "cell_type": "code",
   "execution_count": 16,
   "metadata": {},
   "outputs": [],
   "source": [
    "def readFile(filename):\n",
    "    dataset = sc.textFile(filename)\n",
    "    dataset = dataset.map(str_to_number_list)\n",
    "    return dataset.sample(False, 1)"
   ]
  },
  {
   "cell_type": "code",
   "execution_count": 17,
   "metadata": {},
   "outputs": [],
   "source": [
    "def normalize(RDD_Xy):\n",
    "    m = RDD_Xy.count()\n",
    "    global means\n",
    "    means = sc.broadcast(rdd_mean_by_column(RDD_Xy, m))\n",
    "    stds = sc.broadcast(rdd_std_by_column(RDD_Xy, m))\n",
    "    norm_rdd = RDD_Xy.map(lambda values: ([(x - mean) / std for x, mean, std in zip(values[0], means.value, stds.value)], values[1]))\n",
    "    return norm_rdd"
   ]
  },
  {
   "cell_type": "code",
   "execution_count": 18,
   "metadata": {},
   "outputs": [],
   "source": [
    "def train(RDD_Xy, iterations, learning_rate, lambda_reg):\n",
    "    global b\n",
    "    global m\n",
    "    m = RDD_Xy.count()\n",
    "    n = len(RDD_Xy.take(1)[0][0])\n",
    "    global w\n",
    "    w_temp = w.value.copy()\n",
    "    for it in range(iterations):\n",
    "        RDD_Xyyhat = RDD_Xy.map(multiply_RDDXy_by_w)\n",
    "        print(f\"Cost for it {it}:\", RDD_Xyyhat.map(lambda x: rdd_cost_function(x, lambda_reg, m, w)).reduce(lambda x,y: x+y))\n",
    "        dw=[0 for i in range(0,n)]\n",
    "        for cl in range(n):\n",
    "                X_cl = RDD_Xyyhat.map(lambda x: (x[2]-x[1])*x[0][cl]).reduce(lambda x, y: x+y)\n",
    "                dw[cl] = (1/m)*(X_cl)+(lambda_reg/m)*w_temp[cl]\n",
    "                w_temp[cl] -= learning_rate * dw[cl]\n",
    "        w = sc.broadcast(w_temp)\n",
    "        db = (1/m)*RDD_Xyyhat.map(lambda x: x[2]-x[1]).reduce(lambda x, y: x+y)\n",
    "        b -= learning_rate * db\n",
    "    return w, b"
   ]
  },
  {
   "cell_type": "code",
   "execution_count": 28,
   "metadata": {},
   "outputs": [],
   "source": [
    "def checkPrediction(y, y_hat):\n",
    "    if (y == y_hat and y_hat==0):\n",
    "        return (0, 1, 0, 0)\n",
    "    if (y == y_hat and y_hat==1):\n",
    "        return (1, 0, 0, 0)\n",
    "    if (y != y_hat and y_hat==1):\n",
    "        return (0, 0, 1, 0)\n",
    "    if (y != y_hat and y_hat==0):\n",
    "        return (0,0,0,1)"
   ]
  },
  {
   "cell_type": "code",
   "execution_count": 71,
   "metadata": {},
   "outputs": [],
   "source": [
    "def accuracy(ws, b, RDD_Xy):\n",
    "    total = RDD_Xy.count()\n",
    "    y_and_y_hat = RDD_Xy.map(lambda x: (x[1], predict(ws, x[0], b)))\n",
    "    result = y_and_y_hat.map(lambda x: checkPrediction(x[0], x[1]))\n",
    "    tp = result.map(lambda x: x[0]).reduce(lambda x,y: x+y)\n",
    "    tn = result.map(lambda x: x[1]).reduce(lambda x,y: x+y)\n",
    "    fp = result.map(lambda x: x[2]).reduce(lambda x,y: x+y)\n",
    "    fn = result.map(lambda x: x[3]).reduce(lambda x,y: x+y)\n",
    "    acc = (tp+tn)/total\n",
    "    return acc, tp, tn, fp, fn"
   ]
  },
  {
   "cell_type": "code",
   "execution_count": 56,
   "metadata": {},
   "outputs": [],
   "source": [
    "def predict(w, X, b):\n",
    "    tot = 0\n",
    "    for xi, wi in zip(X, w.value):\n",
    "        tot += xi * wi\n",
    "    tot += b\n",
    "    val = sigmoid(tot)\n",
    "    if (val>=0.5):\n",
    "        return 1.0\n",
    "    return 0.0"
   ]
  },
  {
   "cell_type": "markdown",
   "metadata": {},
   "source": [
    "## Testing"
   ]
  },
  {
   "cell_type": "code",
   "execution_count": 22,
   "metadata": {},
   "outputs": [
    {
     "data": {
      "text/plain": [
       "1000000"
      ]
     },
     "execution_count": 22,
     "metadata": {},
     "output_type": "execute_result"
    }
   ],
   "source": [
    "RDD_Xy = readFile(\"../data/botnet_tot_syn_l.csv\")\n",
    "RDD_Xy.count()"
   ]
  },
  {
   "cell_type": "code",
   "execution_count": 23,
   "metadata": {
    "tags": []
   },
   "outputs": [],
   "source": [
    "RDD_Xy_normalized = normalize(RDD_Xy)"
   ]
  },
  {
   "cell_type": "code",
   "execution_count": 24,
   "metadata": {},
   "outputs": [],
   "source": [
    "RDD_Xy_presplit = RDD_Xy_normalized.map(lambda x: (x[0], x[1], 1 if random.random() < 0.75 else 0))\n",
    "train_data, test_data = trainTestSplit(RDD_Xy_presplit)"
   ]
  },
  {
   "cell_type": "markdown",
   "metadata": {},
   "source": [
    "#### Initialize some stuff before training"
   ]
  },
  {
   "cell_type": "code",
   "execution_count": 25,
   "metadata": {},
   "outputs": [],
   "source": [
    "np.random.seed(33)\n",
    "\n",
    "global b  \n",
    "b = 0\n",
    "\n",
    "global n\n",
    "n = len(RDD_Xy.take(1)[0][0])\n",
    "\n",
    "global w\n",
    "w = sc.broadcast(np.random.rand(n))"
   ]
  },
  {
   "cell_type": "markdown",
   "metadata": {},
   "source": [
    "#### Training"
   ]
  },
  {
   "cell_type": "code",
   "execution_count": 26,
   "metadata": {
    "jupyter": {
     "outputs_hidden": true
    },
    "tags": []
   },
   "outputs": [
    {
     "name": "stdout",
     "output_type": "stream",
     "text": [
      "Cost for it 0: 1.4449531970006226\n",
      "Cost for it 1: 0.736083239170125\n",
      "Cost for it 2: 0.45035464825842064\n",
      "Cost for it 3: 0.34626879593069926\n",
      "Cost for it 4: 0.29734168151745477\n",
      "Cost for it 5: 0.26988381803261\n",
      "Cost for it 6: 0.2518216159193672\n",
      "Cost for it 7: 0.2389376063162097\n",
      "Cost for it 8: 0.2292108960597853\n",
      "Cost for it 9: 0.22182164501341034\n"
     ]
    }
   ],
   "source": [
    "w_final, b = train(train_data, 10, 1.5, 0)"
   ]
  },
  {
   "cell_type": "markdown",
   "metadata": {},
   "source": [
    "#### Accuracy"
   ]
  },
  {
   "cell_type": "code",
   "execution_count": 70,
   "metadata": {},
   "outputs": [
    {
     "name": "stdout",
     "output_type": "stream",
     "text": [
      "(1, 0, 0, 0)\n"
     ]
    }
   ],
   "source": [
    "acc, tp, tn, fp, fn = accuracy(w_final, b, test_data)\n",
    "\n",
    "precision = tp/(tp+fp)\n",
    "recall = tp/(tp+fn)\n",
    "f1 = (2*precision*recall)/(precision+recall)\n",
    "total = tp+tn+fp+fn\n",
    "# print(tp/total)\n",
    "# print(tn/total)\n",
    "# print(fp/total)\n",
    "# print(fn/total)\n",
    "# print(\"____________________\")\n",
    "# print(precision)\n",
    "# print(recall)\n",
    "# print(f1)"
   ]
  },
  {
   "cell_type": "markdown",
   "metadata": {},
   "source": [
    "## Experiments"
   ]
  },
  {
   "cell_type": "code",
   "execution_count": 38,
   "metadata": {},
   "outputs": [
    {
     "name": "stdout",
     "output_type": "stream",
     "text": [
      "---------- Starting execution with 1 cores ----------\n",
      "Cost for it 0: 1.4435202880096918\n",
      "Cost for it 1: 0.7356552805180301\n",
      "Cost for it 2: 0.45015531164469985\n",
      "Cost for it 3: 0.3456708846232785\n",
      "Cost for it 4: 0.29697862064727\n",
      "Cost for it 5: 0.2695643477219923\n",
      "Cost for it 6: 0.2521515823751659\n",
      "Cost for it 7: 0.238485670267591\n",
      "Cost for it 8: 0.2291371233147315\n",
      "Cost for it 9: 0.22152240030609552\n",
      "[(1, 0, 0, 0)]\n",
      "The accuracy for the test set is: 0.929277980216554\n",
      "The accuracy for the test set is: 0.929277980216554\n",
      "The tp percentage is: 0.47250699720111955\n",
      "The tn percentage is: 0.4564254298280688\n",
      "The fp percentage is: 0.04313874450219912\n",
      "The fn percentage is: 0.027928828468612554\n",
      "The precision is: 0.916340345680544\n",
      "The recall is: 0.9441909890619132\n",
      "The f1 score is: 0.9300572166124932\n",
      "---------- Finished execution with 1 cores ----------\n",
      "Elapsed time for cores 1 is 1831.2043297290802 seconds\n",
      "---------- Starting execution with 2 cores ----------\n",
      "Cost for it 0: 1.4457456026235944\n",
      "Cost for it 1: 0.7348043514775623\n",
      "Cost for it 2: 0.4506520092021938\n",
      "Cost for it 3: 0.34572500424327934\n",
      "Cost for it 4: 0.2974505231705366\n",
      "Cost for it 5: 0.26952826596930546\n",
      "Cost for it 6: 0.2518427783784595\n",
      "Cost for it 7: 0.23866713742188\n",
      "Cost for it 8: 0.22924913912395237\n",
      "Cost for it 9: 0.22197485388935306\n",
      "[(0, 1, 0, 0)]\n",
      "The accuracy for the test set is: 0.9297498797498798\n",
      "The accuracy for the test set is: 0.9297498797498798\n",
      "The tp percentage is: 0.4702876268089139\n",
      "The tn percentage is: 0.4572278581739516\n",
      "The fp percentage is: 0.04422167217821426\n",
      "The fn percentage is: 0.02826284283892019\n",
      "The precision is: 0.9140507814625123\n",
      "The recall is: 0.9433099664736361\n",
      "The f1 score is: 0.9284499125705059\n",
      "---------- Finished execution with 2 cores ----------\n",
      "Elapsed time for cores 2 is 965.405748128891 seconds\n",
      "---------- Starting execution with 3 cores ----------\n",
      "Cost for it 0: 1.4454077852653497\n",
      "Cost for it 1: 0.7363145577912559\n",
      "Cost for it 2: 0.4504653150144539\n",
      "Cost for it 3: 0.34540005977429405\n",
      "Cost for it 4: 0.29740264934703103\n",
      "Cost for it 5: 0.26950463245915834\n",
      "Cost for it 6: 0.25177697903423557\n",
      "Cost for it 7: 0.23916598381753093\n",
      "Cost for it 8: 0.22942419340258388\n",
      "Cost for it 9: 0.22219927071755488\n",
      "[(0, 1, 0, 0)]\n",
      "The accuracy for the test set is: 0.9244377607760856\n",
      "The accuracy for the test set is: 0.9244377607760856\n",
      "The tp percentage is: 0.47157402289458716\n",
      "The tn percentage is: 0.4566701112686549\n",
      "The fp percentage is: 0.04399477702210153\n",
      "The fn percentage is: 0.02776108881465638\n",
      "The precision is: 0.9146674953387197\n",
      "The recall is: 0.9444038919682033\n",
      "The f1 score is: 0.9292978724243943\n",
      "---------- Finished execution with 3 cores ----------\n",
      "Elapsed time for cores 3 is 706.283593416214 seconds\n",
      "---------- Starting execution with 4 cores ----------\n",
      "Cost for it 0: 1.442820621914794\n",
      "Cost for it 1: 0.7361342704202676\n",
      "Cost for it 2: 0.4504666390221401\n",
      "Cost for it 3: 0.3460520171840748\n",
      "Cost for it 4: 0.2971653710653964\n",
      "Cost for it 5: 0.2698806642787035\n",
      "Cost for it 6: 0.2517312673020733\n",
      "Cost for it 7: 0.23888795936373966\n",
      "Cost for it 8: 0.22962094772046793\n",
      "Cost for it 9: 0.22146644690677134\n",
      "[(1, 0, 0, 0)]\n",
      "The accuracy for the test set is: 0.927342615665836\n",
      "The accuracy for the test set is: 0.927342615665836\n",
      "The tp percentage is: 0.47176875782534433\n",
      "The tn percentage is: 0.4556480485141346\n",
      "The fp percentage is: 0.04471396741456624\n",
      "The fn percentage is: 0.027869226245954823\n",
      "The precision is: 0.9134260155675173\n",
      "The recall is: 0.9442211618523025\n",
      "The f1 score is: 0.928568335439475\n",
      "---------- Finished execution with 4 cores ----------\n",
      "Elapsed time for cores 4 is 562.6039688587189 seconds\n",
      "---------- Starting execution with 5 cores ----------\n",
      "Cost for it 0: 1.4433451248505245\n",
      "Cost for it 1: 0.7361858934885483\n",
      "Cost for it 2: 0.4507879014843175\n",
      "Cost for it 3: 0.34525339084425555\n",
      "Cost for it 4: 0.2970058502927813\n",
      "Cost for it 5: 0.26941153614295227\n",
      "Cost for it 6: 0.25181435192507146\n",
      "Cost for it 7: 0.2385196102136857\n",
      "Cost for it 8: 0.22948803399945894\n",
      "Cost for it 9: 0.2222823789312771\n",
      "[(0, 1, 0, 0)]\n",
      "The accuracy for the test set is: 0.9292885202968136\n",
      "The accuracy for the test set is: 0.9292885202968136\n",
      "The tp percentage is: 0.4718969461374798\n",
      "The tn percentage is: 0.45618371166674665\n",
      "The fp percentage is: 0.043760298187518996\n",
      "The fn percentage is: 0.028159044008254547\n",
      "The precision is: 0.9151368497793496\n",
      "The recall is: 0.9436882177932755\n",
      "The f1 score is: 0.9291932607009405\n",
      "---------- Finished execution with 5 cores ----------\n",
      "Elapsed time for cores 5 is 505.5888659954071 seconds\n",
      "---------- Starting execution with 6 cores ----------\n",
      "Cost for it 0: 1.4449514990400845\n",
      "Cost for it 1: 0.7359115109219505\n",
      "Cost for it 2: 0.45052873134358584\n",
      "Cost for it 3: 0.34528947963935064\n",
      "Cost for it 4: 0.29720637193537564\n",
      "Cost for it 5: 0.2696417094611887\n",
      "Cost for it 6: 0.25195492889935445\n",
      "Cost for it 7: 0.23914878294604372\n",
      "Cost for it 8: 0.22922963911073393\n",
      "Cost for it 9: 0.22174626295587985\n",
      "[(0, 1, 0, 0)]\n",
      "The accuracy for the test set is: 0.9295807932324502\n",
      "The accuracy for the test set is: 0.9295807932324502\n",
      "The tp percentage is: 0.4725262416794675\n",
      "The tn percentage is: 0.455857174859191\n",
      "The fp percentage is: 0.044010816692268306\n",
      "The fn percentage is: 0.027605766769073222\n",
      "The precision is: 0.9147964004150985\n",
      "The recall is: 0.9448030393921216\n",
      "The f1 score is: 0.9295576251913232\n",
      "---------- Finished execution with 6 cores ----------\n",
      "Elapsed time for cores 6 is 498.65091252326965 seconds\n",
      "---------- Starting execution with 7 cores ----------\n",
      "Cost for it 0: 1.4427422355131796\n",
      "Cost for it 1: 0.7352898692742315\n",
      "Cost for it 2: 0.450467304133984\n",
      "Cost for it 3: 0.3456138200446346\n",
      "Cost for it 4: 0.29747026899636636\n",
      "Cost for it 5: 0.2693014730856362\n",
      "Cost for it 6: 0.25208285454426144\n",
      "Cost for it 7: 0.23852992541800003\n",
      "Cost for it 8: 0.2293306477318091\n",
      "Cost for it 9: 0.2220245357430448\n",
      "[(1, 0, 0, 0)]\n",
      "The accuracy for the test set is: 0.9255595543581389\n",
      "The accuracy for the test set is: 0.9255595543581389\n",
      "The tp percentage is: 0.47142352865669723\n",
      "The tn percentage is: 0.4559960849752904\n",
      "The fp percentage is: 0.04445719145112637\n",
      "The fn percentage is: 0.02812319491688595\n",
      "The precision is: 0.9138227312665718\n",
      "The recall is: 0.9437025735736941\n",
      "The f1 score is: 0.9285223313397224\n",
      "---------- Finished execution with 7 cores ----------\n",
      "Elapsed time for cores 7 is 501.611444234848 seconds\n",
      "---------- Starting execution with 8 cores ----------\n",
      "Cost for it 0: 1.444822318482288\n",
      "Cost for it 1: 0.7359832593100074\n",
      "Cost for it 2: 0.45034387800972087\n",
      "Cost for it 3: 0.346012107538131\n",
      "Cost for it 4: 0.2971276084910871\n",
      "Cost for it 5: 0.26958863415096784\n",
      "Cost for it 6: 0.2521182720699116\n",
      "Cost for it 7: 0.23856506963525825\n",
      "Cost for it 8: 0.22970668787657275\n",
      "Cost for it 9: 0.22141540769313772\n",
      "[(0, 1, 0, 0)]\n",
      "The accuracy for the test set is: 0.9278233999831672\n",
      "The accuracy for the test set is: 0.9278233999831672\n",
      "The tp percentage is: 0.4700854700854701\n",
      "The tn percentage is: 0.4575594744371116\n",
      "The fp percentage is: 0.04446608244076598\n",
      "The fn percentage is: 0.027888973036652363\n",
      "The precision is: 0.913582842724979\n",
      "The recall is: 0.943995171997586\n",
      "The f1 score is: 0.9285400515261963\n",
      "---------- Finished execution with 8 cores ----------\n",
      "Elapsed time for cores 8 is 398.59453678131104 seconds\n",
      "---------- Starting execution with 9 cores ----------\n",
      "Cost for it 0: 1.4440678736433563\n",
      "Cost for it 1: 0.7350887085226915\n",
      "Cost for it 2: 0.4508151898511078\n",
      "Cost for it 3: 0.34546132993092704\n",
      "Cost for it 4: 0.2972475653215932\n",
      "Cost for it 5: 0.26989235011654095\n",
      "Cost for it 6: 0.25162140747081163\n",
      "Cost for it 7: 0.23884108870671214\n",
      "Cost for it 8: 0.2293709451762245\n",
      "Cost for it 9: 0.22194178129356437\n",
      "[(0, 0, 0, 1)]\n",
      "The accuracy for the test set is: 0.9280107951868797\n",
      "The accuracy for the test set is: 0.9280107951868797\n",
      "The tp percentage is: 0.4721451023566767\n",
      "The tn percentage is: 0.45508831554257817\n",
      "The fp percentage is: 0.04474414819778852\n",
      "The fn percentage is: 0.028022433902956615\n",
      "The precision is: 0.9134357153881771\n",
      "The recall is: 0.9439739049988835\n",
      "The f1 score is: 0.9284537667471996\n",
      "---------- Finished execution with 9 cores ----------\n",
      "Elapsed time for cores 9 is 408.00764179229736 seconds\n",
      "---------- Starting execution with 10 cores ----------\n",
      "Cost for it 0: 1.443589012514409\n",
      "Cost for it 1: 0.7365503542724815\n"
     ]
    },
    {
     "name": "stdout",
     "output_type": "stream",
     "text": [
      "Cost for it 2: 0.4506816532006873\n",
      "Cost for it 3: 0.34532073985710665\n",
      "Cost for it 4: 0.2972105100532544\n",
      "Cost for it 5: 0.2691873360321746\n",
      "Cost for it 6: 0.25155942205089865\n",
      "Cost for it 7: 0.2388412838823025\n",
      "Cost for it 8: 0.2286747993624267\n",
      "Cost for it 9: 0.2218180399214867\n",
      "[(0, 1, 0, 0)]\n",
      "The accuracy for the test set is: 0.9253963556081719\n",
      "The accuracy for the test set is: 0.9253963556081719\n",
      "The tp percentage is: 0.4725696435517309\n",
      "The tn percentage is: 0.4552424642208383\n",
      "The fp percentage is: 0.044097891946731256\n",
      "The fn percentage is: 0.028090000280699502\n",
      "The precision is: 0.9146493849198649\n",
      "The recall is: 0.9438940193667753\n",
      "The f1 score is: 0.9290416164100623\n",
      "---------- Finished execution with 10 cores ----------\n",
      "Elapsed time for cores 10 is 415.4833137989044 seconds\n",
      "---------- Starting execution with 11 cores ----------\n",
      "Cost for it 0: 1.4454179711607393\n",
      "Cost for it 1: 0.7364736864538415\n",
      "Cost for it 2: 0.450753926765049\n",
      "Cost for it 3: 0.34590105733409\n",
      "Cost for it 4: 0.29706736528488403\n",
      "Cost for it 5: 0.2699640487708729\n",
      "Cost for it 6: 0.2515094049921494\n",
      "Cost for it 7: 0.23899961041106108\n",
      "Cost for it 8: 0.2295536042127087\n",
      "Cost for it 9: 0.22177005389586085\n",
      "[(0, 1, 0, 0)]\n",
      "The accuracy for the test set is: 0.9256612521596183\n",
      "The accuracy for the test set is: 0.9256612521596183\n",
      "The tp percentage is: 0.47214773427681767\n",
      "The tn percentage is: 0.45636251570917413\n",
      "The fp percentage is: 0.04386561752063205\n",
      "The fn percentage is: 0.02762413249337613\n",
      "The precision is: 0.9149913129808885\n",
      "The recall is: 0.9447265155761992\n",
      "The f1 score is: 0.9296211948084698\n",
      "---------- Finished execution with 11 cores ----------\n",
      "Elapsed time for cores 11 is 440.38226985931396 seconds\n",
      "---------- Starting execution with 12 cores ----------\n",
      "Cost for it 0: 1.4439479506423984\n",
      "Cost for it 1: 0.73660921378991\n",
      "Cost for it 2: 0.4504443326468113\n",
      "Cost for it 3: 0.345819941065896\n",
      "Cost for it 4: 0.2969400668698789\n",
      "Cost for it 5: 0.2698330019248428\n",
      "Cost for it 6: 0.25170639998782746\n",
      "Cost for it 7: 0.23902949748387942\n",
      "Cost for it 8: 0.2292624137403898\n",
      "Cost for it 9: 0.22200521678935825\n",
      "[(0, 1, 0, 0)]\n",
      "The accuracy for the test set is: 0.9307371605076581\n",
      "The accuracy for the test set is: 0.9307371605076581\n",
      "The tp percentage is: 0.47287653956369385\n",
      "The tn percentage is: 0.45553524533241807\n",
      "The fp percentage is: 0.04356675899392556\n",
      "The fn percentage is: 0.028021456109962564\n",
      "The precision is: 0.9156407700214066\n",
      "The recall is: 0.944057559918409\n",
      "The f1 score is: 0.9296320561154635\n",
      "---------- Finished execution with 12 cores ----------\n",
      "Elapsed time for cores 12 is 428.98688793182373 seconds\n"
     ]
    }
   ],
   "source": [
    "elapsed_times = {}\n",
    "\n",
    "for cores in range(1,13,1):\n",
    "    sc.stop()\n",
    "    conf = SparkConf().setAppName(\"appName\").setMaster(f\"local[{cores}]\")\n",
    "    sc = SparkContext(conf=conf)\n",
    "    \n",
    "    print(f\"---------- Starting execution with {cores} cores ----------\")\n",
    "    \n",
    "    \n",
    "    # ---------- Execution ----------\n",
    "    RDD_Xy = readFile(\"../data/botnet_tot_syn_l.csv\")\n",
    "    RDD_Xy_normalized = normalize(RDD_Xy)\n",
    "    RDD_Xy_presplit = RDD_Xy_normalized.map(lambda x: (x[0], x[1], 1 if random.random() < 0.75 else 0))\n",
    "    train_data, test_data = trainTestSplit(RDD_Xy_presplit)\n",
    "    start = time.time()\n",
    "    \n",
    "    np.random.seed(33)\n",
    "    global b  \n",
    "    b = 0\n",
    "    global n\n",
    "    n = len(RDD_Xy.take(1)[0][0])\n",
    "    global w\n",
    "    w = sc.broadcast(np.random.rand(n))\n",
    "    w_final, b = train(train_data, 10, 1.5, 0)\n",
    "    acc, tp, tn, fp, fn = accuracy(w_final, b, test_data)\n",
    "    print(f\"The accuracy for the test set is: {acc}\")\n",
    "    total = tp+tn+fp+fn\n",
    "    precision = tp/(tp+fp)\n",
    "    recall = tp/(tp+fn)\n",
    "    f1 = (2*precision*recall)/(precision+recall)\n",
    "    \n",
    "    print(f\"The accuracy for the test set is: {acc}\")\n",
    "    print(f\"The tp percentage is: {tp/total}\")\n",
    "    print(f\"The tn percentage is: {tn/total}\")\n",
    "    print(f\"The fp percentage is: {fp/total}\")\n",
    "    print(f\"The fn percentage is: {fn/total}\")\n",
    "    print(f\"The precision is: {precision}\")\n",
    "    print(f\"The recall is: {recall}\")\n",
    "    print(f\"The f1 score is: {f1}\")\n",
    "    # ---------- Execution ----------\n",
    "\n",
    "    end = time.time()\n",
    "    print(f\"---------- Finished execution with {cores} cores ----------\")\n",
    "    elapsed_time = end - start\n",
    "    elapsed_times[cores] = elapsed_time\n",
    "    print(f\"Elapsed time for cores {cores} is {elapsed_time} seconds\")"
   ]
  },
  {
   "cell_type": "code",
   "execution_count": 39,
   "metadata": {},
   "outputs": [
    {
     "data": {
      "text/plain": [
       "{1: 1831.2043297290802,\n",
       " 2: 965.405748128891,\n",
       " 3: 706.283593416214,\n",
       " 4: 562.6039688587189,\n",
       " 5: 505.5888659954071,\n",
       " 6: 498.65091252326965,\n",
       " 7: 501.611444234848,\n",
       " 8: 398.59453678131104,\n",
       " 9: 408.00764179229736,\n",
       " 10: 415.4833137989044,\n",
       " 11: 440.38226985931396,\n",
       " 12: 428.98688793182373}"
      ]
     },
     "execution_count": 39,
     "metadata": {},
     "output_type": "execute_result"
    }
   ],
   "source": [
    "elapsed_times"
   ]
  },
  {
   "cell_type": "code",
   "execution_count": null,
   "metadata": {},
   "outputs": [],
   "source": []
  }
 ],
 "metadata": {
  "kernelspec": {
   "display_name": "Python 3",
   "language": "python",
   "name": "python3"
  },
  "language_info": {
   "codemirror_mode": {
    "name": "ipython",
    "version": 3
   },
   "file_extension": ".py",
   "mimetype": "text/x-python",
   "name": "python",
   "nbconvert_exporter": "python",
   "pygments_lexer": "ipython3",
   "version": "3.7.1"
  }
 },
 "nbformat": 4,
 "nbformat_minor": 5
}
