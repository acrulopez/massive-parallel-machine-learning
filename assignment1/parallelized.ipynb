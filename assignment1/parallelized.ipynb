{
 "cells": [
  {
   "cell_type": "markdown",
   "id": "bce75053",
   "metadata": {},
   "source": [
    "# Parallelized version"
   ]
  },
  {
   "cell_type": "code",
   "execution_count": 1,
   "id": "1633eaaf",
   "metadata": {},
   "outputs": [],
   "source": [
    "import math\n",
    "import random\n",
    "import numpy as np\n",
    "np.random.seed(33)\n",
    "global b  \n",
    "b = 0"
   ]
  },
  {
   "cell_type": "markdown",
   "id": "b31ee574",
   "metadata": {},
   "source": [
    "## Initializing spark"
   ]
  },
  {
   "cell_type": "code",
   "execution_count": 2,
   "id": "0199fa68",
   "metadata": {},
   "outputs": [],
   "source": [
    "from pyspark import SparkConf, SparkContext"
   ]
  },
  {
   "cell_type": "code",
   "execution_count": 3,
   "id": "d546bb32",
   "metadata": {},
   "outputs": [
    {
     "name": "stdout",
     "output_type": "stream",
     "text": [
      "22/11/23 13:59:59 WARN Utils: Your hostname, Alexs-MacBook-Air.local resolves to a loopback address: 127.0.0.1; using 192.168.1.244 instead (on interface en0)\n",
      "22/11/23 13:59:59 WARN Utils: Set SPARK_LOCAL_IP if you need to bind to another address\n"
     ]
    },
    {
     "name": "stderr",
     "output_type": "stream",
     "text": [
      "Setting default log level to \"WARN\".\n",
      "To adjust logging level use sc.setLogLevel(newLevel). For SparkR, use setLogLevel(newLevel).\n"
     ]
    },
    {
     "name": "stdout",
     "output_type": "stream",
     "text": [
      "22/11/23 14:00:00 WARN NativeCodeLoader: Unable to load native-hadoop library for your platform... using builtin-java classes where applicable\n"
     ]
    }
   ],
   "source": [
    "conf = SparkConf().setAppName(\"appName\").setMaster(\"local\")\n",
    "sc = SparkContext()"
   ]
  },
  {
   "cell_type": "markdown",
   "id": "f921b73e",
   "metadata": {
    "tags": []
   },
   "source": [
    "## Functions"
   ]
  },
  {
   "cell_type": "markdown",
   "id": "69b92e60",
   "metadata": {},
   "source": [
    "### Auxiliar functions"
   ]
  },
  {
   "cell_type": "code",
   "execution_count": 4,
   "id": "4cd654e9",
   "metadata": {},
   "outputs": [],
   "source": [
    "def trainTestSplit(dataset):\n",
    "    train = dataset.filter(lambda x: x[2]==1)\n",
    "    train = train.map(lambda x: (x[0], x[1]))\n",
    "    test = dataset.filter(lambda x: x[2]==0)\n",
    "    test = test.map(lambda x: (x[0], x[1]))\n",
    "    return (train, test)"
   ]
  },
  {
   "cell_type": "code",
   "execution_count": 5,
   "id": "9cf19ca7",
   "metadata": {},
   "outputs": [],
   "source": [
    "def sigmoid(x):\n",
    "    return 1 / (1 + math.exp(-x))"
   ]
  },
  {
   "cell_type": "code",
   "execution_count": 6,
   "id": "a03562a0",
   "metadata": {},
   "outputs": [],
   "source": [
    "def rdd_cost_function(RDD_Xyyhat, lambda_ref, m, w):\n",
    "    y = RDD_Xyyhat[1]\n",
    "    y_hat = RDD_Xyyhat[2]\n",
    "    temp = (-1/m) * (\n",
    "        y * np.log(y_hat) + (1 - y)\n",
    "        * np.log(1 - y_hat)\n",
    "    )\n",
    "    cost = temp + (lambda_ref/(2*m))*sum([i*i for i in w.value])\n",
    "    return cost"
   ]
  },
  {
   "cell_type": "code",
   "execution_count": 7,
   "id": "ee6112e6",
   "metadata": {},
   "outputs": [],
   "source": [
    "def str_to_number_list(line):\n",
    "    numbers = line.replace(\" \",\"\").split(\",\")\n",
    "    numbers = [float(number) for number in numbers]\n",
    "    \n",
    "    # Separate X and y\n",
    "    numbers = (numbers[:-1], numbers[-1])\n",
    "    \n",
    "    return numbers"
   ]
  },
  {
   "cell_type": "code",
   "execution_count": 8,
   "id": "4da1f650",
   "metadata": {},
   "outputs": [],
   "source": [
    "def sum_list_values(list1, list2):\n",
    "    return [n1 + n2 for n1, n2 in zip(list1, list2)]"
   ]
  },
  {
   "cell_type": "code",
   "execution_count": 9,
   "id": "3f044dd2",
   "metadata": {},
   "outputs": [],
   "source": [
    "def sum_minus_mean_squared(numbers):\n",
    "    return [(number-means.value[x])**2 for x,number in enumerate(numbers)]"
   ]
  },
  {
   "cell_type": "code",
   "execution_count": 10,
   "id": "b09d07f4",
   "metadata": {},
   "outputs": [],
   "source": [
    "def rdd_mean_by_column(RDD_Xy, m):\n",
    "    means = RDD_Xy.map(lambda x: x[0]).reduce(sum_list_values)\n",
    "    means = [x/m for x in means]\n",
    "    return means"
   ]
  },
  {
   "cell_type": "code",
   "execution_count": 11,
   "id": "ed7ed193",
   "metadata": {},
   "outputs": [],
   "source": [
    "def rdd_mean_by_column(RDD_Xy, m):\n",
    "    means = RDD_Xy.map(lambda x: x[0]).reduce(sum_list_values)\n",
    "    means = [x/m for x in means]\n",
    "    return means"
   ]
  },
  {
   "cell_type": "code",
   "execution_count": 12,
   "id": "14f0123a",
   "metadata": {},
   "outputs": [],
   "source": [
    "def rdd_std_by_column(RDD_Xy, m):\n",
    "    stds = RDD_Xy.map(lambda x: x[0]).map(sum_minus_mean_squared).reduce(sum_list_values)\n",
    "    stds = [math.sqrt(x/m) for x in stds]\n",
    "    return stds"
   ]
  },
  {
   "cell_type": "code",
   "execution_count": 13,
   "id": "c30e2655",
   "metadata": {},
   "outputs": [],
   "source": [
    "def multiply_RDDXy_by_w(Xy):\n",
    "    tot = 0\n",
    "    for xi, wi in zip(Xy[0], w.value):\n",
    "        tot += xi * wi\n",
    "    return (Xy[0], Xy[1], sigmoid(tot))"
   ]
  },
  {
   "cell_type": "code",
   "execution_count": 14,
   "id": "f3e22caf",
   "metadata": {},
   "outputs": [],
   "source": [
    "def calculate_dw(RDD_Xyyhat):\n",
    "    dw = []\n",
    "    for x in RDD_Xyyhat[0]:\n",
    "        dw.append((RDD_Xyyhat[1]-RDD_Xyyhat[2])*x)\n",
    "    return dw"
   ]
  },
  {
   "cell_type": "markdown",
   "id": "32830201",
   "metadata": {},
   "source": [
    "### Mandatory functions"
   ]
  },
  {
   "cell_type": "code",
   "execution_count": 15,
   "id": "c48aa270",
   "metadata": {},
   "outputs": [],
   "source": [
    "def readFile(filename):\n",
    "    dataset = sc.textFile(filename)\n",
    "    dataset = dataset.map(str_to_number_list)\n",
    "    return dataset.sample(False, 0.01)"
   ]
  },
  {
   "cell_type": "code",
   "execution_count": 16,
   "id": "71d8304c",
   "metadata": {},
   "outputs": [],
   "source": [
    "def normalize(RDD_Xy):\n",
    "    m = RDD_Xy.count()\n",
    "    global means\n",
    "    means = sc.broadcast(rdd_mean_by_column(RDD_Xy, m))\n",
    "    stds = sc.broadcast(rdd_std_by_column(RDD_Xy, m))\n",
    "    norm_rdd = RDD_Xy.map(lambda values: ([(x - mean) / std for x, mean, std in zip(values[0], means.value, stds.value)], values[1]))\n",
    "    return norm_rdd"
   ]
  },
  {
   "cell_type": "code",
   "execution_count": 17,
   "id": "0ad7c000",
   "metadata": {},
   "outputs": [],
   "source": [
    "def train(RDD_Xy, iterations, learning_rate, lambda_reg):\n",
    "    global b\n",
    "    global m\n",
    "    m = RDD_Xy.count()\n",
    "    n = len(RDD_Xy.take(1)[0])\n",
    "    \n",
    "    global w\n",
    "    w = sc.broadcast(np.random.rand(n))\n",
    "    \n",
    "    \n",
    "    for it in range(iterations):\n",
    "        RDD_Xyyhat = RDD_Xy.map(multiply_RDDXy_by_w)\n",
    "        print(f\"Cost for it {it}:\", RDD_Xyyhat.map(lambda x: rdd_cost_function(x, lambda_reg, m, w)).reduce(lambda x,y: x+y))\n",
    "        print(f\"Accuracy for it {it}:{accuracy(w, b, RDD_Xy)}\")\n",
    "        dw = RDD_Xyyhat.map(calculate_dw).reduce(lambda x, y: [xi+yi for xi, yi in zip(x, y)])        \n",
    "        dw_final = []\n",
    "        for dwi, wi in zip(dw, w.value):\n",
    "            dw_final.append( ((dwi+(lambda_reg*wi))/m) )\n",
    "        w = sc.broadcast([wi - (learning_rate * dwi) for wi, dwi in zip(w.value, dw_final)])\n",
    "        \n",
    "        b -= learning_rate * (1/m)*RDD_Xyyhat.map(lambda x: x[1]-x[2]).sum()\n",
    "    \n",
    "    return w, b\n"
   ]
  },
  {
   "cell_type": "code",
   "execution_count": 18,
   "id": "2cd0a926",
   "metadata": {},
   "outputs": [],
   "source": [
    "def accuracy(ws, b, RDD_Xy):\n",
    "    total = RDD_Xy.count()\n",
    "    y_and_y_hat = RDD_Xy.map(lambda x: (x[1], predict(ws, x[0], b)))\n",
    "    correct = y_and_y_hat.map(lambda x: 1 if x[0]==x[1] else 0).reduce(lambda x, y: x+y)\n",
    "    return correct/total"
   ]
  },
  {
   "cell_type": "code",
   "execution_count": 19,
   "id": "b34f2e83",
   "metadata": {},
   "outputs": [],
   "source": [
    "def predict(w, X, b):\n",
    "    tot = 0\n",
    "    for xi, wi in zip(X, w.value):\n",
    "        tot += xi * wi\n",
    "    tot += b\n",
    "    val = sigmoid(tot)\n",
    "    if (val>=0.5):\n",
    "        return 1.0\n",
    "    return 0.0"
   ]
  },
  {
   "cell_type": "markdown",
   "id": "a5eea3e9",
   "metadata": {},
   "source": [
    "## Testing"
   ]
  },
  {
   "cell_type": "code",
   "execution_count": 20,
   "id": "16535735",
   "metadata": {},
   "outputs": [
    {
     "name": "stderr",
     "output_type": "stream",
     "text": [
      "                                                                                \r"
     ]
    },
    {
     "data": {
      "text/plain": [
       "10011"
      ]
     },
     "execution_count": 20,
     "metadata": {},
     "output_type": "execute_result"
    }
   ],
   "source": [
    "RDD_Xy = readFile(\"../data/botnet_tot_syn_l.csv\")\n",
    "RDD_Xy.count()"
   ]
  },
  {
   "cell_type": "code",
   "execution_count": 21,
   "id": "fa4468ac",
   "metadata": {
    "tags": []
   },
   "outputs": [
    {
     "name": "stderr",
     "output_type": "stream",
     "text": [
      "                                                                                \r"
     ]
    }
   ],
   "source": [
    "RDD_Xy_normalized = normalize(RDD_Xy)"
   ]
  },
  {
   "cell_type": "code",
   "execution_count": 22,
   "id": "4cb6a703",
   "metadata": {},
   "outputs": [
    {
     "name": "stdout",
     "output_type": "stream",
     "text": [
      "train_data\n"
     ]
    },
    {
     "name": "stderr",
     "output_type": "stream",
     "text": [
      "                                                                                \r"
     ]
    },
    {
     "name": "stdout",
     "output_type": "stream",
     "text": [
      "7523\n",
      "test_data\n"
     ]
    },
    {
     "name": "stderr",
     "output_type": "stream",
     "text": [
      "[Stage 5:>                                                          (0 + 8) / 9]\r"
     ]
    },
    {
     "name": "stdout",
     "output_type": "stream",
     "text": [
      "2518\n"
     ]
    },
    {
     "name": "stderr",
     "output_type": "stream",
     "text": [
      "                                                                                \r"
     ]
    }
   ],
   "source": [
    "RDD_Xy_presplit = RDD_Xy_normalized.map(lambda x: (x[0], x[1], 1 if random.random() < 0.75 else 0))\n",
    "train_data, test_data = trainTestSplit(RDD_Xy_presplit)\n",
    "print(\"train_data\")\n",
    "print(train_data.count())\n",
    "print(\"test_data\")\n",
    "print(test_data.count())"
   ]
  },
  {
   "cell_type": "code",
   "execution_count": null,
   "id": "bab6cc0d",
   "metadata": {},
   "outputs": [
    {
     "name": "stderr",
     "output_type": "stream",
     "text": [
      "                                                                                \r"
     ]
    },
    {
     "name": "stdout",
     "output_type": "stream",
     "text": [
      "Cost for it 0: 0.8263480397941587\n"
     ]
    },
    {
     "name": "stderr",
     "output_type": "stream",
     "text": [
      "                                                                                \r"
     ]
    },
    {
     "name": "stdout",
     "output_type": "stream",
     "text": [
      "Accuracy for it 0:0.3071608874717683\n"
     ]
    },
    {
     "name": "stderr",
     "output_type": "stream",
     "text": [
      "                                                                                \r"
     ]
    },
    {
     "name": "stdout",
     "output_type": "stream",
     "text": [
      "Cost for it 1: 0.850277644442121\n"
     ]
    },
    {
     "name": "stderr",
     "output_type": "stream",
     "text": [
      "                                                                                \r"
     ]
    },
    {
     "name": "stdout",
     "output_type": "stream",
     "text": [
      "Accuracy for it 1:0.30947905477980664\n"
     ]
    },
    {
     "name": "stderr",
     "output_type": "stream",
     "text": [
      "                                                                                \r"
     ]
    },
    {
     "name": "stdout",
     "output_type": "stream",
     "text": [
      "Cost for it 2: 0.846372993257511\n"
     ]
    },
    {
     "name": "stderr",
     "output_type": "stream",
     "text": [
      "                                                                                \r"
     ]
    },
    {
     "name": "stdout",
     "output_type": "stream",
     "text": [
      "Accuracy for it 2:0.310317248733671\n"
     ]
    },
    {
     "name": "stderr",
     "output_type": "stream",
     "text": [
      "                                                                                \r"
     ]
    },
    {
     "name": "stdout",
     "output_type": "stream",
     "text": [
      "Cost for it 3: 0.8678033759677501\n"
     ]
    },
    {
     "name": "stderr",
     "output_type": "stream",
     "text": [
      "                                                                                \r"
     ]
    },
    {
     "name": "stdout",
     "output_type": "stream",
     "text": [
      "Accuracy for it 3:0.3033453285352526\n"
     ]
    },
    {
     "name": "stderr",
     "output_type": "stream",
     "text": [
      "                                                                                \r"
     ]
    },
    {
     "name": "stdout",
     "output_type": "stream",
     "text": [
      "Cost for it 4: 0.8811189188073439\n"
     ]
    },
    {
     "name": "stderr",
     "output_type": "stream",
     "text": [
      "[Stage 30:>                                                         (0 + 8) / 9]\r"
     ]
    }
   ],
   "source": [
    "w_final, b = train(train_data, 5, 0.1, 0.01)\n",
    "b"
   ]
  },
  {
   "cell_type": "code",
   "execution_count": null,
   "id": "4dea22fd",
   "metadata": {},
   "outputs": [],
   "source": [
    "acc = accuracy(w_final, b, test_data)\n",
    "acc"
   ]
  },
  {
   "cell_type": "code",
   "execution_count": null,
   "id": "f839f569",
   "metadata": {},
   "outputs": [],
   "source": [
    "acc_train = accuracy(w_final, b, train_data)\n",
    "acc_train"
   ]
  },
  {
   "cell_type": "code",
   "execution_count": null,
   "id": "6dffa5c6-123b-43f8-a495-7e6fd2646b22",
   "metadata": {},
   "outputs": [],
   "source": []
  }
 ],
 "metadata": {
  "kernelspec": {
   "display_name": "Python 3 (ipykernel)",
   "language": "python",
   "name": "python3"
  },
  "language_info": {
   "codemirror_mode": {
    "name": "ipython",
    "version": 3
   },
   "file_extension": ".py",
   "mimetype": "text/x-python",
   "name": "python",
   "nbconvert_exporter": "python",
   "pygments_lexer": "ipython3",
   "version": "3.7.10"
  }
 },
 "nbformat": 4,
 "nbformat_minor": 5
}
