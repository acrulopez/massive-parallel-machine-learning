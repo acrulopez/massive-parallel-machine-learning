{
 "cells": [
  {
   "cell_type": "markdown",
   "metadata": {},
   "source": [
    "# Parallelized version"
   ]
  },
  {
   "cell_type": "code",
   "execution_count": 2,
   "metadata": {},
   "outputs": [],
   "source": [
    "import math\n",
    "import random\n",
    "import numpy as np\n",
    "import time\n",
    "import sklearn.metrics as metrics"
   ]
  },
  {
   "cell_type": "markdown",
   "metadata": {},
   "source": [
    "## Initializing spark"
   ]
  },
  {
   "cell_type": "code",
   "execution_count": 3,
   "metadata": {},
   "outputs": [],
   "source": [
    "from pyspark import SparkConf, SparkContext"
   ]
  },
  {
   "cell_type": "code",
   "execution_count": 4,
   "metadata": {},
   "outputs": [],
   "source": [
    "conf = SparkConf().setAppName(\"appName\").setMaster(\"local[*]\")\n",
    "sc = SparkContext(conf=conf)"
   ]
  },
  {
   "cell_type": "code",
   "execution_count": 5,
   "metadata": {},
   "outputs": [
    {
     "data": {
      "text/plain": [
       "[('spark.app.id', 'local-1671131389649'),\n",
       " ('spark.app.name', 'appName'),\n",
       " ('spark.rdd.compress', 'True'),\n",
       " ('spark.serializer.objectStreamReset', '100'),\n",
       " ('spark.master', 'local[*]'),\n",
       " ('spark.executor.id', 'driver'),\n",
       " ('spark.submit.deployMode', 'client'),\n",
       " ('spark.driver.host', '10.0.2.15'),\n",
       " ('spark.driver.port', '40751'),\n",
       " ('spark.ui.showConsoleProgress', 'true')]"
      ]
     },
     "execution_count": 5,
     "metadata": {},
     "output_type": "execute_result"
    }
   ],
   "source": [
    "sc.getConf().getAll()"
   ]
  },
  {
   "cell_type": "markdown",
   "metadata": {
    "tags": []
   },
   "source": [
    "## Functions"
   ]
  },
  {
   "cell_type": "markdown",
   "metadata": {},
   "source": [
    "### Auxiliar functions"
   ]
  },
  {
   "cell_type": "code",
   "execution_count": 6,
   "metadata": {},
   "outputs": [],
   "source": [
    "def trainTestSplit(dataset):\n",
    "    train = dataset.filter(lambda x: x[2]==1)\n",
    "    train = train.map(lambda x: (x[0], x[1]))\n",
    "    test = dataset.filter(lambda x: x[2]==0)\n",
    "    test = test.map(lambda x: (x[0], x[1]))\n",
    "    return (train, test)"
   ]
  },
  {
   "cell_type": "code",
   "execution_count": 7,
   "metadata": {},
   "outputs": [],
   "source": [
    "def sigmoid(x):\n",
    "    return 1 / (1 + math.exp(-x))"
   ]
  },
  {
   "cell_type": "code",
   "execution_count": 8,
   "metadata": {},
   "outputs": [],
   "source": [
    "def rdd_cost_function(RDD_Xyyhat, lambda_ref, m, w):\n",
    "    y = RDD_Xyyhat[1]\n",
    "    y_hat = RDD_Xyyhat[2]\n",
    "    temp = (-1/m) * (\n",
    "        y * np.log(y_hat) + (1 - y)\n",
    "        * np.log(1 - y_hat)\n",
    "    )\n",
    "    cost = temp + (lambda_ref/(2*m))*sum([i*i for i in w.value])\n",
    "    return cost"
   ]
  },
  {
   "cell_type": "code",
   "execution_count": 9,
   "metadata": {},
   "outputs": [],
   "source": [
    "def str_to_number_list(line):\n",
    "    numbers = line.replace(\" \",\"\").split(\",\")\n",
    "    numbers = [float(number) for number in numbers]\n",
    "    \n",
    "    # Separate X and y\n",
    "    numbers = (numbers[:-1], numbers[-1])\n",
    "    \n",
    "    return numbers"
   ]
  },
  {
   "cell_type": "code",
   "execution_count": 10,
   "metadata": {},
   "outputs": [],
   "source": [
    "def sum_list_values(list1, list2):\n",
    "    return [n1 + n2 for n1, n2 in zip(list1, list2)]"
   ]
  },
  {
   "cell_type": "code",
   "execution_count": 11,
   "metadata": {},
   "outputs": [],
   "source": [
    "def sum_minus_mean_squared(numbers):\n",
    "    return [(number-means.value[x])**2 for x,number in enumerate(numbers)]"
   ]
  },
  {
   "cell_type": "code",
   "execution_count": 12,
   "metadata": {},
   "outputs": [],
   "source": [
    "def rdd_mean_by_column(RDD_Xy, m):\n",
    "    means = RDD_Xy.map(lambda x: x[0]).reduce(sum_list_values)\n",
    "    means = [x/m for x in means]\n",
    "    return means"
   ]
  },
  {
   "cell_type": "code",
   "execution_count": 13,
   "metadata": {},
   "outputs": [],
   "source": [
    "def rdd_mean_by_column(RDD_Xy, m):\n",
    "    means = RDD_Xy.map(lambda x: x[0]).reduce(sum_list_values)\n",
    "    means = [x/m for x in means]\n",
    "    return means"
   ]
  },
  {
   "cell_type": "code",
   "execution_count": 14,
   "metadata": {},
   "outputs": [],
   "source": [
    "def rdd_std_by_column(RDD_Xy, m):\n",
    "    stds = RDD_Xy.map(lambda x: x[0]).map(sum_minus_mean_squared).reduce(sum_list_values)\n",
    "    stds = [math.sqrt(x/m) for x in stds]\n",
    "    return stds"
   ]
  },
  {
   "cell_type": "code",
   "execution_count": 15,
   "metadata": {},
   "outputs": [],
   "source": [
    "def multiply_RDDXy_by_w(Xy):\n",
    "    global b\n",
    "    tot = 0\n",
    "    for xi, wi in zip(Xy[0], w.value):\n",
    "        tot += xi * wi\n",
    "    tot += b\n",
    "    return (Xy[0], Xy[1], sigmoid(tot))"
   ]
  },
  {
   "cell_type": "code",
   "execution_count": 16,
   "metadata": {},
   "outputs": [],
   "source": [
    "def calculate_dw(RDD_Xyyhat):\n",
    "    dw = []\n",
    "    for x in RDD_Xyyhat[0]:\n",
    "        dw.append((RDD_Xyyhat[2]-RDD_Xyyhat[1])*x)\n",
    "    return dw"
   ]
  },
  {
   "cell_type": "markdown",
   "metadata": {},
   "source": [
    "### Mandatory functions"
   ]
  },
  {
   "cell_type": "code",
   "execution_count": 17,
   "metadata": {},
   "outputs": [],
   "source": [
    "def readFile(filename):\n",
    "    dataset = sc.textFile(filename)\n",
    "    dataset = dataset.map(str_to_number_list)\n",
    "    return dataset.sample(False, 1)"
   ]
  },
  {
   "cell_type": "code",
   "execution_count": 18,
   "metadata": {},
   "outputs": [],
   "source": [
    "def normalize(RDD_Xy):\n",
    "    m = RDD_Xy.count()\n",
    "    global means\n",
    "    means = sc.broadcast(rdd_mean_by_column(RDD_Xy, m))\n",
    "    stds = sc.broadcast(rdd_std_by_column(RDD_Xy, m))\n",
    "    norm_rdd = RDD_Xy.map(lambda values: ([(x - mean) / std for x, mean, std in zip(values[0], means.value, stds.value)], values[1]))\n",
    "    return norm_rdd"
   ]
  },
  {
   "cell_type": "code",
   "execution_count": 19,
   "metadata": {},
   "outputs": [],
   "source": [
    "def train(RDD_Xy, iterations, learning_rate, lambda_reg):\n",
    "    global b\n",
    "    global m\n",
    "    m = RDD_Xy.count()\n",
    "    n = len(RDD_Xy.take(1)[0][0])\n",
    "    global w\n",
    "    w_temp = w.value.copy()\n",
    "    for it in range(iterations):\n",
    "        RDD_Xyyhat = RDD_Xy.map(multiply_RDDXy_by_w)\n",
    "        print(f\"Cost for it {it}:\", RDD_Xyyhat.map(lambda x: rdd_cost_function(x, lambda_reg, m, w)).reduce(lambda x,y: x+y))\n",
    "        dw=[0 for i in range(0,n)]\n",
    "        for cl in range(n):\n",
    "                X_cl = RDD_Xyyhat.map(lambda x: (x[2]-x[1])*x[0][cl]).reduce(lambda x, y: x+y)\n",
    "                dw[cl] = (1/m)*(X_cl)+(lambda_reg/m)*w_temp[cl]\n",
    "                w_temp[cl] -= learning_rate * dw[cl]\n",
    "        w = sc.broadcast(w_temp)\n",
    "        db = (1/m)*RDD_Xyyhat.map(lambda x: x[2]-x[1]).reduce(lambda x, y: x+y)\n",
    "        b -= learning_rate * db\n",
    "    return w, b"
   ]
  },
  {
   "cell_type": "code",
   "execution_count": 20,
   "metadata": {},
   "outputs": [],
   "source": [
    "def checkPrediction(y, y_hat):\n",
    "    if (y == y_hat and y_hat==0):\n",
    "        return (0, 1, 0, 0)\n",
    "    if (y == y_hat and y_hat==1):\n",
    "        return (1, 0, 0, 0)\n",
    "    if (y != y_hat and y_hat==1):\n",
    "        return (0, 0, 1, 0)\n",
    "    if (y != y_hat and y_hat==0):\n",
    "        return (0,0,0,1)"
   ]
  },
  {
   "cell_type": "code",
   "execution_count": 21,
   "metadata": {},
   "outputs": [],
   "source": [
    "def metrics(ws, b, RDD_Xy, treshold=0.5):\n",
    "    total = RDD_Xy.count()\n",
    "    y_and_y_hat = RDD_Xy.map(lambda x: (x[1], predict_with_teshold(ws, x[0], b, treshold)))\n",
    "    result = y_and_y_hat.map(lambda x: checkPrediction(x[0], x[1]))\n",
    "    \n",
    "    tp = result.map(lambda x: x[0]).reduce(lambda x,y: x+y)\n",
    "    tn = result.map(lambda x: x[1]).reduce(lambda x,y: x+y)\n",
    "    fp = result.map(lambda x: x[2]).reduce(lambda x,y: x+y)\n",
    "    fn = result.map(lambda x: x[3]).reduce(lambda x,y: x+y)\n",
    "    acc = (tp+tn)/total\n",
    "    \n",
    "    tpr = tp/(tp+fn)\n",
    "    fpr = fp/(fp+tn)\n",
    "    \n",
    "    return acc, tp, tn, fp, fn, tpr, fpr"
   ]
  },
  {
   "cell_type": "code",
   "execution_count": 22,
   "metadata": {},
   "outputs": [],
   "source": [
    "def accuracy(ws, b, RDD_Xy):\n",
    "    total = RDD_Xy.count()\n",
    "    y_and_y_hat = RDD_Xy.map(lambda x: (x[1], predict(ws, x[0], b)))\n",
    "    result = y_and_y_hat.map(lambda x: checkPrediction(x[0], x[1]))\n",
    "    tp = result.map(lambda x: x[0]).reduce(lambda x,y: x+y)\n",
    "    tn = result.map(lambda x: x[1]).reduce(lambda x,y: x+y)\n",
    "    fp = result.map(lambda x: x[2]).reduce(lambda x,y: x+y)\n",
    "    fn = result.map(lambda x: x[3]).reduce(lambda x,y: x+y)\n",
    "    acc = (tp+tn)/total\n",
    "    return acc"
   ]
  },
  {
   "cell_type": "code",
   "execution_count": 23,
   "metadata": {},
   "outputs": [],
   "source": [
    "def predict(w, X, b):\n",
    "    tot = 0\n",
    "    for xi, wi in zip(X, w.value):\n",
    "        tot += xi * wi\n",
    "    tot += b\n",
    "    val = sigmoid(tot)\n",
    "    if (val>=0.5):\n",
    "        return 1.0\n",
    "    return 0.0"
   ]
  },
  {
   "cell_type": "code",
   "execution_count": 24,
   "metadata": {},
   "outputs": [],
   "source": [
    "def predict_with_teshold(w, X, b, tresh):\n",
    "    tot = 0\n",
    "    for xi, wi in zip(X, w.value):\n",
    "        tot += xi * wi\n",
    "    tot += b\n",
    "    val = sigmoid(tot)\n",
    "    if (val>=tresh):\n",
    "        return 1.0\n",
    "    return 0.0"
   ]
  },
  {
   "cell_type": "markdown",
   "metadata": {},
   "source": [
    "## Testing"
   ]
  },
  {
   "cell_type": "code",
   "execution_count": 25,
   "metadata": {},
   "outputs": [
    {
     "data": {
      "text/plain": [
       "1000000"
      ]
     },
     "execution_count": 25,
     "metadata": {},
     "output_type": "execute_result"
    }
   ],
   "source": [
    "RDD_Xy = readFile(\"../data/botnet_tot_syn_l.csv\")\n",
    "RDD_Xy.count()"
   ]
  },
  {
   "cell_type": "code",
   "execution_count": 26,
   "metadata": {
    "tags": []
   },
   "outputs": [],
   "source": [
    "RDD_Xy_normalized = normalize(RDD_Xy)"
   ]
  },
  {
   "cell_type": "code",
   "execution_count": 27,
   "metadata": {},
   "outputs": [],
   "source": [
    "RDD_Xy_presplit = RDD_Xy_normalized.map(lambda x: (x[0], x[1], 1 if random.random() < 0.75 else 0))\n",
    "train_data, test_data = trainTestSplit(RDD_Xy_presplit)"
   ]
  },
  {
   "cell_type": "markdown",
   "metadata": {},
   "source": [
    "#### Initialize some stuff before training"
   ]
  },
  {
   "cell_type": "code",
   "execution_count": 28,
   "metadata": {},
   "outputs": [],
   "source": [
    "np.random.seed(33)\n",
    "\n",
    "global b  \n",
    "b = 0\n",
    "\n",
    "global n\n",
    "n = len(RDD_Xy.take(1)[0][0])\n",
    "\n",
    "global w\n",
    "w = sc.broadcast(np.random.rand(n))"
   ]
  },
  {
   "cell_type": "markdown",
   "metadata": {},
   "source": [
    "#### Training"
   ]
  },
  {
   "cell_type": "code",
   "execution_count": 29,
   "metadata": {
    "jupyter": {
     "outputs_hidden": true
    },
    "tags": []
   },
   "outputs": [
    {
     "name": "stdout",
     "output_type": "stream",
     "text": [
      "Cost for it 0: 1.4437574320575264\n",
      "Cost for it 1: 0.7363756795746913\n",
      "Cost for it 2: 0.45069962013729137\n",
      "Cost for it 3: 0.3459850526977412\n",
      "Cost for it 4: 0.29716128878021786\n",
      "Cost for it 5: 0.2700473828360465\n",
      "Cost for it 6: 0.2514499034307337\n",
      "Cost for it 7: 0.23886534610202373\n",
      "Cost for it 8: 0.2295874836432782\n",
      "Cost for it 9: 0.2217807106242988\n"
     ]
    }
   ],
   "source": [
    "w_final, b = train(train_data, 10, 1.5, 0)"
   ]
  },
  {
   "cell_type": "markdown",
   "metadata": {},
   "source": [
    "#### Accuracy"
   ]
  },
  {
   "cell_type": "code",
   "execution_count": 30,
   "metadata": {},
   "outputs": [
    {
     "data": {
      "text/plain": [
       "0.9267038268023796"
      ]
     },
     "execution_count": 30,
     "metadata": {},
     "output_type": "execute_result"
    }
   ],
   "source": [
    "acc = accuracy(w_final, b, test_data)\n",
    "acc"
   ]
  },
  {
   "cell_type": "code",
   "execution_count": 35,
   "metadata": {},
   "outputs": [],
   "source": [
    "# experiment to get the different datapoints for roc and precision-recall curve\n",
    "# treshold = 0.00\n",
    "# x = []\n",
    "# y = []\n",
    "# while treshold <= 1:\n",
    "#     acc, tp, tn, fp, fn, tpr, fpr = metrics(w_final, b, test_data, treshold)\n",
    "#     precision = tp/(tp+fp)\n",
    "#     recall = tp/(tp+fn)\n",
    "#     x.append(precision)\n",
    "#     y.append(recall)\n",
    "#     treshold += 0.01"
   ]
  },
  {
   "cell_type": "markdown",
   "metadata": {},
   "source": [
    "## Experiments"
   ]
  },
  {
   "cell_type": "code",
   "execution_count": 36,
   "metadata": {},
   "outputs": [
    {
     "name": "stdout",
     "output_type": "stream",
     "text": [
      "---------- Starting execution with 1 cores ----------\n",
      "Cost for it 0: 1.4444992469992146\n",
      "Cost for it 1: 0.7367831672926854\n",
      "Cost for it 2: 0.4508677978384475\n",
      "Cost for it 3: 0.3457035964892895\n",
      "Cost for it 4: 0.29695737811338846\n",
      "Cost for it 5: 0.2693352131372768\n",
      "Cost for it 6: 0.25231691777626386\n",
      "Cost for it 7: 0.2393206230899147\n",
      "Cost for it 8: 0.2295978400480014\n",
      "Cost for it 9: 0.22154720316480497\n",
      "The accuracy for the test set is: 0.9288507208482261\n",
      "The accuracy for the test set is: 0.9288507208482261\n",
      "The tp percentage is: 0.02336176851595619\n",
      "The tn percentage is: 0.5006958398004323\n",
      "The fp percentage is: 6.416966459318437e-05\n",
      "The fn percentage is: 0.4758782220190183\n",
      "The precision is: 0.9972607430234549\n",
      "The recall is: 0.04679466580976864\n",
      "The f1 score is: 0.08939464859846073\n",
      "---------- Finished execution with 1 cores ----------\n",
      "Elapsed time for cores 1 is 1812.720507144928 seconds\n",
      "---------- Starting execution with 2 cores ----------\n",
      "Cost for it 0: 1.445560858102925\n",
      "Cost for it 1: 0.7377505275073233\n",
      "Cost for it 2: 0.45057431272693765\n",
      "Cost for it 3: 0.3456574098718181\n",
      "Cost for it 4: 0.2970849907714128\n",
      "Cost for it 5: 0.26968748930915226\n",
      "Cost for it 6: 0.25190417687200894\n",
      "Cost for it 7: 0.23910263423421457\n",
      "Cost for it 8: 0.22930065921528472\n",
      "Cost for it 9: 0.22194225890117716\n",
      "The accuracy for the test set is: 0.9306509558272822\n",
      "The accuracy for the test set is: 0.9306509558272822\n",
      "The tp percentage is: 0.02336176851595619\n",
      "The tn percentage is: 0.5006958398004323\n",
      "The fp percentage is: 6.416966459318437e-05\n",
      "The fn percentage is: 0.4758782220190183\n",
      "The precision is: 0.9972607430234549\n",
      "The recall is: 0.04679466580976864\n",
      "The f1 score is: 0.08939464859846073\n",
      "---------- Finished execution with 2 cores ----------\n",
      "Elapsed time for cores 2 is 938.6837751865387 seconds\n",
      "---------- Starting execution with 3 cores ----------\n",
      "Cost for it 0: 1.4453797802762516\n",
      "Cost for it 1: 0.736477018744936\n",
      "Cost for it 2: 0.45055833240110726\n",
      "Cost for it 3: 0.3458802538999641\n",
      "Cost for it 4: 0.2974625617627322\n",
      "Cost for it 5: 0.27014888518382557\n",
      "Cost for it 6: 0.2519967142643712\n",
      "Cost for it 7: 0.2393191831283537\n",
      "Cost for it 8: 0.22971963443991258\n",
      "Cost for it 9: 0.2214794933524761\n",
      "The accuracy for the test set is: 0.930554555419537\n",
      "The accuracy for the test set is: 0.930554555419537\n",
      "The tp percentage is: 0.02336176851595619\n",
      "The tn percentage is: 0.5006958398004323\n",
      "The fp percentage is: 6.416966459318437e-05\n",
      "The fn percentage is: 0.4758782220190183\n",
      "The precision is: 0.9972607430234549\n",
      "The recall is: 0.04679466580976864\n",
      "The f1 score is: 0.08939464859846073\n",
      "---------- Finished execution with 3 cores ----------\n",
      "Elapsed time for cores 3 is 660.2266867160797 seconds\n",
      "---------- Starting execution with 4 cores ----------\n",
      "Cost for it 0: 1.4449037856511182\n",
      "Cost for it 1: 0.7361831698743257\n",
      "Cost for it 2: 0.44981545917266663\n",
      "Cost for it 3: 0.34576708662686784\n",
      "Cost for it 4: 0.29670910192484534\n",
      "Cost for it 5: 0.26938017105357076\n",
      "Cost for it 6: 0.25127195821794424\n",
      "Cost for it 7: 0.2388813011200669\n",
      "Cost for it 8: 0.22933265199388492\n",
      "Cost for it 9: 0.22193886025700715\n",
      "The accuracy for the test set is: 0.9298838741723181\n",
      "The accuracy for the test set is: 0.9298838741723181\n",
      "The tp percentage is: 0.02336176851595619\n",
      "The tn percentage is: 0.5006958398004323\n",
      "The fp percentage is: 6.416966459318437e-05\n",
      "The fn percentage is: 0.4758782220190183\n",
      "The precision is: 0.9972607430234549\n",
      "The recall is: 0.04679466580976864\n",
      "The f1 score is: 0.08939464859846073\n",
      "---------- Finished execution with 4 cores ----------\n",
      "Elapsed time for cores 4 is 527.590255022049 seconds\n",
      "---------- Starting execution with 5 cores ----------\n",
      "Cost for it 0: 1.4433585809531801\n",
      "Cost for it 1: 0.7355477499205854\n",
      "Cost for it 2: 0.45032952444322716\n",
      "Cost for it 3: 0.34560690654970905\n",
      "Cost for it 4: 0.2975516603446788\n",
      "Cost for it 5: 0.26997286337120274\n",
      "Cost for it 6: 0.2516734024741435\n",
      "Cost for it 7: 0.2391115657128048\n",
      "Cost for it 8: 0.22888081253878334\n",
      "Cost for it 9: 0.2215833936452386\n",
      "The accuracy for the test set is: 0.9309065559846798\n",
      "The accuracy for the test set is: 0.9309065559846798\n",
      "The tp percentage is: 0.02336176851595619\n",
      "The tn percentage is: 0.5006958398004323\n",
      "The fp percentage is: 6.416966459318437e-05\n",
      "The fn percentage is: 0.4758782220190183\n",
      "The precision is: 0.9972607430234549\n",
      "The recall is: 0.04679466580976864\n",
      "The f1 score is: 0.08939464859846073\n",
      "---------- Finished execution with 5 cores ----------\n",
      "Elapsed time for cores 5 is 481.8547022342682 seconds\n",
      "---------- Starting execution with 6 cores ----------\n",
      "Cost for it 0: 1.4437223148389864\n",
      "Cost for it 1: 0.735121734852576\n",
      "Cost for it 2: 0.44994913744558657\n",
      "Cost for it 3: 0.34511639967740626\n",
      "Cost for it 4: 0.2966987204672741\n",
      "Cost for it 5: 0.26931601765906904\n",
      "Cost for it 6: 0.2519533188956862\n",
      "Cost for it 7: 0.23882814577124215\n",
      "Cost for it 8: 0.22938346914340899\n",
      "Cost for it 9: 0.22143189045152842\n",
      "The accuracy for the test set is: 0.9254751151098386\n",
      "The accuracy for the test set is: 0.9254751151098386\n",
      "The tp percentage is: 0.02336176851595619\n",
      "The tn percentage is: 0.5006958398004323\n",
      "The fp percentage is: 6.416966459318437e-05\n",
      "The fn percentage is: 0.4758782220190183\n",
      "The precision is: 0.9972607430234549\n",
      "The recall is: 0.04679466580976864\n",
      "The f1 score is: 0.08939464859846073\n",
      "---------- Finished execution with 6 cores ----------\n",
      "Elapsed time for cores 6 is 470.32348465919495 seconds\n",
      "---------- Starting execution with 7 cores ----------\n",
      "Cost for it 0: 1.4444746351573192\n",
      "Cost for it 1: 0.734644269813487\n",
      "Cost for it 2: 0.45035673933394066\n",
      "Cost for it 3: 0.34529900595250573\n",
      "Cost for it 4: 0.297116481539704\n",
      "Cost for it 5: 0.2698043690181391\n",
      "Cost for it 6: 0.2512918172902991\n",
      "Cost for it 7: 0.23899496243024063\n",
      "Cost for it 8: 0.22961530499465807\n",
      "Cost for it 9: 0.22206897603803868\n",
      "The accuracy for the test set is: 0.9291416805867673\n",
      "The accuracy for the test set is: 0.9291416805867673\n",
      "The tp percentage is: 0.02336176851595619\n",
      "The tn percentage is: 0.5006958398004323\n",
      "The fp percentage is: 6.416966459318437e-05\n",
      "The fn percentage is: 0.4758782220190183\n",
      "The precision is: 0.9972607430234549\n",
      "The recall is: 0.04679466580976864\n",
      "The f1 score is: 0.08939464859846073\n",
      "---------- Finished execution with 7 cores ----------\n",
      "Elapsed time for cores 7 is 474.94063806533813 seconds\n",
      "---------- Starting execution with 8 cores ----------\n",
      "Cost for it 0: 1.4415562085851217\n",
      "Cost for it 1: 0.7358161682141803\n",
      "Cost for it 2: 0.4507822177451168\n",
      "Cost for it 3: 0.34527613486087005\n",
      "Cost for it 4: 0.29735956291606014\n",
      "Cost for it 5: 0.26997409798638444\n",
      "Cost for it 6: 0.25172226395606784\n",
      "Cost for it 7: 0.23898813403231328\n",
      "Cost for it 8: 0.2294536135910459\n",
      "Cost for it 9: 0.22167143871765066\n",
      "The accuracy for the test set is: 0.9300473387922211\n",
      "The accuracy for the test set is: 0.9300473387922211\n",
      "The tp percentage is: 0.02336176851595619\n",
      "The tn percentage is: 0.5006958398004323\n",
      "The fp percentage is: 6.416966459318437e-05\n",
      "The fn percentage is: 0.4758782220190183\n",
      "The precision is: 0.9972607430234549\n",
      "The recall is: 0.04679466580976864\n",
      "The f1 score is: 0.08939464859846073\n",
      "---------- Finished execution with 8 cores ----------\n",
      "Elapsed time for cores 8 is 371.04762053489685 seconds\n",
      "---------- Starting execution with 9 cores ----------\n",
      "Cost for it 0: 1.4460287653109318\n",
      "Cost for it 1: 0.7354122711678035\n",
      "Cost for it 2: 0.45075834774613\n",
      "Cost for it 3: 0.34553008979974137\n",
      "Cost for it 4: 0.29709956148284183\n",
      "Cost for it 5: 0.26985122997220545\n",
      "Cost for it 6: 0.2522874737282199\n",
      "Cost for it 7: 0.2390394383175496\n",
      "Cost for it 8: 0.22949154408875416\n",
      "Cost for it 9: 0.22223575136797236\n",
      "The accuracy for the test set is: 0.9240505823839823\n",
      "The accuracy for the test set is: 0.9240505823839823\n",
      "The tp percentage is: 0.02336176851595619\n",
      "The tn percentage is: 0.5006958398004323\n",
      "The fp percentage is: 6.416966459318437e-05\n",
      "The fn percentage is: 0.4758782220190183\n",
      "The precision is: 0.9972607430234549\n",
      "The recall is: 0.04679466580976864\n",
      "The f1 score is: 0.08939464859846073\n",
      "---------- Finished execution with 9 cores ----------\n",
      "Elapsed time for cores 9 is 374.56031608581543 seconds\n",
      "---------- Starting execution with 10 cores ----------\n",
      "Cost for it 0: 1.4453420229253264\n",
      "Cost for it 1: 0.7354173650944652\n",
      "Cost for it 2: 0.450589356162839\n",
      "Cost for it 3: 0.34549589423003146\n"
     ]
    },
    {
     "name": "stdout",
     "output_type": "stream",
     "text": [
      "Cost for it 4: 0.2968261959391132\n",
      "Cost for it 5: 0.2697404195531727\n",
      "Cost for it 6: 0.25107929011633623\n",
      "Cost for it 7: 0.2386298334316958\n",
      "Cost for it 8: 0.22914921673187727\n",
      "Cost for it 9: 0.22159424835757469\n",
      "The accuracy for the test set is: 0.9245964731574303\n",
      "The accuracy for the test set is: 0.9245964731574303\n",
      "The tp percentage is: 0.02336176851595619\n",
      "The tn percentage is: 0.5006958398004323\n",
      "The fp percentage is: 6.416966459318437e-05\n",
      "The fn percentage is: 0.4758782220190183\n",
      "The precision is: 0.9972607430234549\n",
      "The recall is: 0.04679466580976864\n",
      "The f1 score is: 0.08939464859846073\n",
      "---------- Finished execution with 10 cores ----------\n",
      "Elapsed time for cores 10 is 376.042405128479 seconds\n",
      "---------- Starting execution with 11 cores ----------\n",
      "Cost for it 0: 1.4465499046709596\n",
      "Cost for it 1: 0.7358562563053956\n",
      "Cost for it 2: 0.45036143191526096\n",
      "Cost for it 3: 0.3456640295496929\n",
      "Cost for it 4: 0.29671316223893607\n",
      "Cost for it 5: 0.26947389940943156\n",
      "Cost for it 6: 0.25186897915073736\n",
      "Cost for it 7: 0.23870636785602936\n",
      "Cost for it 8: 0.22896614098310192\n",
      "Cost for it 9: 0.22158783355316028\n",
      "The accuracy for the test set is: 0.9249212362911267\n",
      "The accuracy for the test set is: 0.9249212362911267\n",
      "The tp percentage is: 0.02336176851595619\n",
      "The tn percentage is: 0.5006958398004323\n",
      "The fp percentage is: 6.416966459318437e-05\n",
      "The fn percentage is: 0.4758782220190183\n",
      "The precision is: 0.9972607430234549\n",
      "The recall is: 0.04679466580976864\n",
      "The f1 score is: 0.08939464859846073\n",
      "---------- Finished execution with 11 cores ----------\n",
      "Elapsed time for cores 11 is 373.9481461048126 seconds\n",
      "---------- Starting execution with 12 cores ----------\n",
      "Cost for it 0: 1.4440692553678613\n",
      "Cost for it 1: 0.7351318286290717\n",
      "Cost for it 2: 0.45019896298837125\n",
      "Cost for it 3: 0.34551764140340857\n",
      "Cost for it 4: 0.2969565955617568\n",
      "Cost for it 5: 0.26986614670613607\n",
      "Cost for it 6: 0.251910011278102\n",
      "Cost for it 7: 0.2390662083321336\n",
      "Cost for it 8: 0.22968148496683113\n",
      "Cost for it 9: 0.22180172674473317\n",
      "The accuracy for the test set is: 0.9264415028148811\n",
      "The accuracy for the test set is: 0.9264415028148811\n",
      "The tp percentage is: 0.02336176851595619\n",
      "The tn percentage is: 0.5006958398004323\n",
      "The fp percentage is: 6.416966459318437e-05\n",
      "The fn percentage is: 0.4758782220190183\n",
      "The precision is: 0.9972607430234549\n",
      "The recall is: 0.04679466580976864\n",
      "The f1 score is: 0.08939464859846073\n",
      "---------- Finished execution with 12 cores ----------\n",
      "Elapsed time for cores 12 is 376.0982964038849 seconds\n"
     ]
    }
   ],
   "source": [
    "elapsed_times = {}\n",
    "\n",
    "for cores in range(1,13,1):\n",
    "    sc.stop()\n",
    "    conf = SparkConf().setAppName(\"appName\").setMaster(f\"local[{cores}]\")\n",
    "    sc = SparkContext(conf=conf)\n",
    "    \n",
    "    print(f\"---------- Starting execution with {cores} cores ----------\")\n",
    "    \n",
    "    \n",
    "    # ---------- Execution ----------\n",
    "    RDD_Xy = readFile(\"../data/botnet_tot_syn_l.csv\")\n",
    "    RDD_Xy_normalized = normalize(RDD_Xy)\n",
    "    RDD_Xy_presplit = RDD_Xy_normalized.map(lambda x: (x[0], x[1], 1 if random.random() < 0.75 else 0))\n",
    "    train_data, test_data = trainTestSplit(RDD_Xy_presplit)\n",
    "    start = time.time()\n",
    "    \n",
    "    np.random.seed(33)\n",
    "    global b  \n",
    "    b = 0\n",
    "    global n\n",
    "    n = len(RDD_Xy.take(1)[0][0])\n",
    "    global w\n",
    "    w = sc.broadcast(np.random.rand(n))\n",
    "    w_final, b = train(train_data, 10, 1.5, 0)\n",
    "    acc = accuracy(w_final, b, test_data)\n",
    "    print(f\"The accuracy for the test set is: {acc}\")\n",
    "    total = tp+tn+fp+fn\n",
    "    precision = tp/(tp+fp)\n",
    "    recall = tp/(tp+fn)\n",
    "    f1 = (2*precision*recall)/(precision+recall)\n",
    "    \n",
    "    print(f\"The accuracy for the test set is: {acc}\")\n",
    "    print(f\"The tp percentage is: {tp/total}\")\n",
    "    print(f\"The tn percentage is: {tn/total}\")\n",
    "    print(f\"The fp percentage is: {fp/total}\")\n",
    "    print(f\"The fn percentage is: {fn/total}\")\n",
    "    print(f\"The precision is: {precision}\")\n",
    "    print(f\"The recall is: {recall}\")\n",
    "    print(f\"The f1 score is: {f1}\")\n",
    "    # ---------- Execution ----------\n",
    "\n",
    "    end = time.time()\n",
    "    print(f\"---------- Finished execution with {cores} cores ----------\")\n",
    "    elapsed_time = end - start\n",
    "    elapsed_times[cores] = elapsed_time\n",
    "    print(f\"Elapsed time for cores {cores} is {elapsed_time} seconds\")"
   ]
  },
  {
   "cell_type": "code",
   "execution_count": 37,
   "metadata": {},
   "outputs": [
    {
     "data": {
      "text/plain": [
       "{1: 1812.720507144928,\n",
       " 2: 938.6837751865387,\n",
       " 3: 660.2266867160797,\n",
       " 4: 527.590255022049,\n",
       " 5: 481.8547022342682,\n",
       " 6: 470.32348465919495,\n",
       " 7: 474.94063806533813,\n",
       " 8: 371.04762053489685,\n",
       " 9: 374.56031608581543,\n",
       " 10: 376.042405128479,\n",
       " 11: 373.9481461048126,\n",
       " 12: 376.0982964038849}"
      ]
     },
     "execution_count": 37,
     "metadata": {},
     "output_type": "execute_result"
    }
   ],
   "source": [
    "elapsed_times"
   ]
  },
  {
   "cell_type": "code",
   "execution_count": null,
   "metadata": {},
   "outputs": [],
   "source": []
  }
 ],
 "metadata": {
  "kernelspec": {
   "display_name": "Python 3",
   "language": "python",
   "name": "python3"
  },
  "language_info": {
   "codemirror_mode": {
    "name": "ipython",
    "version": 3
   },
   "file_extension": ".py",
   "mimetype": "text/x-python",
   "name": "python",
   "nbconvert_exporter": "python",
   "pygments_lexer": "ipython3",
   "version": "3.7.1"
  }
 },
 "nbformat": 4,
 "nbformat_minor": 5
}
