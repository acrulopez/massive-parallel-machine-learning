{
 "cells": [
  {
   "cell_type": "markdown",
   "metadata": {},
   "source": [
    "# Cross-validation version"
   ]
  },
  {
   "cell_type": "code",
   "execution_count": 1,
   "metadata": {},
   "outputs": [],
   "source": [
    "import math\n",
    "import random\n",
    "import numpy as np\n",
    "np.random.seed(33)"
   ]
  },
  {
   "cell_type": "markdown",
   "metadata": {},
   "source": [
    "## Initializing spark"
   ]
  },
  {
   "cell_type": "code",
   "execution_count": 2,
   "metadata": {},
   "outputs": [],
   "source": [
    "from pyspark import SparkConf, SparkContext"
   ]
  },
  {
   "cell_type": "code",
   "execution_count": 3,
   "metadata": {},
   "outputs": [],
   "source": [
    "conf = SparkConf().setAppName(\"appName\").setMaster(\"local\")\n",
    "sc = SparkContext()"
   ]
  },
  {
   "cell_type": "markdown",
   "metadata": {},
   "source": [
    "## Functions"
   ]
  },
  {
   "cell_type": "markdown",
   "metadata": {},
   "source": [
    "### Auxiliar functions"
   ]
  },
  {
   "cell_type": "code",
   "execution_count": 4,
   "metadata": {},
   "outputs": [],
   "source": [
    "def trainTestSplit(dataset):\n",
    "    train = dataset.filter(lambda x: x[2]==1)\n",
    "    train = train.map(lambda x: (x[0], x[1]))\n",
    "    test = dataset.filter(lambda x: x[2]==0)\n",
    "    test = test.map(lambda x: (x[0], x[1]))\n",
    "    return (train, test)"
   ]
  },
  {
   "cell_type": "code",
   "execution_count": 5,
   "metadata": {},
   "outputs": [],
   "source": [
    "def sigmoid(x):\n",
    "    return 1 / (1 + math.exp(-x))"
   ]
  },
  {
   "cell_type": "code",
   "execution_count": 6,
   "metadata": {},
   "outputs": [],
   "source": [
    "def rdd_cost_function(RDD_Xyyhat, lambda_ref, m, w):\n",
    "    y = RDD_Xyyhat[1]\n",
    "    y_hat = RDD_Xyyhat[2]\n",
    "    temp = (-1/m) * (\n",
    "        y * np.log(y_hat) + (1 - y)\n",
    "        * np.log(1 - y_hat)\n",
    "    )\n",
    "    cost = temp + (lambda_ref/(2*m))*sum([i*i for i in w.value])\n",
    "    return cost"
   ]
  },
  {
   "cell_type": "code",
   "execution_count": 7,
   "metadata": {},
   "outputs": [],
   "source": [
    "def str_to_number_list(line):\n",
    "    numbers = line.replace(\" \",\"\").split(\",\")\n",
    "    numbers = [float(number) for number in numbers]\n",
    "    \n",
    "    # Separate X and y\n",
    "    numbers = (numbers[:-1], numbers[-1])\n",
    "    \n",
    "    return numbers"
   ]
  },
  {
   "cell_type": "code",
   "execution_count": 8,
   "metadata": {},
   "outputs": [],
   "source": [
    "def sum_list_values(list1, list2):\n",
    "    return [n1 + n2 for n1, n2 in zip(list1, list2)]"
   ]
  },
  {
   "cell_type": "code",
   "execution_count": 9,
   "metadata": {},
   "outputs": [],
   "source": [
    "def sum_minus_mean_squared(numbers):\n",
    "    return [(number-means.value[x])**2 for x,number in enumerate(numbers)]"
   ]
  },
  {
   "cell_type": "code",
   "execution_count": 10,
   "metadata": {},
   "outputs": [],
   "source": [
    "def rdd_mean_by_column(RDD_Xy, m):\n",
    "    means = RDD_Xy.map(lambda x: x[0]).reduce(sum_list_values)\n",
    "    means = [x/m for x in means]\n",
    "    return means"
   ]
  },
  {
   "cell_type": "code",
   "execution_count": 11,
   "metadata": {},
   "outputs": [],
   "source": [
    "def rdd_std_by_column(RDD_Xy, m):\n",
    "    stds = RDD_Xy.map(lambda x: x[0]).map(sum_minus_mean_squared).reduce(sum_list_values)\n",
    "    stds = [math.sqrt(x/m) for x in stds]\n",
    "    return stds"
   ]
  },
  {
   "cell_type": "code",
   "execution_count": 12,
   "metadata": {},
   "outputs": [],
   "source": [
    "def multiply_RDDXy_by_w(Xy):\n",
    "    tot = 0\n",
    "    for xi, wi in zip(Xy[0], w.value):\n",
    "        tot += xi * wi\n",
    "    return (Xy[0], Xy[1], sigmoid(tot))"
   ]
  },
  {
   "cell_type": "code",
   "execution_count": 13,
   "metadata": {},
   "outputs": [],
   "source": [
    "def calculate_dw(RDD_Xyyhat):\n",
    "    dw = []\n",
    "    for x in RDD_Xyyhat[0]:\n",
    "        dw.append((RDD_Xyyhat[1]-RDD_Xyyhat[2])*x)\n",
    "    return dw"
   ]
  },
  {
   "cell_type": "markdown",
   "metadata": {},
   "source": [
    "### Mandatory functions"
   ]
  },
  {
   "cell_type": "code",
   "execution_count": 48,
   "metadata": {},
   "outputs": [],
   "source": [
    "def readFile(filename):\n",
    "    dataset = sc.textFile(filename)\n",
    "    dataset = dataset.map(str_to_number_list)\n",
    "    return dataset.sample(False, 0.00012)"
   ]
  },
  {
   "cell_type": "code",
   "execution_count": 15,
   "metadata": {},
   "outputs": [],
   "source": [
    "def normalize(RDD_Xy):\n",
    "    m = RDD_Xy.count()\n",
    "    global means\n",
    "    means = sc.broadcast(rdd_mean_by_column(RDD_Xy, m))\n",
    "    stds = sc.broadcast(rdd_std_by_column(RDD_Xy, m))\n",
    "    norm_rdd = RDD_Xy.map(lambda values: ([(x - mean) / std for x, mean, std in zip(values[0], means.value, stds.value)], values[1]))\n",
    "    return norm_rdd"
   ]
  },
  {
   "cell_type": "code",
   "execution_count": 16,
   "metadata": {},
   "outputs": [],
   "source": [
    "def train(RDD_Xy, iterations, learning_rate, lambda_reg):\n",
    "    global b\n",
    "    global m\n",
    "    m = RDD_Xy.count()\n",
    "    n = len(RDD_Xy.take(1)[0])\n",
    "    \n",
    "    global w\n",
    "    w = sc.broadcast(np.random.rand(n))\n",
    "    \n",
    "    \n",
    "    for it in range(iterations):\n",
    "        RDD_Xyyhat = RDD_Xy.map(multiply_RDDXy_by_w)\n",
    "        print(f\"Cost for it {it}:\", RDD_Xyyhat.map(lambda x: rdd_cost_function(x, lambda_reg, m, w)).reduce(lambda x,y: x+y))\n",
    "        dw = RDD_Xyyhat.map(calculate_dw).reduce(lambda x, y: [xi+yi for xi, yi in zip(x, y)])        \n",
    "        dw_final = []\n",
    "        for dwi, wi in zip(dw, w.value):\n",
    "            dw_final.append( ((dwi+lambda_reg)/m)+wi )\n",
    "        w = sc.broadcast([wi - (learning_rate * dwi) for wi, dwi in zip(w.value, dw_final)])\n",
    "        \n",
    "        b -= learning_rate * (1/m)*RDD_Xyyhat.map(lambda x: x[1]-x[2]).sum()\n",
    "    \n",
    "    return w, b\n"
   ]
  },
  {
   "cell_type": "code",
   "execution_count": 17,
   "metadata": {},
   "outputs": [],
   "source": [
    "def accuracy(ws, b, RDD_Xy):\n",
    "    total = RDD_Xy.count()\n",
    "    y_and_y_hat = RDD_Xy.map(lambda x: (x[1], predict(ws, x[0], b)))\n",
    "    correct = y_and_y_hat.map(lambda x: 1 if x[0]==x[1] else 0).reduce(lambda x, y: x+y)\n",
    "    return correct/total"
   ]
  },
  {
   "cell_type": "code",
   "execution_count": 18,
   "metadata": {},
   "outputs": [],
   "source": [
    "def predict(w, X, b):\n",
    "    tot = 0\n",
    "    for xi, wi in zip(X, w.value):\n",
    "        tot += xi * wi\n",
    "    tot += b\n",
    "    val = sigmoid(tot)\n",
    "    if (val>=0.5):\n",
    "        return (1.0)\n",
    "    return (0.0)"
   ]
  },
  {
   "cell_type": "markdown",
   "metadata": {},
   "source": [
    "### Make folds for cross-validation"
   ]
  },
  {
   "cell_type": "code",
   "execution_count": 25,
   "metadata": {},
   "outputs": [],
   "source": [
    "def shuffleRDD(RDD):\n",
    "    RDD_with_rand = RDD.map(lambda x: (x[0], x[1], random.random()))\n",
    "    RDD_sorted = RDD_with_rand.sortBy(lambda x: x[2])\n",
    "    RDD_cleaned = RDD_sorted.map(lambda x: (x[0], x[1]))\n",
    "    return RDD_cleaned"
   ]
  },
  {
   "cell_type": "code",
   "execution_count": 36,
   "metadata": {},
   "outputs": [],
   "source": [
    "def kFoldsCV(k_fold, iterations, rdd_data, learning_rate, lambda_reg):\n",
    "    \n",
    "    n = len(rdd_data.take(1)[0])\n",
    "    \n",
    "    fold_length = rdd_data.count()/k_fold\n",
    "    train_errors_fold = []\n",
    "    test_errors_fold = []\n",
    "    folds_accuracy = []\n",
    "    \n",
    "    for i_fold in range(k_fold):\n",
    "        w = sc.broadcast(np.random.rand(n))\n",
    "        \n",
    "        global b\n",
    "        b = 0\n",
    "        \n",
    "        starting_fold = fold_length * i_fold\n",
    "        end_fold = starting_fold + fold_length\n",
    "        \n",
    "        train_fold = rdd_data.zipWithIndex().filter(lambda x: (x[1] >= starting_fold and x[1]<end_fold)).map(lambda x: x[0])\n",
    "        test_fold = rdd_data.zipWithIndex().filter(lambda x: (x[1] < starting_fold or x[1] >= end_fold)).map(lambda x: x[0])\n",
    "        train_size = train_fold.count()\n",
    "        \n",
    "        w, b = train(train_fold, iterations, learning_rate, lambda_reg) \n",
    "        fold_accuracy = accuracy(w, b, test_fold)\n",
    "        folds_accuracy.append(fold_accuracy)\n",
    "        print(f\"Accuracy for fold {i_fold}: {fold_accuracy}\")\n",
    "    \n",
    "    print(folds_accuracy)\n",
    "    return sum(folds_accuracy)/len(folds_accuracy)"
   ]
  },
  {
   "cell_type": "markdown",
   "metadata": {},
   "source": [
    "## Testing"
   ]
  },
  {
   "cell_type": "code",
   "execution_count": 49,
   "metadata": {},
   "outputs": [
    {
     "data": {
      "text/plain": [
       "110"
      ]
     },
     "execution_count": 49,
     "metadata": {},
     "output_type": "execute_result"
    }
   ],
   "source": [
    "RDD_Xy = readFile(\"../data/botnet_tot_syn_l.csv\")\n",
    "RDD_Xy.count()"
   ]
  },
  {
   "cell_type": "code",
   "execution_count": 50,
   "metadata": {},
   "outputs": [],
   "source": [
    "RDD_Xy_normalized = normalize(RDD_Xy)"
   ]
  },
  {
   "cell_type": "code",
   "execution_count": 51,
   "metadata": {},
   "outputs": [],
   "source": [
    "RDD_shuffled = shuffleRDD(RDD_Xy_normalized)"
   ]
  },
  {
   "cell_type": "code",
   "execution_count": 53,
   "metadata": {},
   "outputs": [
    {
     "name": "stdout",
     "output_type": "stream",
     "text": [
      "Cost for it 0: 1.1383892566641054\n",
      "Cost for it 1: 1.0509826069338688\n",
      "Cost for it 2: 0.9902484196262833\n",
      "Cost for it 3: 0.9472970266779381\n",
      "Cost for it 4: 0.9164432968165312\n",
      "Cost for it 5: 0.8939785313569335\n",
      "Cost for it 6: 0.8774337584463693\n",
      "Cost for it 7: 0.865132358048245\n",
      "Cost for it 8: 0.8559141619273699\n",
      "Cost for it 9: 0.8489623372689276\n",
      "Accuracy for fold 0: 0.46464646464646464\n",
      "Cost for it 0: 0.725218704328911\n",
      "Cost for it 1: 0.6967606960146799\n",
      "Cost for it 2: 0.6848492996729586\n",
      "Cost for it 3: 0.6820273270085991\n",
      "Cost for it 4: 0.6839343408230244\n",
      "Cost for it 5: 0.6880498713586367\n",
      "Cost for it 6: 0.6929510313617667\n",
      "Cost for it 7: 0.6978678346044869\n",
      "Cost for it 8: 0.7024144622869745\n",
      "Cost for it 9: 0.7064265165685323\n",
      "Accuracy for fold 1: 0.5151515151515151\n",
      "Cost for it 0: 0.7571803351740949\n",
      "Cost for it 1: 0.7704702435473203\n",
      "Cost for it 2: 0.7808939316948097\n",
      "Cost for it 3: 0.7889904446696898\n",
      "Cost for it 4: 0.795236819338879\n",
      "Cost for it 5: 0.8000329917671662\n",
      "Cost for it 6: 0.8037034669339149\n",
      "Cost for it 7: 0.806506046942997\n",
      "Cost for it 8: 0.8086426631865381\n",
      "Cost for it 9: 0.8102699542748445\n",
      "Accuracy for fold 2: 0.4444444444444444\n",
      "Cost for it 0: 0.978098958900162\n",
      "Cost for it 1: 0.9073322155265038\n",
      "Cost for it 2: 0.8595962362274452\n",
      "Cost for it 3: 0.8266861068584679\n",
      "Cost for it 4: 0.8035185327534007\n",
      "Cost for it 5: 0.7868880659560018\n",
      "Cost for it 6: 0.7747333243197897\n",
      "Cost for it 7: 0.7657021716147029\n",
      "Cost for it 8: 0.7588906387253149\n",
      "Cost for it 9: 0.7536833749795997\n",
      "Accuracy for fold 3: 0.3939393939393939\n",
      "Cost for it 0: 0.831535366950016\n",
      "Cost for it 1: 0.7995630745256185\n",
      "Cost for it 2: 0.7784938902029082\n",
      "Cost for it 3: 0.7644128439263443\n",
      "Cost for it 4: 0.7548876058772729\n",
      "Cost for it 5: 0.748379952634903\n",
      "Cost for it 6: 0.7438996847030392\n",
      "Cost for it 7: 0.7407983893385536\n",
      "Cost for it 8: 0.7386446562258725\n",
      "Cost for it 9: 0.7371473179482675\n",
      "Accuracy for fold 4: 0.40404040404040403\n",
      "Cost for it 0: 0.7704069566984512\n",
      "Cost for it 1: 0.7446938628300015\n",
      "Cost for it 2: 0.7284900971612012\n",
      "Cost for it 3: 0.7180974695402795\n",
      "Cost for it 4: 0.7113074952246334\n",
      "Cost for it 5: 0.7067870678167307\n",
      "Cost for it 6: 0.7037214653508486\n",
      "Cost for it 7: 0.7016057042886177\n",
      "Cost for it 8: 0.7001218071026198\n",
      "Cost for it 9: 0.6990660730164754\n",
      "Accuracy for fold 5: 0.5353535353535354\n",
      "Cost for it 0: 0.8209136727225053\n",
      "Cost for it 1: 0.800674203875271\n",
      "Cost for it 2: 0.7856826530728451\n",
      "Cost for it 3: 0.7744380468023888\n",
      "Cost for it 4: 0.7659100681671247\n",
      "Cost for it 5: 0.7593793956027464\n",
      "Cost for it 6: 0.7543358465614419\n",
      "Cost for it 7: 0.7504122179158867\n",
      "Cost for it 8: 0.7473405844276297\n",
      "Cost for it 9: 0.7449229749664081\n",
      "Accuracy for fold 6: 0.42424242424242425\n",
      "Cost for it 0: 1.064191148896148\n",
      "Cost for it 1: 0.9984744019923347\n",
      "Cost for it 2: 0.9514051964363472\n",
      "Cost for it 3: 0.9171641521341256\n",
      "Cost for it 4: 0.891921177586683\n",
      "Cost for it 5: 0.8731011504254736\n",
      "Cost for it 6: 0.8589370849096025\n",
      "Cost for it 7: 0.8481934326604436\n",
      "Cost for it 8: 0.8399913596129865\n",
      "Cost for it 9: 0.8336961751694625\n",
      "Accuracy for fold 7: 0.5050505050505051\n",
      "Cost for it 0: 0.6886246371609231\n",
      "Cost for it 1: 0.6942256078117286\n",
      "Cost for it 2: 0.7023205263900225\n",
      "Cost for it 3: 0.7111176928027787\n",
      "Cost for it 4: 0.7196731610443672\n",
      "Cost for it 5: 0.727527462199476\n",
      "Cost for it 6: 0.7344945431715925\n",
      "Cost for it 7: 0.7405387744756555\n",
      "Cost for it 8: 0.745703363101026\n",
      "Cost for it 9: 0.7500689855521006\n",
      "Accuracy for fold 8: 0.5151515151515151\n",
      "Cost for it 0: 1.195307249295354\n",
      "Cost for it 1: 1.1383151258123831\n",
      "Cost for it 2: 1.0981072238612997\n",
      "Cost for it 3: 1.0691485586432143\n",
      "Cost for it 4: 1.0479203889948183\n",
      "Cost for it 5: 1.032130234957304\n",
      "Cost for it 6: 1.0202461296010152\n",
      "Cost for it 7: 1.0112184692235313\n",
      "Cost for it 8: 1.0043111176301154\n",
      "Cost for it 9: 0.9989968174934493\n",
      "Accuracy for fold 9: 0.41414141414141414\n",
      "[0.46464646464646464, 0.5151515151515151, 0.4444444444444444, 0.3939393939393939, 0.40404040404040403, 0.5353535353535354, 0.42424242424242425, 0.5050505050505051, 0.5151515151515151, 0.41414141414141414]\n"
     ]
    },
    {
     "data": {
      "text/plain": [
       "0.4616161616161617"
      ]
     },
     "execution_count": 53,
     "metadata": {},
     "output_type": "execute_result"
    }
   ],
   "source": [
    "avg_accuracy = kFoldsCV(10, 10, RDD_shuffled, 0.3, 0.1)\n",
    "avg_accuracy"
   ]
  },
  {
   "cell_type": "code",
   "execution_count": null,
   "metadata": {},
   "outputs": [],
   "source": []
  }
 ],
 "metadata": {
  "kernelspec": {
   "display_name": "Python 3",
   "language": "python",
   "name": "python3"
  },
  "language_info": {
   "codemirror_mode": {
    "name": "ipython",
    "version": 3
   },
   "file_extension": ".py",
   "mimetype": "text/x-python",
   "name": "python",
   "nbconvert_exporter": "python",
   "pygments_lexer": "ipython3",
   "version": "3.7.1"
  }
 },
 "nbformat": 4,
 "nbformat_minor": 4
}
