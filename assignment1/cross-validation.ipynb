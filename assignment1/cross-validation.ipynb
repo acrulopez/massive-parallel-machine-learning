{
 "cells": [
  {
   "cell_type": "markdown",
   "metadata": {},
   "source": [
    "# Cross-validation version"
   ]
  },
  {
   "cell_type": "code",
   "execution_count": 10,
   "metadata": {},
   "outputs": [],
   "source": [
    "import math\n",
    "import random\n",
    "import numpy as np\n",
    "np.random.seed(33)"
   ]
  },
  {
   "cell_type": "markdown",
   "metadata": {},
   "source": [
    "## Initializing spark"
   ]
  },
  {
   "cell_type": "code",
   "execution_count": 11,
   "metadata": {},
   "outputs": [],
   "source": [
    "from pyspark import SparkConf, SparkContext"
   ]
  },
  {
   "cell_type": "code",
   "execution_count": 30,
   "metadata": {},
   "outputs": [],
   "source": [
    "conf = SparkConf().setAppName(\"appName\").setMaster(\"local\")\n",
    "sc = SparkContext()"
   ]
  },
  {
   "cell_type": "markdown",
   "metadata": {},
   "source": [
    "## Functions"
   ]
  },
  {
   "cell_type": "markdown",
   "metadata": {},
   "source": [
    "### Auxiliar functions"
   ]
  },
  {
   "cell_type": "code",
   "execution_count": 12,
   "metadata": {},
   "outputs": [],
   "source": [
    "def trainTestSplit(dataset):\n",
    "    train = dataset.filter(lambda x: x[2]==1)\n",
    "    train = train.map(lambda x: (x[0], x[1]))\n",
    "    test = dataset.filter(lambda x: x[2]==0)\n",
    "    test = test.map(lambda x: (x[0], x[1]))\n",
    "    return (train, test)"
   ]
  },
  {
   "cell_type": "code",
   "execution_count": 13,
   "metadata": {},
   "outputs": [],
   "source": [
    "def sigmoid(x):\n",
    "    return 1 / (1 + math.exp(-x))"
   ]
  },
  {
   "cell_type": "code",
   "execution_count": 14,
   "metadata": {},
   "outputs": [],
   "source": [
    "def rdd_cost_function(RDD_Xyyhat, lambda_ref, m, w):\n",
    "    y = RDD_Xyyhat[1]\n",
    "    y_hat = RDD_Xyyhat[2]\n",
    "    temp = (-1/m) * (\n",
    "        y * np.log(y_hat) + (1 - y)\n",
    "        * np.log(1 - y_hat)\n",
    "    )\n",
    "    cost = temp + (lambda_ref/(2*m))*sum([i*i for i in w.value])\n",
    "    return cost"
   ]
  },
  {
   "cell_type": "code",
   "execution_count": 15,
   "metadata": {},
   "outputs": [],
   "source": [
    "def str_to_number_list(line):\n",
    "    numbers = line.replace(\" \",\"\").split(\",\")\n",
    "    numbers = [float(number) for number in numbers]\n",
    "    \n",
    "    # Separate X and y\n",
    "    numbers = (numbers[:-1], numbers[-1])\n",
    "    \n",
    "    return numbers"
   ]
  },
  {
   "cell_type": "code",
   "execution_count": 16,
   "metadata": {},
   "outputs": [],
   "source": [
    "def sum_list_values(list1, list2):\n",
    "    return [n1 + n2 for n1, n2 in zip(list1, list2)]"
   ]
  },
  {
   "cell_type": "code",
   "execution_count": 17,
   "metadata": {},
   "outputs": [],
   "source": [
    "def sum_minus_mean_squared(numbers):\n",
    "    return [(number-means.value[x])**2 for x,number in enumerate(numbers)]"
   ]
  },
  {
   "cell_type": "code",
   "execution_count": 18,
   "metadata": {},
   "outputs": [],
   "source": [
    "def rdd_mean_by_column(RDD_Xy, m):\n",
    "    means = RDD_Xy.map(lambda x: x[0]).reduce(sum_list_values)\n",
    "    means = [x/m for x in means]\n",
    "    return means"
   ]
  },
  {
   "cell_type": "code",
   "execution_count": 19,
   "metadata": {},
   "outputs": [],
   "source": [
    "def rdd_std_by_column(RDD_Xy, m):\n",
    "    stds = RDD_Xy.map(lambda x: x[0]).map(sum_minus_mean_squared).reduce(sum_list_values)\n",
    "    stds = [math.sqrt(x/m) for x in stds]\n",
    "    return stds"
   ]
  },
  {
   "cell_type": "code",
   "execution_count": 20,
   "metadata": {},
   "outputs": [],
   "source": [
    "def multiply_RDDXy_by_w(Xy):\n",
    "    global b\n",
    "    tot = 0\n",
    "    for xi, wi in zip(Xy[0], w.value):\n",
    "        tot += xi * wi\n",
    "    tot += b\n",
    "    return (Xy[0], Xy[1], sigmoid(tot))"
   ]
  },
  {
   "cell_type": "code",
   "execution_count": 21,
   "metadata": {},
   "outputs": [],
   "source": [
    "def calculate_dw(RDD_Xyyhat):\n",
    "    dw = []\n",
    "    for x in RDD_Xyyhat[0]:\n",
    "        dw.append((RDD_Xyyhat[2]-RDD_Xyyhat[1])*x)\n",
    "    return dw"
   ]
  },
  {
   "cell_type": "markdown",
   "metadata": {},
   "source": [
    "### Mandatory functions"
   ]
  },
  {
   "cell_type": "code",
   "execution_count": 53,
   "metadata": {},
   "outputs": [],
   "source": [
    "def readFile(filename):\n",
    "    dataset = sc.textFile(filename)\n",
    "    dataset = dataset.map(str_to_number_list)\n",
    "    return dataset.sample(False, 0.001)"
   ]
  },
  {
   "cell_type": "code",
   "execution_count": 23,
   "metadata": {},
   "outputs": [],
   "source": [
    "def normalize(RDD_Xy):\n",
    "    m = RDD_Xy.count()\n",
    "    global means\n",
    "    means = sc.broadcast(rdd_mean_by_column(RDD_Xy, m))\n",
    "    stds = sc.broadcast(rdd_std_by_column(RDD_Xy, m))\n",
    "    norm_rdd = RDD_Xy.map(lambda values: ([(x - mean) / std for x, mean, std in zip(values[0], means.value, stds.value)], values[1]))\n",
    "    return norm_rdd"
   ]
  },
  {
   "cell_type": "code",
   "execution_count": 44,
   "metadata": {},
   "outputs": [],
   "source": [
    "def train(RDD_Xy, iterations, learning_rate, lambda_reg):\n",
    "    global b\n",
    "    global m\n",
    "    m = RDD_Xy.count()\n",
    "    n = len(RDD_Xy.take(1)[0][0])\n",
    "    global w\n",
    "    w_temp = w.value.copy()\n",
    "    for it in range(iterations):\n",
    "        RDD_Xyyhat = RDD_Xy.map(multiply_RDDXy_by_w)\n",
    "        print(f\"Cost for it {it}:\", RDD_Xyyhat.map(lambda x: rdd_cost_function(x, lambda_reg, m, w)).reduce(lambda x,y: x+y))\n",
    "        dw=[0 for i in range(0,n)]\n",
    "        for cl in range(n):\n",
    "                X_cl = RDD_Xyyhat.map(lambda x: (x[2]-x[1])*x[0][cl]).reduce(lambda x, y: x+y)\n",
    "                dw[cl] = (1/m)*(X_cl)+(lambda_reg/m)*w_temp[cl]\n",
    "                w_temp[cl] -= learning_rate * dw[cl]\n",
    "        w = sc.broadcast(w_temp)\n",
    "        db = (1/m)*RDD_Xyyhat.map(lambda x: x[2]-x[1]).reduce(lambda x, y: x+y)\n",
    "        b -= learning_rate * db\n",
    "    return w, b"
   ]
  },
  {
   "cell_type": "code",
   "execution_count": 25,
   "metadata": {},
   "outputs": [],
   "source": [
    "def accuracy(ws, b, RDD_Xy):\n",
    "    total = RDD_Xy.count()\n",
    "    y_and_y_hat = RDD_Xy.map(lambda x: (x[1], predict(ws, x[0], b)))\n",
    "    correct = y_and_y_hat.map(lambda x: 1 if x[0]==x[1] else 0).reduce(lambda x, y: x+y)\n",
    "    return correct/total"
   ]
  },
  {
   "cell_type": "code",
   "execution_count": 26,
   "metadata": {},
   "outputs": [],
   "source": [
    "def predict(w, X, b):\n",
    "    tot = 0\n",
    "    for xi, wi in zip(X, w.value):\n",
    "        tot += xi * wi\n",
    "    tot += b\n",
    "    val = sigmoid(tot)\n",
    "    if (val>=0.5):\n",
    "        return 1.0\n",
    "    return 0.0"
   ]
  },
  {
   "cell_type": "markdown",
   "metadata": {},
   "source": [
    "### Make folds for cross-validation"
   ]
  },
  {
   "cell_type": "code",
   "execution_count": 27,
   "metadata": {},
   "outputs": [],
   "source": [
    "def shuffleRDD(RDD):\n",
    "    RDD_with_rand = RDD.map(lambda x: (x[0], x[1], random.random()))\n",
    "    RDD_sorted = RDD_with_rand.sortBy(lambda x: x[2])\n",
    "    RDD_cleaned = RDD_sorted.map(lambda x: (x[0], x[1]))\n",
    "    return RDD_cleaned"
   ]
  },
  {
   "cell_type": "code",
   "execution_count": 51,
   "metadata": {},
   "outputs": [],
   "source": [
    "def kFoldsCV(k_fold, iterations, rdd_data, learning_rate, lambda_reg):\n",
    "    \n",
    "    n = len(rdd_data.take(1)[0][0])\n",
    "    \n",
    "    fold_length = rdd_data.count()/k_fold\n",
    "    train_errors_fold = []\n",
    "    test_errors_fold = []\n",
    "    folds_accuracy = []\n",
    "    \n",
    "    for i_fold in range(k_fold):\n",
    "        global w\n",
    "        w = sc.broadcast(np.random.rand(n))\n",
    "        \n",
    "        global b\n",
    "        b = 0\n",
    "        \n",
    "        starting_fold = fold_length * i_fold\n",
    "        end_fold = starting_fold + fold_length\n",
    "        \n",
    "        train_fold = rdd_data.zipWithIndex().filter(lambda x: (x[1] >= starting_fold and x[1]<end_fold)).map(lambda x: x[0])\n",
    "        test_fold = rdd_data.zipWithIndex().filter(lambda x: (x[1] < starting_fold or x[1] >= end_fold)).map(lambda x: x[0])\n",
    "        train_size = train_fold.count()\n",
    "        \n",
    "        w, b = train(train_fold, iterations, learning_rate, lambda_reg) \n",
    "        fold_accuracy = accuracy(w, b, test_fold)\n",
    "        folds_accuracy.append(fold_accuracy)\n",
    "        print(f\"Accuracy for fold {i_fold}: {fold_accuracy}\")\n",
    "    \n",
    "    print(folds_accuracy)\n",
    "    return sum(folds_accuracy)/len(folds_accuracy)"
   ]
  },
  {
   "cell_type": "markdown",
   "metadata": {},
   "source": [
    "## Testing"
   ]
  },
  {
   "cell_type": "code",
   "execution_count": 54,
   "metadata": {},
   "outputs": [
    {
     "data": {
      "text/plain": [
       "1001"
      ]
     },
     "execution_count": 54,
     "metadata": {},
     "output_type": "execute_result"
    }
   ],
   "source": [
    "RDD_Xy = readFile(\"../data/botnet_tot_syn_l.csv\")\n",
    "RDD_Xy.count()"
   ]
  },
  {
   "cell_type": "code",
   "execution_count": 55,
   "metadata": {},
   "outputs": [],
   "source": [
    "RDD_Xy_normalized = normalize(RDD_Xy)"
   ]
  },
  {
   "cell_type": "code",
   "execution_count": 56,
   "metadata": {},
   "outputs": [],
   "source": [
    "RDD_shuffled = shuffleRDD(RDD_Xy_normalized)"
   ]
  },
  {
   "cell_type": "code",
   "execution_count": 57,
   "metadata": {
    "collapsed": true,
    "jupyter": {
     "outputs_hidden": true
    },
    "tags": []
   },
   "outputs": [
    {
     "name": "stdout",
     "output_type": "stream",
     "text": [
      "Cost for it 0: 1.3449537602258286\n",
      "Cost for it 1: 0.5672418181659159\n",
      "Cost for it 2: 0.3330206004818843\n",
      "Cost for it 3: 0.2491964354246278\n",
      "Cost for it 4: 0.20803593721269384\n",
      "Cost for it 5: 0.183432449283634\n",
      "Cost for it 6: 0.16685484440094192\n",
      "Cost for it 7: 0.15477541799900202\n",
      "Cost for it 8: 0.14548417861225468\n",
      "Cost for it 9: 0.1380535307141174\n",
      "Accuacy 87.55555555555556%\n",
      "Accuracy for fold 0: 0.8755555555555555\n",
      "Cost for it 0: 1.1942010161029064\n",
      "Cost for it 1: 0.6135288625550839\n",
      "Cost for it 2: 0.4236821669195999\n",
      "Cost for it 3: 0.34185116800708976\n",
      "Cost for it 4: 0.2952588324487856\n",
      "Cost for it 5: 0.2646390248214121\n",
      "Cost for it 6: 0.2427576900610568\n",
      "Cost for it 7: 0.22621621504131179\n",
      "Cost for it 8: 0.21320446763716383\n",
      "Cost for it 9: 0.20266760057079575\n",
      "Accuacy 91.00998890122086%\n",
      "Accuracy for fold 1: 0.9100998890122086\n",
      "Cost for it 0: 1.00419105148884\n",
      "Cost for it 1: 0.42979441873600494\n",
      "Cost for it 2: 0.3035672865430616\n",
      "Cost for it 3: 0.2530230229816308\n",
      "Cost for it 4: 0.22574397320193845\n",
      "Cost for it 5: 0.20841162473514918\n",
      "Cost for it 6: 0.1962470966247299\n",
      "Cost for it 7: 0.1871392433387321\n",
      "Cost for it 8: 0.1800104616440794\n",
      "Cost for it 9: 0.1742492332030663\n",
      "Accuacy 90.2330743618202%\n",
      "Accuracy for fold 2: 0.902330743618202\n",
      "Cost for it 0: 1.2298552076573175\n",
      "Cost for it 1: 0.49914238203978983\n",
      "Cost for it 2: 0.34891709908561996\n",
      "Cost for it 3: 0.29202770783549525\n",
      "Cost for it 4: 0.2616179004154007\n",
      "Cost for it 5: 0.24244556840678747\n",
      "Cost for it 6: 0.22911822913170893\n",
      "Cost for it 7: 0.21923436444939554\n",
      "Cost for it 8: 0.21155710208127573\n",
      "Cost for it 9: 0.2053820736772391\n",
      "Accuacy 92.1198668146504%\n",
      "Accuracy for fold 3: 0.9211986681465039\n",
      "Cost for it 0: 1.334870835349733\n",
      "Cost for it 1: 0.6892423501729948\n",
      "Cost for it 2: 0.4506278651046341\n",
      "Cost for it 3: 0.36440173009928084\n",
      "Cost for it 4: 0.32027656174134905\n",
      "Cost for it 5: 0.2921263067309278\n",
      "Cost for it 6: 0.27190083084653216\n",
      "Cost for it 7: 0.2563795543133585\n",
      "Cost for it 8: 0.24398274996059682\n",
      "Cost for it 9: 0.23381320140284778\n",
      "Accuacy 93.78468368479467%\n",
      "Accuracy for fold 4: 0.9378468368479467\n",
      "Cost for it 0: 1.133007559043973\n",
      "Cost for it 1: 0.5377002062173465\n",
      "Cost for it 2: 0.35604408258467235\n",
      "Cost for it 3: 0.27975249332145796\n",
      "Cost for it 4: 0.23888413164349193\n",
      "Cost for it 5: 0.21312484154860986\n",
      "Cost for it 6: 0.1951295427747678\n",
      "Cost for it 7: 0.18167746390661557\n",
      "Cost for it 8: 0.1711358082669664\n",
      "Cost for it 9: 0.16258406570781803\n",
      "Accuacy 92.89678135405106%\n",
      "Accuracy for fold 5: 0.9289678135405105\n",
      "Cost for it 0: 1.263054286796441\n",
      "Cost for it 1: 0.5022471202667149\n",
      "Cost for it 2: 0.34425384254806\n",
      "Cost for it 3: 0.280327224278353\n",
      "Cost for it 4: 0.2437321999817994\n",
      "Cost for it 5: 0.2197936137354202\n",
      "Cost for it 6: 0.20283360035241776\n",
      "Cost for it 7: 0.1901231163478861\n",
      "Cost for it 8: 0.18019623593872375\n",
      "Cost for it 9: 0.17219970294824827\n",
      "Accuacy 91.12097669256381%\n",
      "Accuracy for fold 6: 0.9112097669256382\n",
      "Cost for it 0: 0.9703961077093481\n",
      "Cost for it 1: 0.5320406164716533\n",
      "Cost for it 2: 0.37014066904781173\n",
      "Cost for it 3: 0.29709246488843044\n",
      "Cost for it 4: 0.2571514909404285\n",
      "Cost for it 5: 0.23179465591972948\n",
      "Cost for it 6: 0.213985688972888\n",
      "Cost for it 7: 0.20059882390677808\n",
      "Cost for it 8: 0.1900510727848122\n",
      "Cost for it 9: 0.18145399324543032\n",
      "Accuacy 92.23085460599334%\n",
      "Accuracy for fold 7: 0.9223085460599334\n",
      "Cost for it 0: 1.176773932125831\n",
      "Cost for it 1: 0.5982169305199795\n",
      "Cost for it 2: 0.36896801063886053\n",
      "Cost for it 3: 0.2663821512538906\n",
      "Cost for it 4: 0.21447521991088656\n",
      "Cost for it 5: 0.18402867154288438\n",
      "Cost for it 6: 0.16399077370156706\n",
      "Cost for it 7: 0.14967310343586582\n",
      "Cost for it 8: 0.13881370076148655\n",
      "Cost for it 9: 0.13020556229285218\n",
      "Accuacy 91.78690344062153%\n",
      "Accuracy for fold 8: 0.9178690344062154\n",
      "Cost for it 0: 1.4649270665760274\n",
      "Cost for it 1: 0.7449129842566665\n",
      "Cost for it 2: 0.45267508500699355\n",
      "Cost for it 3: 0.3290680083452168\n",
      "Cost for it 4: 0.2671118319017416\n",
      "Cost for it 5: 0.23038045473270063\n",
      "Cost for it 6: 0.20574665769028372\n",
      "Cost for it 7: 0.1878458220266082\n",
      "Cost for it 8: 0.17411807275164445\n",
      "Cost for it 9: 0.1631800822073996\n",
      "Accuacy 91.89789123196448%\n",
      "Accuracy for fold 9: 0.9189789123196448\n",
      "[0.8755555555555555, 0.9100998890122086, 0.902330743618202, 0.9211986681465039, 0.9378468368479467, 0.9289678135405105, 0.9112097669256382, 0.9223085460599334, 0.9178690344062154, 0.9189789123196448]\n"
     ]
    },
    {
     "data": {
      "text/plain": [
       "0.9146365766432358"
      ]
     },
     "execution_count": 57,
     "metadata": {},
     "output_type": "execute_result"
    }
   ],
   "source": [
    "avg_accuracy = kFoldsCV(10, 10, RDD_shuffled, 1.5, 0)\n",
    "avg_accuracy"
   ]
  },
  {
   "cell_type": "markdown",
   "metadata": {},
   "source": [
    "## Experiments"
   ]
  },
  {
   "cell_type": "code",
   "execution_count": null,
   "metadata": {},
   "outputs": [],
   "source": [
    "elapsed_times = {}\n",
    "start = time.time()\n",
    "\n",
    "for cores in range(1,9,1):\n",
    "    sc.stop()\n",
    "    conf = SparkConf().set(\"spark.executor.cores\", cores).setAppName(\"appName\").setMaster(\"local\")\n",
    "    sc = SparkContext(conf=conf)\n",
    "    \n",
    "    print(f\"---------- Starting execution with {cores} cores ----------\")\n",
    "    \n",
    "    # ---------- Execution ----------\n",
    "    RDD_Xy = readFile(\"../data/botnet_tot_syn_l.csv\")\n",
    "    RDD_Xy_normalized = normalize(RDD_Xy)\n",
    "    RDD_shuffled = shuffleRDD(RDD_Xy_normalized)\n",
    "    avg_accuracy = kFoldsCV(10, 3, RDD_shuffled, 1.5, 0)\n",
    "    print(\"Average accuracy for cores {cores}: {avg_accuracy}\")\n",
    "    \n",
    "    # ---------- Execution ----------\n",
    "\n",
    "    end = time.time()\n",
    "    print(f\"---------- Finished execution with {cores} cores ----------\")\n",
    "    elapsed_time = end - start\n",
    "    elapsed_times[cores] = elapsed_time\n",
    "    print(f\"Elapsed time for cores {cores} is {elapsed_time} seconds\")"
   ]
  }
 ],
 "metadata": {
  "kernelspec": {
   "display_name": "Python 3 (ipykernel)",
   "language": "python",
   "name": "python3"
  },
  "language_info": {
   "codemirror_mode": {
    "name": "ipython",
    "version": 3
   },
   "file_extension": ".py",
   "mimetype": "text/x-python",
   "name": "python",
   "nbconvert_exporter": "python",
   "pygments_lexer": "ipython3",
   "version": "3.7.10"
  }
 },
 "nbformat": 4,
 "nbformat_minor": 4
}
