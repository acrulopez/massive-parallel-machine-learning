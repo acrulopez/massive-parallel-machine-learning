{
 "cells": [
  {
   "cell_type": "markdown",
   "id": "61ef56c4-20ca-459d-9eef-a483a5465ce0",
   "metadata": {},
   "source": [
    "# Centralized version"
   ]
  },
  {
   "cell_type": "code",
   "execution_count": 1,
   "id": "8c080482-56c0-41f4-b02c-25ba0de75343",
   "metadata": {},
   "outputs": [],
   "source": [
    "import numpy as np\n",
    "import math"
   ]
  },
  {
   "cell_type": "markdown",
   "id": "c792607f-0c3e-4792-98e4-e92606ec52ab",
   "metadata": {
    "tags": []
   },
   "source": [
    "## Functions"
   ]
  },
  {
   "cell_type": "markdown",
   "id": "cf5b4597-2427-46cb-81fc-c7061dbf3ed6",
   "metadata": {},
   "source": [
    "### Auxiliar functions"
   ]
  },
  {
   "cell_type": "code",
   "execution_count": 2,
   "id": "5fd22ee1-c62e-4c9e-8049-54a1686ae936",
   "metadata": {},
   "outputs": [],
   "source": [
    "def sigmoid(x):\n",
    "    return 1 / (1 + math.exp(-x))"
   ]
  },
  {
   "cell_type": "code",
   "execution_count": 3,
   "id": "69b24fe5-61e7-468c-a652-96716b4f4ad4",
   "metadata": {},
   "outputs": [],
   "source": [
    "def cost_function(w, x, y, y_hat):\n",
    "    # Computes the cost function for all the training samples\n",
    "    m = x.shape[0]\n",
    "    return -(1 / m) * np.sum(\n",
    "        y * np.log(y_hat) + (1 - y)\n",
    "        * np.log(1 - y_hat)\n",
    "    )"
   ]
  },
  {
   "cell_type": "markdown",
   "id": "38daca3b-6372-48e4-9283-cdfa2ec92f60",
   "metadata": {},
   "source": [
    "### Mandatory functions"
   ]
  },
  {
   "cell_type": "code",
   "execution_count": 4,
   "id": "65dece0d-7ae0-4b2c-98dc-2508d35102e4",
   "metadata": {},
   "outputs": [],
   "source": [
    "def readFile(filename):\n",
    "    return np.genfromtxt(filename, delimiter=',')"
   ]
  },
  {
   "cell_type": "code",
   "execution_count": 5,
   "id": "0f52d20b-4931-40d9-8cdb-6cdbb31a18e8",
   "metadata": {},
   "outputs": [],
   "source": [
    "def normalize(RDD_Xy):\n",
    "    x = RDD_Xy[:,0:-1]\n",
    "    y = RDD_Xy[:,-1]\n",
    "    means = x.mean(axis=0)\n",
    "    stds = x.std(axis=0)\n",
    "    return np.c_[(x - means) / stds, y]"
   ]
  },
  {
   "cell_type": "code",
   "execution_count": 6,
   "id": "01ea79a1-ff8f-4a01-960b-856587a33c59",
   "metadata": {},
   "outputs": [],
   "source": [
    "def train(RDD_Xy, iterations, learning_rate, lambda_reg):\n",
    "    \n",
    "    m = RDD_Xy.shape[0]\n",
    "    n = RDD_Xy.shape[1]\n",
    "    \n",
    "    X = np.c_[np.ones(m), RDD_Xy[:,0:-1]]\n",
    "    y = RDD_Xy[:,-1]\n",
    "    \n",
    "    w = np.random.rand(n)\n",
    "    \n",
    "    for it in range(iterations):\n",
    "        y_hat = np.array([sigmoid(x) for x in np.matmul(X, w)])\n",
    "        \n",
    "        print(f\"Cost for it {it}:\", cost_function(w, X, y, y_hat))\n",
    "        \n",
    "        dw = ((X.transpose() * (y_hat - y)).sum(axis=1) + lambda_reg * w)/m\n",
    "        w -= learning_rate * dw\n",
    "              \n",
    "    return w"
   ]
  },
  {
   "cell_type": "code",
   "execution_count": 7,
   "id": "b9f850ad-0bf9-4f3d-bc9c-4f2defae9e3e",
   "metadata": {},
   "outputs": [],
   "source": [
    "def accuracy(w, RDD_Xy):\n",
    "    m = RDD_Xy.shape[0]\n",
    "    \n",
    "    X = np.c_[np.ones(m), RDD_Xy[:,0:-1]]\n",
    "    y = RDD_Xy[:,-1]\n",
    "    \n",
    "    y_hat = predict(w, X)\n",
    "    \n",
    "    return np.sum(y_hat == y)/len(y)"
   ]
  },
  {
   "cell_type": "code",
   "execution_count": 8,
   "id": "bd0f39a5-8340-4166-a5d0-b75ca895dbe5",
   "metadata": {},
   "outputs": [],
   "source": [
    "def predict(w, X):\n",
    "    y_hat = np.array([np.around(sigmoid(x),0) for x in np.matmul(X, w)])\n",
    "    \n",
    "    return y_hat"
   ]
  },
  {
   "cell_type": "markdown",
   "id": "f898b584-6f73-4d99-a527-7d962057bb13",
   "metadata": {},
   "source": [
    "## Testing"
   ]
  },
  {
   "cell_type": "code",
   "execution_count": 9,
   "id": "ed6e012a-9872-489a-8a1f-57b1a2a5f126",
   "metadata": {
    "tags": []
   },
   "outputs": [],
   "source": [
    "data = readFile(\"../data/botnet_tot_syn_l.csv\")"
   ]
  },
  {
   "cell_type": "code",
   "execution_count": 10,
   "id": "b7a7afc4-d907-4a69-ac8e-5a7cb391b5ee",
   "metadata": {},
   "outputs": [],
   "source": [
    "data = normalize(data)"
   ]
  },
  {
   "cell_type": "code",
   "execution_count": 11,
   "id": "f649c0b3-d9b8-439b-88f1-84d5b8d60be9",
   "metadata": {},
   "outputs": [
    {
     "name": "stdout",
     "output_type": "stream",
     "text": [
      "Cost for it 0: 1.320980271581351\n",
      "Cost for it 1: 1.2654769566221535\n",
      "Cost for it 2: 1.2125469551723587\n",
      "Cost for it 3: 1.1621492294970766\n",
      "Cost for it 4: 1.1142312209744811\n",
      "Cost for it 5: 1.0687300895196385\n",
      "Cost for it 6: 1.0255742150367007\n",
      "Cost for it 7: 0.9846848681695745\n",
      "Cost for it 8: 0.9459779426637646\n",
      "Cost for it 9: 0.9093656425428364\n",
      "Cost for it 10: 0.8747580331113404\n",
      "Cost for it 11: 0.8420643908530959\n",
      "Cost for it 12: 0.811194317330363\n",
      "Cost for it 13: 0.7820586104633183\n",
      "Cost for it 14: 0.7545699091561351\n"
     ]
    }
   ],
   "source": [
    "w = train(data, 15, 0.1, 0.1)"
   ]
  },
  {
   "cell_type": "code",
   "execution_count": 12,
   "id": "c91f0ac1-1ac3-4274-8c69-5faf3e996249",
   "metadata": {},
   "outputs": [
    {
     "data": {
      "text/plain": [
       "0.615927"
      ]
     },
     "execution_count": 12,
     "metadata": {},
     "output_type": "execute_result"
    }
   ],
   "source": [
    "acc = accuracy(w, data)\n",
    "acc"
   ]
  }
 ],
 "metadata": {
  "kernelspec": {
   "display_name": "Python 3 (ipykernel)",
   "language": "python",
   "name": "python3"
  },
  "language_info": {
   "codemirror_mode": {
    "name": "ipython",
    "version": 3
   },
   "file_extension": ".py",
   "mimetype": "text/x-python",
   "name": "python",
   "nbconvert_exporter": "python",
   "pygments_lexer": "ipython3",
   "version": "3.7.10"
  }
 },
 "nbformat": 4,
 "nbformat_minor": 5
}
